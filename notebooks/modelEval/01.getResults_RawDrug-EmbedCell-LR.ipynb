{
 "cells": [
  {
   "cell_type": "markdown",
   "id": "0c1590e5",
   "metadata": {},
   "source": [
    "# Load packages"
   ]
  },
  {
   "cell_type": "code",
   "execution_count": 22,
   "id": "a36520d9",
   "metadata": {},
   "outputs": [],
   "source": [
    "import os\n",
    "import numpy as np\n",
    "import pandas as pd\n",
    "\n",
    "import warnings\n",
    "warnings.filterwarnings('ignore')"
   ]
  },
  {
   "cell_type": "code",
   "execution_count": 23,
   "id": "5137fb3a",
   "metadata": {},
   "outputs": [],
   "source": [
    "from scripts.evalModel import evalLogisticModels, getPredDist"
   ]
  },
  {
   "cell_type": "markdown",
   "id": "fbd3e001",
   "metadata": {},
   "source": [
    "# Define"
   ]
  },
  {
   "cell_type": "markdown",
   "id": "e3e72d2a",
   "metadata": {},
   "source": [
    "# Data"
   ]
  },
  {
   "cell_type": "markdown",
   "id": "dc94edcd",
   "metadata": {},
   "source": [
    "## Load cell lines"
   ]
  },
  {
   "cell_type": "code",
   "execution_count": 25,
   "id": "17b4bedc",
   "metadata": {},
   "outputs": [],
   "source": [
    "trainRNA = pd.read_csv('../../data/processed/RNA_train_cancergenes.csv', index_col=0)\n",
    "trainCellLines = list(trainRNA.index)\n",
    "\n",
    "testRNA = pd.read_csv('../../data/processed/RNA_test_cancergenes.csv', index_col=0)\n",
    "testCellLines = list(testRNA.index)\n",
    "\n",
    "newRNA = pd.read_csv('../../data/processed/RNA_newcancer_cancergenes.csv', index_col=0)\n",
    "newCellLines = list(newRNA.index)"
   ]
  },
  {
   "cell_type": "markdown",
   "id": "3876c3b8",
   "metadata": {},
   "source": [
    "## $\\mathrm{SiamCDR_{LR}}$"
   ]
  },
  {
   "cell_type": "code",
   "execution_count": 26,
   "id": "b751a43e",
   "metadata": {},
   "outputs": [],
   "source": [
    "cdr = pd.read_csv('../../data/processed/drugCellLinePairsData.csv', index_col='DepMap_ID')\n",
    "trainCDR = cdr.loc[trainCellLines, :].reset_index()\n",
    "testCDR = cdr.loc[testCellLines, :].reset_index()\n",
    "newCDR = cdr.loc[newCellLines, :].reset_index()"
   ]
  },
  {
   "cell_type": "code",
   "execution_count": 27,
   "id": "bdfaa7f5",
   "metadata": {},
   "outputs": [],
   "source": [
    "testTemp = testCDR.loc[:, ['DepMap_ID', 'cancer_type', 'name', 'effective']].rename(columns={'DepMap_ID':'cell_line',\n",
    "                                                                                             'name': 'drug',\n",
    "                                                                                             'effective': 'true'})\n",
    "\n",
    "newTemp = newCDR.loc[:, ['DepMap_ID', 'cancer_type', 'name', 'effective']].rename(columns={'DepMap_ID':'cell_line',\n",
    "                                                                                          'name': 'drug',\n",
    "                                                                                          'effective': 'true'})"
   ]
  },
  {
   "cell_type": "markdown",
   "id": "5439e417",
   "metadata": {},
   "source": [
    "# Load drugs"
   ]
  },
  {
   "cell_type": "code",
   "execution_count": 28,
   "id": "41f1d8eb",
   "metadata": {},
   "outputs": [],
   "source": [
    "drugs = pd.read_csv('../../data/processed/drug_fingerprints.csv', index_col=0)"
   ]
  },
  {
   "cell_type": "code",
   "execution_count": 29,
   "id": "c6725f90",
   "metadata": {},
   "outputs": [],
   "source": [
    "trainDrugs = drugs.loc[list(trainCDR.name.values), :].to_numpy()\n",
    "testDrugs = drugs.loc[list(testCDR.name.values), :].to_numpy()\n",
    "newDrugs = drugs.loc[list(newCDR.name.values), :].to_numpy()\n",
    "\n",
    "trainRNA = trainRNA.loc[list(trainCDR.DepMap_ID.values), :].to_numpy()\n",
    "testRNA = testRNA.loc[list(testCDR.DepMap_ID.values), :].to_numpy()\n",
    "newRNA = newRNA.loc[list(newCDR.DepMap_ID.values), :].to_numpy()"
   ]
  },
  {
   "cell_type": "code",
   "execution_count": 30,
   "id": "efde1c60",
   "metadata": {},
   "outputs": [],
   "source": [
    "trainData = [trainDrugs, trainRNA]\n",
    "trainEff = trainCDR.effective.to_numpy()\n",
    "testData = [testDrugs, testRNA]\n",
    "newData = [newDrugs, newRNA]"
   ]
  },
  {
   "cell_type": "code",
   "execution_count": 31,
   "id": "342c82e3",
   "metadata": {},
   "outputs": [],
   "source": [
    "del cdr, drugs, trainDrugs, testDrugs, newDrugs, trainRNA, testRNA, newRNA"
   ]
  },
  {
   "cell_type": "markdown",
   "id": "42f77b0a",
   "metadata": {},
   "source": [
    "# Model performance"
   ]
  },
  {
   "cell_type": "code",
   "execution_count": 34,
   "id": "3df97aa6",
   "metadata": {},
   "outputs": [],
   "source": [
    "rnaPath = '../../models/cellEncoders/CellLineFewShot_Layers2_Hidden64_DO0-1_AFsigmoid_LR0-001_DR0-99_DS1000'\n",
    "evalLog = evalLogisticModels(trainData.copy(), trainEff, testData.copy(), newData.copy(),\n",
    "                                fusionPath=None, drugPath=None, rnaPath=rnaPath)"
   ]
  },
  {
   "cell_type": "code",
   "execution_count": 35,
   "id": "0c156527",
   "metadata": {},
   "outputs": [
    {
     "name": "stdout",
     "output_type": "stream",
     "text": [
      "Average Cell Line precision @ k on test set\n",
      "\tPrecision@1: 0.9412\n",
      "\tPrecision@2: 0.9118\n",
      "\tPrecision@3: 0.8693\n",
      "\tPrecision@4: 0.8529\n",
      "\tPrecision@5: 0.8275\n",
      "\tPrecision@10: 0.8077\n",
      "\n",
      "Average Cell Line precision @ k on newcancer set\n",
      "\tPrecision@1: 0.9538\n",
      "\tPrecision@2: 0.9077\n",
      "\tPrecision@3: 0.9077\n",
      "\tPrecision@4: 0.8731\n",
      "\tPrecision@5: 0.8585\n",
      "\tPrecision@10: 0.802\n",
      "\n",
      "\n",
      "Test set:\n",
      "\n",
      "\t# of cell lines without effective drug among top-3 recs: 0\n",
      "\t# of unique drugs among top-3 predictions: 16\n",
      "\n",
      "New cancer set\n",
      "No true effective drugs identified in top 3 for ACH-000268 (top drug: sangivamycin)\n",
      "\n",
      "\t# of cell lines without effective drug among top-3 recs: 1\n",
      "\t# of unique drugs among top-3 predictions: 14\n"
     ]
    }
   ],
   "source": [
    "testDF, newDF, testWrong, newWrong, testCounts, newCounts = evalLog.evaluate(testDF=testTemp.copy(), \n",
    "                                                                             newDF=newTemp.copy())"
   ]
  },
  {
   "cell_type": "code",
   "execution_count": 36,
   "id": "c61bbc87",
   "metadata": {},
   "outputs": [
    {
     "name": "stdout",
     "output_type": "stream",
     "text": [
      "Avg STD of predictions for each drug: 0.0162\n"
     ]
    }
   ],
   "source": [
    "testDist = getPredDist(testDF)"
   ]
  },
  {
   "cell_type": "code",
   "execution_count": 37,
   "id": "28c11756",
   "metadata": {},
   "outputs": [
    {
     "name": "stdout",
     "output_type": "stream",
     "text": [
      "Avg STD of predictions for each drug: 0.027\n"
     ]
    }
   ],
   "source": [
    "newDist = getPredDist(newDF)"
   ]
  },
  {
   "cell_type": "code",
   "execution_count": 15,
   "id": "0cc5d2cd",
   "metadata": {},
   "outputs": [
    {
     "data": {
      "text/html": [
       "<div>\n",
       "<style scoped>\n",
       "    .dataframe tbody tr th:only-of-type {\n",
       "        vertical-align: middle;\n",
       "    }\n",
       "\n",
       "    .dataframe tbody tr th {\n",
       "        vertical-align: top;\n",
       "    }\n",
       "\n",
       "    .dataframe thead th {\n",
       "        text-align: right;\n",
       "    }\n",
       "</style>\n",
       "<table border=\"1\" class=\"dataframe\">\n",
       "  <thead>\n",
       "    <tr style=\"text-align: right;\">\n",
       "      <th></th>\n",
       "      <th>1</th>\n",
       "      <th>2</th>\n",
       "      <th>3</th>\n",
       "      <th>total</th>\n",
       "    </tr>\n",
       "  </thead>\n",
       "  <tbody>\n",
       "    <tr>\n",
       "      <th>dolastatin-10</th>\n",
       "      <td>35</td>\n",
       "      <td>0</td>\n",
       "      <td>0</td>\n",
       "      <td>35</td>\n",
       "    </tr>\n",
       "    <tr>\n",
       "      <th>romidepsin</th>\n",
       "      <td>10</td>\n",
       "      <td>21</td>\n",
       "      <td>1</td>\n",
       "      <td>32</td>\n",
       "    </tr>\n",
       "    <tr>\n",
       "      <th>echinomycin</th>\n",
       "      <td>4</td>\n",
       "      <td>14</td>\n",
       "      <td>19</td>\n",
       "      <td>37</td>\n",
       "    </tr>\n",
       "    <tr>\n",
       "      <th>10-hydroxycamptothecin</th>\n",
       "      <td>2</td>\n",
       "      <td>5</td>\n",
       "      <td>12</td>\n",
       "      <td>19</td>\n",
       "    </tr>\n",
       "    <tr>\n",
       "      <th>nemorubicin</th>\n",
       "      <td>1</td>\n",
       "      <td>0</td>\n",
       "      <td>0</td>\n",
       "      <td>1</td>\n",
       "    </tr>\n",
       "    <tr>\n",
       "      <th>YM-155</th>\n",
       "      <td>0</td>\n",
       "      <td>4</td>\n",
       "      <td>5</td>\n",
       "      <td>9</td>\n",
       "    </tr>\n",
       "    <tr>\n",
       "      <th>maytansinol-isobutyrate</th>\n",
       "      <td>0</td>\n",
       "      <td>3</td>\n",
       "      <td>3</td>\n",
       "      <td>6</td>\n",
       "    </tr>\n",
       "    <tr>\n",
       "      <th>genz-644282</th>\n",
       "      <td>0</td>\n",
       "      <td>3</td>\n",
       "      <td>2</td>\n",
       "      <td>5</td>\n",
       "    </tr>\n",
       "    <tr>\n",
       "      <th>sangivamycin</th>\n",
       "      <td>0</td>\n",
       "      <td>1</td>\n",
       "      <td>0</td>\n",
       "      <td>1</td>\n",
       "    </tr>\n",
       "    <tr>\n",
       "      <th>UK-383367</th>\n",
       "      <td>0</td>\n",
       "      <td>1</td>\n",
       "      <td>0</td>\n",
       "      <td>1</td>\n",
       "    </tr>\n",
       "    <tr>\n",
       "      <th>epothilone-b</th>\n",
       "      <td>0</td>\n",
       "      <td>0</td>\n",
       "      <td>3</td>\n",
       "      <td>3</td>\n",
       "    </tr>\n",
       "    <tr>\n",
       "      <th>triptolide</th>\n",
       "      <td>0</td>\n",
       "      <td>0</td>\n",
       "      <td>3</td>\n",
       "      <td>3</td>\n",
       "    </tr>\n",
       "    <tr>\n",
       "      <th>alvespimycin</th>\n",
       "      <td>0</td>\n",
       "      <td>0</td>\n",
       "      <td>1</td>\n",
       "      <td>1</td>\n",
       "    </tr>\n",
       "    <tr>\n",
       "      <th>BGT226</th>\n",
       "      <td>0</td>\n",
       "      <td>0</td>\n",
       "      <td>1</td>\n",
       "      <td>1</td>\n",
       "    </tr>\n",
       "    <tr>\n",
       "      <th>gemcitabine</th>\n",
       "      <td>0</td>\n",
       "      <td>0</td>\n",
       "      <td>1</td>\n",
       "      <td>1</td>\n",
       "    </tr>\n",
       "    <tr>\n",
       "      <th>OTS167</th>\n",
       "      <td>0</td>\n",
       "      <td>0</td>\n",
       "      <td>1</td>\n",
       "      <td>1</td>\n",
       "    </tr>\n",
       "  </tbody>\n",
       "</table>\n",
       "</div>"
      ],
      "text/plain": [
       "                          1   2   3  total\n",
       "dolastatin-10            35   0   0     35\n",
       "romidepsin               10  21   1     32\n",
       "echinomycin               4  14  19     37\n",
       "10-hydroxycamptothecin    2   5  12     19\n",
       "nemorubicin               1   0   0      1\n",
       "YM-155                    0   4   5      9\n",
       "maytansinol-isobutyrate   0   3   3      6\n",
       "genz-644282               0   3   2      5\n",
       "sangivamycin              0   1   0      1\n",
       "UK-383367                 0   1   0      1\n",
       "epothilone-b              0   0   3      3\n",
       "triptolide                0   0   3      3\n",
       "alvespimycin              0   0   1      1\n",
       "BGT226                    0   0   1      1\n",
       "gemcitabine               0   0   1      1\n",
       "OTS167                    0   0   1      1"
      ]
     },
     "execution_count": 15,
     "metadata": {},
     "output_type": "execute_result"
    }
   ],
   "source": [
    "testCounts"
   ]
  },
  {
   "cell_type": "markdown",
   "id": "45b57990",
   "metadata": {},
   "source": [
    "## Cancer precision"
   ]
  },
  {
   "cell_type": "code",
   "execution_count": 18,
   "id": "fa7d5da4",
   "metadata": {},
   "outputs": [],
   "source": [
    "cancerTest, cancerNew = evalLog.getCancerPerformance(testDF.copy(), newDF.copy())"
   ]
  },
  {
   "cell_type": "code",
   "execution_count": 19,
   "id": "04d12d24",
   "metadata": {},
   "outputs": [
    {
     "data": {
      "text/html": [
       "<div>\n",
       "<style scoped>\n",
       "    .dataframe tbody tr th:only-of-type {\n",
       "        vertical-align: middle;\n",
       "    }\n",
       "\n",
       "    .dataframe tbody tr th {\n",
       "        vertical-align: top;\n",
       "    }\n",
       "\n",
       "    .dataframe thead th {\n",
       "        text-align: right;\n",
       "    }\n",
       "</style>\n",
       "<table border=\"1\" class=\"dataframe\">\n",
       "  <thead>\n",
       "    <tr style=\"text-align: right;\">\n",
       "      <th></th>\n",
       "      <th>p1</th>\n",
       "      <th>p2</th>\n",
       "      <th>p3</th>\n",
       "      <th>p4</th>\n",
       "      <th>p5</th>\n",
       "    </tr>\n",
       "  </thead>\n",
       "  <tbody>\n",
       "    <tr>\n",
       "      <th>Bladder Cancer</th>\n",
       "      <td>1.000000</td>\n",
       "      <td>1.000000</td>\n",
       "      <td>1.000000</td>\n",
       "      <td>1.000000</td>\n",
       "      <td>1.000000</td>\n",
       "    </tr>\n",
       "    <tr>\n",
       "      <th>Liver Cancer</th>\n",
       "      <td>1.000000</td>\n",
       "      <td>1.000000</td>\n",
       "      <td>1.000000</td>\n",
       "      <td>1.000000</td>\n",
       "      <td>0.900000</td>\n",
       "    </tr>\n",
       "    <tr>\n",
       "      <th>Endometrial/Uterine Cancer</th>\n",
       "      <td>1.000000</td>\n",
       "      <td>1.000000</td>\n",
       "      <td>1.000000</td>\n",
       "      <td>0.916667</td>\n",
       "      <td>0.866667</td>\n",
       "    </tr>\n",
       "    <tr>\n",
       "      <th>Head and Neck Cancer</th>\n",
       "      <td>1.000000</td>\n",
       "      <td>1.000000</td>\n",
       "      <td>1.000000</td>\n",
       "      <td>0.916667</td>\n",
       "      <td>0.800000</td>\n",
       "    </tr>\n",
       "    <tr>\n",
       "      <th>Colon/Colorectal Cancer</th>\n",
       "      <td>1.000000</td>\n",
       "      <td>1.000000</td>\n",
       "      <td>0.916667</td>\n",
       "      <td>0.937500</td>\n",
       "      <td>0.900000</td>\n",
       "    </tr>\n",
       "    <tr>\n",
       "      <th>Breast Cancer</th>\n",
       "      <td>1.000000</td>\n",
       "      <td>1.000000</td>\n",
       "      <td>0.777778</td>\n",
       "      <td>0.833333</td>\n",
       "      <td>0.800000</td>\n",
       "    </tr>\n",
       "    <tr>\n",
       "      <th>Skin Cancer</th>\n",
       "      <td>1.000000</td>\n",
       "      <td>0.900000</td>\n",
       "      <td>0.800000</td>\n",
       "      <td>0.800000</td>\n",
       "      <td>0.840000</td>\n",
       "    </tr>\n",
       "    <tr>\n",
       "      <th>Ovarian Cancer</th>\n",
       "      <td>1.000000</td>\n",
       "      <td>0.875000</td>\n",
       "      <td>0.833333</td>\n",
       "      <td>0.812500</td>\n",
       "      <td>0.850000</td>\n",
       "    </tr>\n",
       "    <tr>\n",
       "      <th>Brain Cancer</th>\n",
       "      <td>1.000000</td>\n",
       "      <td>0.750000</td>\n",
       "      <td>0.666667</td>\n",
       "      <td>0.687500</td>\n",
       "      <td>0.700000</td>\n",
       "    </tr>\n",
       "    <tr>\n",
       "      <th>Lung Cancer</th>\n",
       "      <td>0.923077</td>\n",
       "      <td>0.884615</td>\n",
       "      <td>0.871795</td>\n",
       "      <td>0.884615</td>\n",
       "      <td>0.846154</td>\n",
       "    </tr>\n",
       "    <tr>\n",
       "      <th>Pancreatic Cancer</th>\n",
       "      <td>0.750000</td>\n",
       "      <td>0.875000</td>\n",
       "      <td>0.833333</td>\n",
       "      <td>0.750000</td>\n",
       "      <td>0.700000</td>\n",
       "    </tr>\n",
       "    <tr>\n",
       "      <th>Esophageal Cancer</th>\n",
       "      <td>0.666667</td>\n",
       "      <td>0.833333</td>\n",
       "      <td>0.888889</td>\n",
       "      <td>0.750000</td>\n",
       "      <td>0.733333</td>\n",
       "    </tr>\n",
       "  </tbody>\n",
       "</table>\n",
       "</div>"
      ],
      "text/plain": [
       "                                  p1        p2        p3        p4        p5\n",
       "Bladder Cancer              1.000000  1.000000  1.000000  1.000000  1.000000\n",
       "Liver Cancer                1.000000  1.000000  1.000000  1.000000  0.900000\n",
       "Endometrial/Uterine Cancer  1.000000  1.000000  1.000000  0.916667  0.866667\n",
       "Head and Neck Cancer        1.000000  1.000000  1.000000  0.916667  0.800000\n",
       "Colon/Colorectal Cancer     1.000000  1.000000  0.916667  0.937500  0.900000\n",
       "Breast Cancer               1.000000  1.000000  0.777778  0.833333  0.800000\n",
       "Skin Cancer                 1.000000  0.900000  0.800000  0.800000  0.840000\n",
       "Ovarian Cancer              1.000000  0.875000  0.833333  0.812500  0.850000\n",
       "Brain Cancer                1.000000  0.750000  0.666667  0.687500  0.700000\n",
       "Lung Cancer                 0.923077  0.884615  0.871795  0.884615  0.846154\n",
       "Pancreatic Cancer           0.750000  0.875000  0.833333  0.750000  0.700000\n",
       "Esophageal Cancer           0.666667  0.833333  0.888889  0.750000  0.733333"
      ]
     },
     "execution_count": 19,
     "metadata": {},
     "output_type": "execute_result"
    }
   ],
   "source": [
    "cancerTest"
   ]
  },
  {
   "cell_type": "code",
   "execution_count": 20,
   "id": "d2475b6f",
   "metadata": {},
   "outputs": [
    {
     "data": {
      "text/plain": [
       "p1    0.9450\n",
       "p2    0.9265\n",
       "p3    0.8824\n",
       "p4    0.8574\n",
       "p5    0.8280\n",
       "dtype: float64"
      ]
     },
     "execution_count": 20,
     "metadata": {},
     "output_type": "execute_result"
    }
   ],
   "source": [
    "round(cancerTest.mean(), 4)"
   ]
  },
  {
   "cell_type": "code",
   "execution_count": 21,
   "id": "705b2dfb",
   "metadata": {},
   "outputs": [
    {
     "data": {
      "text/html": [
       "<div>\n",
       "<style scoped>\n",
       "    .dataframe tbody tr th:only-of-type {\n",
       "        vertical-align: middle;\n",
       "    }\n",
       "\n",
       "    .dataframe tbody tr th {\n",
       "        vertical-align: top;\n",
       "    }\n",
       "\n",
       "    .dataframe thead th {\n",
       "        text-align: right;\n",
       "    }\n",
       "</style>\n",
       "<table border=\"1\" class=\"dataframe\">\n",
       "  <thead>\n",
       "    <tr style=\"text-align: right;\">\n",
       "      <th></th>\n",
       "      <th>p1</th>\n",
       "      <th>p2</th>\n",
       "      <th>p3</th>\n",
       "      <th>p4</th>\n",
       "      <th>p5</th>\n",
       "    </tr>\n",
       "  </thead>\n",
       "  <tbody>\n",
       "    <tr>\n",
       "      <th>Rhabdoid</th>\n",
       "      <td>1.000000</td>\n",
       "      <td>1.000000</td>\n",
       "      <td>1.000000</td>\n",
       "      <td>1.000000</td>\n",
       "      <td>0.950000</td>\n",
       "    </tr>\n",
       "    <tr>\n",
       "      <th>Sarcoma</th>\n",
       "      <td>1.000000</td>\n",
       "      <td>1.000000</td>\n",
       "      <td>1.000000</td>\n",
       "      <td>1.000000</td>\n",
       "      <td>0.933333</td>\n",
       "    </tr>\n",
       "    <tr>\n",
       "      <th>Prostate Cancer</th>\n",
       "      <td>1.000000</td>\n",
       "      <td>1.000000</td>\n",
       "      <td>1.000000</td>\n",
       "      <td>1.000000</td>\n",
       "      <td>0.900000</td>\n",
       "    </tr>\n",
       "    <tr>\n",
       "      <th>Gastric Cancer</th>\n",
       "      <td>1.000000</td>\n",
       "      <td>1.000000</td>\n",
       "      <td>1.000000</td>\n",
       "      <td>0.946429</td>\n",
       "      <td>0.942857</td>\n",
       "    </tr>\n",
       "    <tr>\n",
       "      <th>Gallbladder Cancer</th>\n",
       "      <td>1.000000</td>\n",
       "      <td>1.000000</td>\n",
       "      <td>1.000000</td>\n",
       "      <td>0.750000</td>\n",
       "      <td>0.600000</td>\n",
       "    </tr>\n",
       "    <tr>\n",
       "      <th>Bone Cancer</th>\n",
       "      <td>1.000000</td>\n",
       "      <td>0.944444</td>\n",
       "      <td>0.888889</td>\n",
       "      <td>0.861111</td>\n",
       "      <td>0.844444</td>\n",
       "    </tr>\n",
       "    <tr>\n",
       "      <th>Thyroid Cancer</th>\n",
       "      <td>1.000000</td>\n",
       "      <td>0.875000</td>\n",
       "      <td>0.875000</td>\n",
       "      <td>0.875000</td>\n",
       "      <td>0.900000</td>\n",
       "    </tr>\n",
       "    <tr>\n",
       "      <th>Neuroblastoma</th>\n",
       "      <td>1.000000</td>\n",
       "      <td>0.833333</td>\n",
       "      <td>0.888889</td>\n",
       "      <td>0.916667</td>\n",
       "      <td>0.866667</td>\n",
       "    </tr>\n",
       "    <tr>\n",
       "      <th>Kidney Cancer</th>\n",
       "      <td>0.846154</td>\n",
       "      <td>0.769231</td>\n",
       "      <td>0.769231</td>\n",
       "      <td>0.711538</td>\n",
       "      <td>0.707692</td>\n",
       "    </tr>\n",
       "    <tr>\n",
       "      <th>Bile Duct Cancer</th>\n",
       "      <td>0.800000</td>\n",
       "      <td>0.800000</td>\n",
       "      <td>0.866667</td>\n",
       "      <td>0.800000</td>\n",
       "      <td>0.840000</td>\n",
       "    </tr>\n",
       "  </tbody>\n",
       "</table>\n",
       "</div>"
      ],
      "text/plain": [
       "                          p1        p2        p3        p4        p5\n",
       "Rhabdoid            1.000000  1.000000  1.000000  1.000000  0.950000\n",
       "Sarcoma             1.000000  1.000000  1.000000  1.000000  0.933333\n",
       "Prostate Cancer     1.000000  1.000000  1.000000  1.000000  0.900000\n",
       "Gastric Cancer      1.000000  1.000000  1.000000  0.946429  0.942857\n",
       "Gallbladder Cancer  1.000000  1.000000  1.000000  0.750000  0.600000\n",
       "Bone Cancer         1.000000  0.944444  0.888889  0.861111  0.844444\n",
       "Thyroid Cancer      1.000000  0.875000  0.875000  0.875000  0.900000\n",
       "Neuroblastoma       1.000000  0.833333  0.888889  0.916667  0.866667\n",
       "Kidney Cancer       0.846154  0.769231  0.769231  0.711538  0.707692\n",
       "Bile Duct Cancer    0.800000  0.800000  0.866667  0.800000  0.840000"
      ]
     },
     "execution_count": 21,
     "metadata": {},
     "output_type": "execute_result"
    }
   ],
   "source": [
    "cancerNew"
   ]
  },
  {
   "cell_type": "code",
   "execution_count": 22,
   "id": "23cd9091",
   "metadata": {},
   "outputs": [
    {
     "data": {
      "text/plain": [
       "p1    0.9646\n",
       "p2    0.9222\n",
       "p3    0.9289\n",
       "p4    0.8861\n",
       "p5    0.8485\n",
       "dtype: float64"
      ]
     },
     "execution_count": 22,
     "metadata": {},
     "output_type": "execute_result"
    }
   ],
   "source": [
    "round(cancerNew.mean(), 4)"
   ]
  },
  {
   "cell_type": "code",
   "execution_count": null,
   "id": "09e96747",
   "metadata": {},
   "outputs": [],
   "source": []
  }
 ],
 "metadata": {
  "kernelspec": {
   "display_name": "Python3.8 (tf-2.2)",
   "language": "python",
   "name": "tf-gpu"
  },
  "language_info": {
   "codemirror_mode": {
    "name": "ipython",
    "version": 3
   },
   "file_extension": ".py",
   "mimetype": "text/x-python",
   "name": "python",
   "nbconvert_exporter": "python",
   "pygments_lexer": "ipython3",
   "version": "3.8.12"
  }
 },
 "nbformat": 4,
 "nbformat_minor": 5
}
