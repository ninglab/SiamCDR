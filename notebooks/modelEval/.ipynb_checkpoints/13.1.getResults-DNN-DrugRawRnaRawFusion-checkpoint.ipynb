{
 "cells": [
  {
   "cell_type": "markdown",
   "id": "5fb6542f",
   "metadata": {},
   "source": [
    "# Load packages"
   ]
  },
  {
   "cell_type": "code",
   "execution_count": 1,
   "id": "93e2fc71",
   "metadata": {},
   "outputs": [],
   "source": [
    "import os\n",
    "import numpy as np\n",
    "import pandas as pd\n",
    "\n",
    "import warnings\n",
    "warnings.filterwarnings('ignore')"
   ]
  },
  {
   "cell_type": "code",
   "execution_count": 2,
   "id": "b0dc1798",
   "metadata": {},
   "outputs": [],
   "source": [
    "from scripts.evalModel import evalFullModel"
   ]
  },
  {
   "cell_type": "markdown",
   "id": "aadf26bc",
   "metadata": {},
   "source": [
    "# Define"
   ]
  },
  {
   "cell_type": "code",
   "execution_count": 3,
   "id": "8b1f45c6",
   "metadata": {},
   "outputs": [],
   "source": [
    "modelPath = '/fs/scratch/PCON0041/PatrickLawrence/cancer-drug-response/fewShot/cdr/rawDrug_rawRNA_fused/'\n",
    "datasets = ['test', 'newcancer']"
   ]
  },
  {
   "cell_type": "markdown",
   "id": "b320b5c2",
   "metadata": {},
   "source": [
    "Below are all the var definitions and commands to run all fused DNN tuning"
   ]
  },
  {
   "cell_type": "code",
   "execution_count": 4,
   "id": "df031b41",
   "metadata": {},
   "outputs": [],
   "source": [
    "# de1=/users/PAS1475/lawrencep487/cancer-drug-response/fs-cdr/models/drugEncoders/DrugFewShot_Layers2_Hidden64_DO0-1_AFrelu_LR0-01_DR0-99_DS1000\n",
    "# de2=/users/PAS1475/lawrencep487/cancer-drug-response/fs-cdr/models/drugEncoders/DrugFewShot_Layers1_Hidden64_DO0-1_AFrelu_LR0-001_DR0-99_DS1000\n",
    "# ce=/users/PAS1475/lawrencep487/cancer-drug-response/fs-cdr/models/cellEncoders/CellLineFewShot_Layers2_Hidden64_DO0-1_AFsigmoid_LR0-001_DR0-99_DS1000\n",
    "\n",
    "# frr=/users/PAS1475/lawrencep487/cancer-drug-response/fs-cdr/models/fusionEncoders/FusionFewShotRawDrugRawCell_NL128_64_32_DO0-1_AFrelu_LR0-001_DR0-99_DS1024_BYrna\n",
    "# fer=/users/PAS1475/lawrencep487/cancer-drug-response/fs-cdr/models/fusionEncoders/FusionFewShotEmbedDrugRawCell_NL128_32_DO0-1_AFrelu_LR0-001_DR0-99_DS1024_BYrna\n",
    "# fre=/users/PAS1475/lawrencep487/cancer-drug-response/fs-cdr/models/fusionEncoders/FusionFewShotRawDrugEmbedCell_NL64_32_DO0-1_AFrelu_LR0-001_DR0-99_DS1024_BYrna\n",
    "# fee=/users/PAS1475/lawrencep487/cancer-drug-response/fs-cdr/models/fusionEncoders/FusionFewShotEmbedDrugEmbedCell_NL64_64_64_DO0-0_AFrelu_LR0-001_DR0-99_DS1024_BYrna\n",
    "\n",
    "# rrf=/fs/scratch/PCON0041/PatrickLawrence/cancer-drug-response/fewShot/cdr/rawDrug_rawRNA_fused\n",
    "# erf=/fs/scratch/PCON0041/PatrickLawrence/cancer-drug-response/fewShot/cdr/embedDrug_rawRNA_fused\n",
    "# ref=/fs/scratch/PCON0041/PatrickLawrence/cancer-drug-response/fewShot/cdr/rawDrug_embedRNA_fused\n",
    "# eef=/fs/scratch/PCON0041/PatrickLawrence/cancer-drug-response/fewShot/cdr/embedDrug_embedRNA_fusedV2\n",
    "\n",
    "# python src/modelTuning/initFS-CDR.py --parent $rrf --fusionEncoder $frr\n",
    "# python src/modelTuning/initFS-CDR.py --parent $erf --drugEncoder $de1 --fusionEncoder $fer\n",
    "# python src/modelTuning/initFS-CDR.py --parent $ref --cellEncoder $ce --fusionEncoder $fre\n",
    "# python src/modelTuning/initFS-CDR.py --parent $eef --drugEncoder $de2 --cellEncoder $ce --fusionEncoder $fee\n"
   ]
  },
  {
   "cell_type": "markdown",
   "id": "3178403d",
   "metadata": {},
   "source": [
    "# FS-CDR Performance"
   ]
  },
  {
   "cell_type": "code",
   "execution_count": 4,
   "id": "9a63564a",
   "metadata": {},
   "outputs": [],
   "source": [
    "modelEval = evalFullModel(modelPath, modelType='fsCDR')"
   ]
  },
  {
   "cell_type": "code",
   "execution_count": 5,
   "id": "6cfedc15",
   "metadata": {},
   "outputs": [
    {
     "name": "stdout",
     "output_type": "stream",
     "text": [
      "Model: Fused-FewShotCDRRawDrugRawCell_NL64_32_16_DO0-3_AFrelu_LR0-01_DR0-99_DS500_preds.csv\n",
      "\tPrecision@1: 0.6275\n",
      "\tPrecision@2: 0.5392\n",
      "\tPrecision@3: 0.5294\n",
      "\tPrecision@4: 0.5294\n",
      "\tPrecision@5: 0.5255\n",
      "\tPrecision@10: 0.5564\n",
      "\n",
      "Best model with repsect to precision@1:\n",
      "Fused-FewShotCDRRawDrugRawCell_NL64_32_16_DO0-3_AFrelu_LR0-01_DR0-99_DS500 (0.6275)\n"
     ]
    }
   ],
   "source": [
    "bestModel1 = modelEval.iterateModels(datasets[0], at=1, thresh=0.6)"
   ]
  },
  {
   "cell_type": "code",
   "execution_count": 6,
   "id": "97098964",
   "metadata": {},
   "outputs": [
    {
     "name": "stdout",
     "output_type": "stream",
     "text": [
      "Model: Fused-FewShotCDRRawDrugRawCell_NL16_16_16_DO0-3_AFrelu_LR0-01_DR0-99_DS500_preds.csv\n",
      "\tPrecision@1: 0.451\n",
      "\tPrecision@2: 0.4804\n",
      "\tPrecision@3: 0.4837\n",
      "\tPrecision@4: 0.5\n",
      "\tPrecision@5: 0.5176\n",
      "\tPrecision@10: 0.5641\n",
      "\n",
      "Model: Fused-FewShotCDRRawDrugRawCell_NL64_32_16_DO0-3_AFrelu_LR0-01_DR0-99_DS500_preds.csv\n",
      "\tPrecision@1: 0.6275\n",
      "\tPrecision@2: 0.5392\n",
      "\tPrecision@3: 0.5294\n",
      "\tPrecision@4: 0.5294\n",
      "\tPrecision@5: 0.5255\n",
      "\tPrecision@10: 0.5564\n",
      "\n",
      "Model: Fused-FewShotCDRRawDrugRawCell_NL64_32_8_DO0-3_AFrelu_LR0-01_DR0-99_DS50_preds.csv\n",
      "\tPrecision@1: 0.5686\n",
      "\tPrecision@2: 0.549\n",
      "\tPrecision@3: 0.549\n",
      "\tPrecision@4: 0.5294\n",
      "\tPrecision@5: 0.5333\n",
      "\tPrecision@10: 0.5974\n",
      "\n",
      "Model: Fused-FewShotCDRRawDrugRawCell_NL64_16_8_DO0-3_AFrelu_LR0-01_DR0-99_DS50_preds.csv\n",
      "\tPrecision@1: 0.549\n",
      "\tPrecision@2: 0.5\n",
      "\tPrecision@3: 0.5163\n",
      "\tPrecision@4: 0.549\n",
      "\tPrecision@5: 0.5608\n",
      "\tPrecision@10: 0.5769\n",
      "\n",
      "Best model with repsect to precision@5:\n",
      "Fused-FewShotCDRRawDrugRawCell_NL64_16_8_DO0-3_AFrelu_LR0-01_DR0-99_DS50 (0.5608)\n"
     ]
    }
   ],
   "source": [
    "bestModel5 = modelEval.iterateModels(datasets[0], at=5, thresh=0.5)"
   ]
  },
  {
   "cell_type": "code",
   "execution_count": 8,
   "id": "08e92af4",
   "metadata": {},
   "outputs": [
    {
     "name": "stdout",
     "output_type": "stream",
     "text": [
      "Best model same @ k=1 and k=5: False\n"
     ]
    }
   ],
   "source": [
    "print(f\"Best model same @ k=1 and k=5: {bestModel1==bestModel5}\")"
   ]
  },
  {
   "cell_type": "code",
   "execution_count": 21,
   "id": "2dea394a",
   "metadata": {},
   "outputs": [],
   "source": [
    "# bestModel = 'Fused-FewShotCDRRawDrugRawCell_NL64_32_8_DO0-3_AFrelu_LR0-01_DR0-99_DS50'\n",
    "bestModel = bestModel1"
   ]
  },
  {
   "cell_type": "markdown",
   "id": "e7c145d7",
   "metadata": {},
   "source": [
    "## Eval best on test set"
   ]
  },
  {
   "cell_type": "code",
   "execution_count": 22,
   "id": "daccb56b",
   "metadata": {},
   "outputs": [
    {
     "name": "stdout",
     "output_type": "stream",
     "text": [
      "Average Cell Line precision @ k\n",
      "Model: Fused-FewShotCDRRawDrugRawCell_NL64_32_16_DO0-3_AFrelu_LR0-01_DR0-99_DS500\n",
      "\tPrecision@1: 0.6275\n",
      "\tPrecision@2: 0.5392\n",
      "\tPrecision@3: 0.5294\n",
      "\tPrecision@4: 0.5294\n",
      "\tPrecision@5: 0.5255\n",
      "\tPrecision@10: 0.5564\n",
      "\n",
      "Top ranked drug for each cell line:\n",
      "No true effective drugs identified in top 3 for ACH-000329 (top drug: tanespimycin)\n",
      "No true effective drugs identified in top 3 for ACH-000450 (top drug: PF-03758309)\n",
      "No true effective drugs identified in top 3 for ACH-000510 (top drug: deforolimus)\n",
      "No true effective drugs identified in top 3 for ACH-000527 (top drug: PF-03758309)\n",
      "No true effective drugs identified in top 3 for ACH-000650 (top drug: LY2183240)\n",
      "No true effective drugs identified in top 3 for ACH-000665 (top drug: ryuvidine)\n",
      "No true effective drugs identified in top 3 for ACH-000824 (top drug: ryuvidine)\n",
      "No true effective drugs identified in top 3 for ACH-000860 (top drug: deforolimus)\n",
      "\n",
      "# cell lines without highly effective drug among top-3 predictions: 8\n",
      "\n",
      "# of unique drugs among top-3 predictions: 43\n"
     ]
    },
    {
     "data": {
      "text/html": [
       "<div>\n",
       "<style scoped>\n",
       "    .dataframe tbody tr th:only-of-type {\n",
       "        vertical-align: middle;\n",
       "    }\n",
       "\n",
       "    .dataframe tbody tr th {\n",
       "        vertical-align: top;\n",
       "    }\n",
       "\n",
       "    .dataframe thead th {\n",
       "        text-align: right;\n",
       "    }\n",
       "</style>\n",
       "<table border=\"1\" class=\"dataframe\">\n",
       "  <thead>\n",
       "    <tr style=\"text-align: right;\">\n",
       "      <th></th>\n",
       "      <th>1</th>\n",
       "      <th>2</th>\n",
       "      <th>3</th>\n",
       "      <th>total</th>\n",
       "    </tr>\n",
       "  </thead>\n",
       "  <tbody>\n",
       "    <tr>\n",
       "      <th>epothilone-b</th>\n",
       "      <td>12</td>\n",
       "      <td>1</td>\n",
       "      <td>1</td>\n",
       "      <td>14</td>\n",
       "    </tr>\n",
       "    <tr>\n",
       "      <th>OTS167</th>\n",
       "      <td>9</td>\n",
       "      <td>1</td>\n",
       "      <td>0</td>\n",
       "      <td>10</td>\n",
       "    </tr>\n",
       "    <tr>\n",
       "      <th>echinomycin</th>\n",
       "      <td>7</td>\n",
       "      <td>5</td>\n",
       "      <td>0</td>\n",
       "      <td>12</td>\n",
       "    </tr>\n",
       "    <tr>\n",
       "      <th>mitoxantrone</th>\n",
       "      <td>4</td>\n",
       "      <td>3</td>\n",
       "      <td>4</td>\n",
       "      <td>11</td>\n",
       "    </tr>\n",
       "    <tr>\n",
       "      <th>PF-03758309</th>\n",
       "      <td>4</td>\n",
       "      <td>1</td>\n",
       "      <td>1</td>\n",
       "      <td>6</td>\n",
       "    </tr>\n",
       "  </tbody>\n",
       "</table>\n",
       "</div>"
      ],
      "text/plain": [
       "               1  2  3  total\n",
       "epothilone-b  12  1  1     14\n",
       "OTS167         9  1  0     10\n",
       "echinomycin    7  5  0     12\n",
       "mitoxantrone   4  3  4     11\n",
       "PF-03758309    4  1  1      6"
      ]
     },
     "execution_count": 22,
     "metadata": {},
     "output_type": "execute_result"
    }
   ],
   "source": [
    "testPreds, testWrong, testCounts = modelEval.iterateModels(datasets[0], modelName=bestModel)\n",
    "testCounts.head()"
   ]
  },
  {
   "cell_type": "code",
   "execution_count": 23,
   "id": "aa50121c",
   "metadata": {},
   "outputs": [
    {
     "data": {
      "text/html": [
       "<div>\n",
       "<style scoped>\n",
       "    .dataframe tbody tr th:only-of-type {\n",
       "        vertical-align: middle;\n",
       "    }\n",
       "\n",
       "    .dataframe tbody tr th {\n",
       "        vertical-align: top;\n",
       "    }\n",
       "\n",
       "    .dataframe thead th {\n",
       "        text-align: right;\n",
       "    }\n",
       "</style>\n",
       "<table border=\"1\" class=\"dataframe\">\n",
       "  <thead>\n",
       "    <tr style=\"text-align: right;\">\n",
       "      <th></th>\n",
       "      <th>p1</th>\n",
       "      <th>p2</th>\n",
       "      <th>p3</th>\n",
       "      <th>p4</th>\n",
       "      <th>p5</th>\n",
       "    </tr>\n",
       "  </thead>\n",
       "  <tbody>\n",
       "    <tr>\n",
       "      <th>Head and Neck Cancer</th>\n",
       "      <td>1.000000</td>\n",
       "      <td>1.000000</td>\n",
       "      <td>1.000000</td>\n",
       "      <td>0.916667</td>\n",
       "      <td>0.866667</td>\n",
       "    </tr>\n",
       "    <tr>\n",
       "      <th>Colon/Colorectal Cancer</th>\n",
       "      <td>1.000000</td>\n",
       "      <td>0.625000</td>\n",
       "      <td>0.666667</td>\n",
       "      <td>0.750000</td>\n",
       "      <td>0.800000</td>\n",
       "    </tr>\n",
       "    <tr>\n",
       "      <th>Pancreatic Cancer</th>\n",
       "      <td>0.750000</td>\n",
       "      <td>0.625000</td>\n",
       "      <td>0.666667</td>\n",
       "      <td>0.625000</td>\n",
       "      <td>0.600000</td>\n",
       "    </tr>\n",
       "    <tr>\n",
       "      <th>Brain Cancer</th>\n",
       "      <td>0.750000</td>\n",
       "      <td>0.625000</td>\n",
       "      <td>0.666667</td>\n",
       "      <td>0.500000</td>\n",
       "      <td>0.500000</td>\n",
       "    </tr>\n",
       "    <tr>\n",
       "      <th>Ovarian Cancer</th>\n",
       "      <td>0.750000</td>\n",
       "      <td>0.500000</td>\n",
       "      <td>0.333333</td>\n",
       "      <td>0.375000</td>\n",
       "      <td>0.450000</td>\n",
       "    </tr>\n",
       "    <tr>\n",
       "      <th>Bladder Cancer</th>\n",
       "      <td>0.666667</td>\n",
       "      <td>0.666667</td>\n",
       "      <td>0.777778</td>\n",
       "      <td>0.666667</td>\n",
       "      <td>0.666667</td>\n",
       "    </tr>\n",
       "    <tr>\n",
       "      <th>Endometrial/Uterine Cancer</th>\n",
       "      <td>0.666667</td>\n",
       "      <td>0.666667</td>\n",
       "      <td>0.555556</td>\n",
       "      <td>0.666667</td>\n",
       "      <td>0.666667</td>\n",
       "    </tr>\n",
       "    <tr>\n",
       "      <th>Esophageal Cancer</th>\n",
       "      <td>0.666667</td>\n",
       "      <td>0.333333</td>\n",
       "      <td>0.222222</td>\n",
       "      <td>0.250000</td>\n",
       "      <td>0.200000</td>\n",
       "    </tr>\n",
       "    <tr>\n",
       "      <th>Liver Cancer</th>\n",
       "      <td>0.500000</td>\n",
       "      <td>0.500000</td>\n",
       "      <td>0.500000</td>\n",
       "      <td>0.500000</td>\n",
       "      <td>0.500000</td>\n",
       "    </tr>\n",
       "    <tr>\n",
       "      <th>Lung Cancer</th>\n",
       "      <td>0.461538</td>\n",
       "      <td>0.423077</td>\n",
       "      <td>0.435897</td>\n",
       "      <td>0.442308</td>\n",
       "      <td>0.461538</td>\n",
       "    </tr>\n",
       "    <tr>\n",
       "      <th>Skin Cancer</th>\n",
       "      <td>0.400000</td>\n",
       "      <td>0.400000</td>\n",
       "      <td>0.400000</td>\n",
       "      <td>0.450000</td>\n",
       "      <td>0.400000</td>\n",
       "    </tr>\n",
       "    <tr>\n",
       "      <th>Breast Cancer</th>\n",
       "      <td>0.333333</td>\n",
       "      <td>0.500000</td>\n",
       "      <td>0.444444</td>\n",
       "      <td>0.500000</td>\n",
       "      <td>0.400000</td>\n",
       "    </tr>\n",
       "  </tbody>\n",
       "</table>\n",
       "</div>"
      ],
      "text/plain": [
       "                                  p1        p2        p3        p4        p5\n",
       "Head and Neck Cancer        1.000000  1.000000  1.000000  0.916667  0.866667\n",
       "Colon/Colorectal Cancer     1.000000  0.625000  0.666667  0.750000  0.800000\n",
       "Pancreatic Cancer           0.750000  0.625000  0.666667  0.625000  0.600000\n",
       "Brain Cancer                0.750000  0.625000  0.666667  0.500000  0.500000\n",
       "Ovarian Cancer              0.750000  0.500000  0.333333  0.375000  0.450000\n",
       "Bladder Cancer              0.666667  0.666667  0.777778  0.666667  0.666667\n",
       "Endometrial/Uterine Cancer  0.666667  0.666667  0.555556  0.666667  0.666667\n",
       "Esophageal Cancer           0.666667  0.333333  0.222222  0.250000  0.200000\n",
       "Liver Cancer                0.500000  0.500000  0.500000  0.500000  0.500000\n",
       "Lung Cancer                 0.461538  0.423077  0.435897  0.442308  0.461538\n",
       "Skin Cancer                 0.400000  0.400000  0.400000  0.450000  0.400000\n",
       "Breast Cancer               0.333333  0.500000  0.444444  0.500000  0.400000"
      ]
     },
     "execution_count": 23,
     "metadata": {},
     "output_type": "execute_result"
    }
   ],
   "source": [
    "testCancer = modelEval.iterateModels(datasets[0], modelName=bestModel, by='cancer')\n",
    "testCancer"
   ]
  },
  {
   "cell_type": "code",
   "execution_count": 24,
   "id": "1af43011",
   "metadata": {},
   "outputs": [
    {
     "data": {
      "text/plain": [
       "p1    0.6621\n",
       "p2    0.5721\n",
       "p3    0.5558\n",
       "p4    0.5535\n",
       "p5    0.5426\n",
       "dtype: float64"
      ]
     },
     "execution_count": 24,
     "metadata": {},
     "output_type": "execute_result"
    }
   ],
   "source": [
    "round(testCancer.mean(), 4)"
   ]
  },
  {
   "cell_type": "markdown",
   "id": "6bacbd3c",
   "metadata": {},
   "source": [
    "### Pred range"
   ]
  },
  {
   "cell_type": "code",
   "execution_count": 25,
   "id": "9e10faf9",
   "metadata": {},
   "outputs": [
    {
     "data": {
      "text/html": [
       "<div>\n",
       "<style scoped>\n",
       "    .dataframe tbody tr th:only-of-type {\n",
       "        vertical-align: middle;\n",
       "    }\n",
       "\n",
       "    .dataframe tbody tr th {\n",
       "        vertical-align: top;\n",
       "    }\n",
       "\n",
       "    .dataframe thead th {\n",
       "        text-align: right;\n",
       "    }\n",
       "</style>\n",
       "<table border=\"1\" class=\"dataframe\">\n",
       "  <thead>\n",
       "    <tr style=\"text-align: right;\">\n",
       "      <th></th>\n",
       "      <th>drug</th>\n",
       "      <th>predCount</th>\n",
       "      <th>predRange</th>\n",
       "    </tr>\n",
       "  </thead>\n",
       "  <tbody>\n",
       "    <tr>\n",
       "      <th>0</th>\n",
       "      <td>WP1130</td>\n",
       "      <td>26</td>\n",
       "      <td>0.437320</td>\n",
       "    </tr>\n",
       "    <tr>\n",
       "      <th>1</th>\n",
       "      <td>Ro-4987655</td>\n",
       "      <td>20</td>\n",
       "      <td>0.437121</td>\n",
       "    </tr>\n",
       "    <tr>\n",
       "      <th>2</th>\n",
       "      <td>epirubicin</td>\n",
       "      <td>30</td>\n",
       "      <td>0.436757</td>\n",
       "    </tr>\n",
       "    <tr>\n",
       "      <th>3</th>\n",
       "      <td>PP-121</td>\n",
       "      <td>28</td>\n",
       "      <td>0.436504</td>\n",
       "    </tr>\n",
       "    <tr>\n",
       "      <th>4</th>\n",
       "      <td>anisomycin</td>\n",
       "      <td>28</td>\n",
       "      <td>0.436354</td>\n",
       "    </tr>\n",
       "    <tr>\n",
       "      <th>5</th>\n",
       "      <td>dronedarone</td>\n",
       "      <td>11</td>\n",
       "      <td>0.436333</td>\n",
       "    </tr>\n",
       "    <tr>\n",
       "      <th>6</th>\n",
       "      <td>ouabain</td>\n",
       "      <td>22</td>\n",
       "      <td>0.436116</td>\n",
       "    </tr>\n",
       "    <tr>\n",
       "      <th>7</th>\n",
       "      <td>delanzomib</td>\n",
       "      <td>28</td>\n",
       "      <td>0.435790</td>\n",
       "    </tr>\n",
       "    <tr>\n",
       "      <th>8</th>\n",
       "      <td>daunorubicin</td>\n",
       "      <td>33</td>\n",
       "      <td>0.435678</td>\n",
       "    </tr>\n",
       "    <tr>\n",
       "      <th>9</th>\n",
       "      <td>ixazomib</td>\n",
       "      <td>14</td>\n",
       "      <td>0.435669</td>\n",
       "    </tr>\n",
       "  </tbody>\n",
       "</table>\n",
       "</div>"
      ],
      "text/plain": [
       "           drug  predCount  predRange\n",
       "0        WP1130         26   0.437320\n",
       "1    Ro-4987655         20   0.437121\n",
       "2    epirubicin         30   0.436757\n",
       "3        PP-121         28   0.436504\n",
       "4    anisomycin         28   0.436354\n",
       "5   dronedarone         11   0.436333\n",
       "6       ouabain         22   0.436116\n",
       "7    delanzomib         28   0.435790\n",
       "8  daunorubicin         33   0.435678\n",
       "9      ixazomib         14   0.435669"
      ]
     },
     "execution_count": 25,
     "metadata": {},
     "output_type": "execute_result"
    }
   ],
   "source": [
    "testPredRange = {'drug': [], 'predCount': [], 'predRange': []}\n",
    "\n",
    "for drug, subdf in testPreds.groupby(by='drug'):\n",
    "    testPredRange['drug'].append(drug)\n",
    "    testPredRange['predCount'].append(len(subdf))\n",
    "    minPred = subdf.pred.min()\n",
    "    maxPred = subdf.pred.max()\n",
    "    testPredRange['predRange'].append(maxPred-minPred)\n",
    "    \n",
    "testPredRange = pd.DataFrame(testPredRange).sort_values(by='predRange', ascending=False)\n",
    "testPredRange.reset_index(drop=True, inplace=True)\n",
    "testPredRange[testPredRange.predCount > 1].head(10)"
   ]
  },
  {
   "cell_type": "code",
   "execution_count": 26,
   "id": "8ef2b6cf",
   "metadata": {},
   "outputs": [
    {
     "data": {
      "text/html": [
       "<div>\n",
       "<style scoped>\n",
       "    .dataframe tbody tr th:only-of-type {\n",
       "        vertical-align: middle;\n",
       "    }\n",
       "\n",
       "    .dataframe tbody tr th {\n",
       "        vertical-align: top;\n",
       "    }\n",
       "\n",
       "    .dataframe thead th {\n",
       "        text-align: right;\n",
       "    }\n",
       "</style>\n",
       "<table border=\"1\" class=\"dataframe\">\n",
       "  <thead>\n",
       "    <tr style=\"text-align: right;\">\n",
       "      <th></th>\n",
       "      <th>drug</th>\n",
       "      <th>predCount</th>\n",
       "      <th>predRange</th>\n",
       "    </tr>\n",
       "  </thead>\n",
       "  <tbody>\n",
       "    <tr>\n",
       "      <th>251</th>\n",
       "      <td>alvocidib</td>\n",
       "      <td>46</td>\n",
       "      <td>0.053536</td>\n",
       "    </tr>\n",
       "    <tr>\n",
       "      <th>14</th>\n",
       "      <td>bortezomib</td>\n",
       "      <td>44</td>\n",
       "      <td>0.434396</td>\n",
       "    </tr>\n",
       "    <tr>\n",
       "      <th>222</th>\n",
       "      <td>selinexor</td>\n",
       "      <td>43</td>\n",
       "      <td>0.067348</td>\n",
       "    </tr>\n",
       "    <tr>\n",
       "      <th>519</th>\n",
       "      <td>napabucasin</td>\n",
       "      <td>42</td>\n",
       "      <td>0.003434</td>\n",
       "    </tr>\n",
       "    <tr>\n",
       "      <th>116</th>\n",
       "      <td>FK-866</td>\n",
       "      <td>42</td>\n",
       "      <td>0.182172</td>\n",
       "    </tr>\n",
       "  </tbody>\n",
       "</table>\n",
       "</div>"
      ],
      "text/plain": [
       "            drug  predCount  predRange\n",
       "251    alvocidib         46   0.053536\n",
       "14    bortezomib         44   0.434396\n",
       "222    selinexor         43   0.067348\n",
       "519  napabucasin         42   0.003434\n",
       "116       FK-866         42   0.182172"
      ]
     },
     "execution_count": 26,
     "metadata": {},
     "output_type": "execute_result"
    }
   ],
   "source": [
    "testPredRange.sort_values(by='predCount', ascending=False).head(5)"
   ]
  },
  {
   "cell_type": "code",
   "execution_count": 27,
   "id": "c29e9915",
   "metadata": {},
   "outputs": [
    {
     "data": {
      "text/plain": [
       "0.09013744744949"
      ]
     },
     "execution_count": 27,
     "metadata": {},
     "output_type": "execute_result"
    }
   ],
   "source": [
    "testPredRange[testPredRange.predCount>1].predRange.mean()"
   ]
  },
  {
   "cell_type": "markdown",
   "id": "457e6e69",
   "metadata": {},
   "source": [
    "## Evaluate best model on newcancer set"
   ]
  },
  {
   "cell_type": "code",
   "execution_count": 28,
   "id": "e0fcdfa8",
   "metadata": {
    "scrolled": false
   },
   "outputs": [
    {
     "name": "stdout",
     "output_type": "stream",
     "text": [
      "Average Cell Line precision @ k\n",
      "Model: Fused-FewShotCDRRawDrugRawCell_NL64_32_16_DO0-3_AFrelu_LR0-01_DR0-99_DS500\n",
      "\tPrecision@1: 0.5692\n",
      "\tPrecision@2: 0.5462\n",
      "\tPrecision@3: 0.559\n",
      "\tPrecision@4: 0.5423\n",
      "\tPrecision@5: 0.5754\n",
      "\tPrecision@10: 0.6333\n",
      "\n",
      "Top ranked drug for each cell line:\n",
      "No true effective drugs identified in top 3 for ACH-000174 (top drug: rutin)\n",
      "No true effective drugs identified in top 3 for ACH-000182 (top drug: ryuvidine)\n",
      "No true effective drugs identified in top 3 for ACH-000250 (top drug: peruvoside)\n",
      "No true effective drugs identified in top 3 for ACH-000268 (top drug: BGT226)\n",
      "No true effective drugs identified in top 3 for ACH-000313 (top drug: OTS167)\n",
      "No true effective drugs identified in top 3 for ACH-000375 (top drug: flumatinib)\n",
      "No true effective drugs identified in top 3 for ACH-000411 (top drug: OTS167)\n",
      "No true effective drugs identified in top 3 for ACH-000428 (top drug: OTS167)\n",
      "No true effective drugs identified in top 3 for ACH-000484 (top drug: OTS167)\n",
      "No true effective drugs identified in top 3 for ACH-000976 (top drug: XL388)\n",
      "\n",
      "# cell lines without highly effective drug among top-3 predictions: 10\n",
      "\n",
      "# of unique drugs among top-3 predictions: 51\n"
     ]
    },
    {
     "data": {
      "text/html": [
       "<div>\n",
       "<style scoped>\n",
       "    .dataframe tbody tr th:only-of-type {\n",
       "        vertical-align: middle;\n",
       "    }\n",
       "\n",
       "    .dataframe tbody tr th {\n",
       "        vertical-align: top;\n",
       "    }\n",
       "\n",
       "    .dataframe thead th {\n",
       "        text-align: right;\n",
       "    }\n",
       "</style>\n",
       "<table border=\"1\" class=\"dataframe\">\n",
       "  <thead>\n",
       "    <tr style=\"text-align: right;\">\n",
       "      <th></th>\n",
       "      <th>1</th>\n",
       "      <th>2</th>\n",
       "      <th>3</th>\n",
       "      <th>total</th>\n",
       "    </tr>\n",
       "  </thead>\n",
       "  <tbody>\n",
       "    <tr>\n",
       "      <th>OTS167</th>\n",
       "      <td>22</td>\n",
       "      <td>2</td>\n",
       "      <td>2</td>\n",
       "      <td>26</td>\n",
       "    </tr>\n",
       "    <tr>\n",
       "      <th>genz-644282</th>\n",
       "      <td>11</td>\n",
       "      <td>4</td>\n",
       "      <td>2</td>\n",
       "      <td>17</td>\n",
       "    </tr>\n",
       "    <tr>\n",
       "      <th>triptolide</th>\n",
       "      <td>7</td>\n",
       "      <td>0</td>\n",
       "      <td>0</td>\n",
       "      <td>7</td>\n",
       "    </tr>\n",
       "    <tr>\n",
       "      <th>peruvoside</th>\n",
       "      <td>6</td>\n",
       "      <td>4</td>\n",
       "      <td>1</td>\n",
       "      <td>11</td>\n",
       "    </tr>\n",
       "    <tr>\n",
       "      <th>nemorubicin</th>\n",
       "      <td>4</td>\n",
       "      <td>1</td>\n",
       "      <td>1</td>\n",
       "      <td>6</td>\n",
       "    </tr>\n",
       "  </tbody>\n",
       "</table>\n",
       "</div>"
      ],
      "text/plain": [
       "              1  2  3  total\n",
       "OTS167       22  2  2     26\n",
       "genz-644282  11  4  2     17\n",
       "triptolide    7  0  0      7\n",
       "peruvoside    6  4  1     11\n",
       "nemorubicin   4  1  1      6"
      ]
     },
     "execution_count": 28,
     "metadata": {},
     "output_type": "execute_result"
    }
   ],
   "source": [
    "newPreds, newWrong, newCounts = modelEval.iterateModels(datasets[1], modelName=bestModel)\n",
    "newCounts.head()"
   ]
  },
  {
   "cell_type": "code",
   "execution_count": 29,
   "id": "89022eee",
   "metadata": {},
   "outputs": [
    {
     "data": {
      "text/html": [
       "<div>\n",
       "<style scoped>\n",
       "    .dataframe tbody tr th:only-of-type {\n",
       "        vertical-align: middle;\n",
       "    }\n",
       "\n",
       "    .dataframe tbody tr th {\n",
       "        vertical-align: top;\n",
       "    }\n",
       "\n",
       "    .dataframe thead th {\n",
       "        text-align: right;\n",
       "    }\n",
       "</style>\n",
       "<table border=\"1\" class=\"dataframe\">\n",
       "  <thead>\n",
       "    <tr style=\"text-align: right;\">\n",
       "      <th></th>\n",
       "      <th>p1</th>\n",
       "      <th>p2</th>\n",
       "      <th>p3</th>\n",
       "      <th>p4</th>\n",
       "      <th>p5</th>\n",
       "    </tr>\n",
       "  </thead>\n",
       "  <tbody>\n",
       "    <tr>\n",
       "      <th>Prostate Cancer</th>\n",
       "      <td>1.000000</td>\n",
       "      <td>0.750000</td>\n",
       "      <td>0.833333</td>\n",
       "      <td>0.750000</td>\n",
       "      <td>0.700000</td>\n",
       "    </tr>\n",
       "    <tr>\n",
       "      <th>Gallbladder Cancer</th>\n",
       "      <td>1.000000</td>\n",
       "      <td>0.500000</td>\n",
       "      <td>0.666667</td>\n",
       "      <td>0.500000</td>\n",
       "      <td>0.400000</td>\n",
       "    </tr>\n",
       "    <tr>\n",
       "      <th>Thyroid Cancer</th>\n",
       "      <td>0.750000</td>\n",
       "      <td>0.562500</td>\n",
       "      <td>0.583333</td>\n",
       "      <td>0.531250</td>\n",
       "      <td>0.525000</td>\n",
       "    </tr>\n",
       "    <tr>\n",
       "      <th>Bone Cancer</th>\n",
       "      <td>0.666667</td>\n",
       "      <td>0.777778</td>\n",
       "      <td>0.777778</td>\n",
       "      <td>0.694444</td>\n",
       "      <td>0.711111</td>\n",
       "    </tr>\n",
       "    <tr>\n",
       "      <th>Sarcoma</th>\n",
       "      <td>0.666667</td>\n",
       "      <td>0.583333</td>\n",
       "      <td>0.555556</td>\n",
       "      <td>0.458333</td>\n",
       "      <td>0.566667</td>\n",
       "    </tr>\n",
       "    <tr>\n",
       "      <th>Neuroblastoma</th>\n",
       "      <td>0.666667</td>\n",
       "      <td>0.500000</td>\n",
       "      <td>0.555556</td>\n",
       "      <td>0.583333</td>\n",
       "      <td>0.600000</td>\n",
       "    </tr>\n",
       "    <tr>\n",
       "      <th>Gastric Cancer</th>\n",
       "      <td>0.500000</td>\n",
       "      <td>0.642857</td>\n",
       "      <td>0.642857</td>\n",
       "      <td>0.642857</td>\n",
       "      <td>0.671429</td>\n",
       "    </tr>\n",
       "    <tr>\n",
       "      <th>Rhabdoid</th>\n",
       "      <td>0.500000</td>\n",
       "      <td>0.500000</td>\n",
       "      <td>0.583333</td>\n",
       "      <td>0.625000</td>\n",
       "      <td>0.700000</td>\n",
       "    </tr>\n",
       "    <tr>\n",
       "      <th>Bile Duct Cancer</th>\n",
       "      <td>0.400000</td>\n",
       "      <td>0.300000</td>\n",
       "      <td>0.266667</td>\n",
       "      <td>0.400000</td>\n",
       "      <td>0.440000</td>\n",
       "    </tr>\n",
       "    <tr>\n",
       "      <th>Kidney Cancer</th>\n",
       "      <td>0.384615</td>\n",
       "      <td>0.346154</td>\n",
       "      <td>0.358974</td>\n",
       "      <td>0.365385</td>\n",
       "      <td>0.415385</td>\n",
       "    </tr>\n",
       "  </tbody>\n",
       "</table>\n",
       "</div>"
      ],
      "text/plain": [
       "                          p1        p2        p3        p4        p5\n",
       "Prostate Cancer     1.000000  0.750000  0.833333  0.750000  0.700000\n",
       "Gallbladder Cancer  1.000000  0.500000  0.666667  0.500000  0.400000\n",
       "Thyroid Cancer      0.750000  0.562500  0.583333  0.531250  0.525000\n",
       "Bone Cancer         0.666667  0.777778  0.777778  0.694444  0.711111\n",
       "Sarcoma             0.666667  0.583333  0.555556  0.458333  0.566667\n",
       "Neuroblastoma       0.666667  0.500000  0.555556  0.583333  0.600000\n",
       "Gastric Cancer      0.500000  0.642857  0.642857  0.642857  0.671429\n",
       "Rhabdoid            0.500000  0.500000  0.583333  0.625000  0.700000\n",
       "Bile Duct Cancer    0.400000  0.300000  0.266667  0.400000  0.440000\n",
       "Kidney Cancer       0.384615  0.346154  0.358974  0.365385  0.415385"
      ]
     },
     "execution_count": 29,
     "metadata": {},
     "output_type": "execute_result"
    }
   ],
   "source": [
    "newCancer = modelEval.iterateModels(datasets[1], modelName=bestModel, by='Cancer')\n",
    "newCancer"
   ]
  },
  {
   "cell_type": "code",
   "execution_count": 30,
   "id": "d16516af",
   "metadata": {},
   "outputs": [
    {
     "data": {
      "text/plain": [
       "p1    0.6535\n",
       "p2    0.5463\n",
       "p3    0.5824\n",
       "p4    0.5551\n",
       "p5    0.5730\n",
       "dtype: float64"
      ]
     },
     "execution_count": 30,
     "metadata": {},
     "output_type": "execute_result"
    }
   ],
   "source": [
    "round(newCancer.mean(), 4)"
   ]
  },
  {
   "cell_type": "markdown",
   "id": "676aae36",
   "metadata": {},
   "source": [
    "### Pred range"
   ]
  },
  {
   "cell_type": "code",
   "execution_count": 31,
   "id": "b779912a",
   "metadata": {},
   "outputs": [
    {
     "data": {
      "text/html": [
       "<div>\n",
       "<style scoped>\n",
       "    .dataframe tbody tr th:only-of-type {\n",
       "        vertical-align: middle;\n",
       "    }\n",
       "\n",
       "    .dataframe tbody tr th {\n",
       "        vertical-align: top;\n",
       "    }\n",
       "\n",
       "    .dataframe thead th {\n",
       "        text-align: right;\n",
       "    }\n",
       "</style>\n",
       "<table border=\"1\" class=\"dataframe\">\n",
       "  <thead>\n",
       "    <tr style=\"text-align: right;\">\n",
       "      <th></th>\n",
       "      <th>drug</th>\n",
       "      <th>predCount</th>\n",
       "      <th>predRange</th>\n",
       "    </tr>\n",
       "  </thead>\n",
       "  <tbody>\n",
       "    <tr>\n",
       "      <th>0</th>\n",
       "      <td>delanzomib</td>\n",
       "      <td>34</td>\n",
       "      <td>0.435664</td>\n",
       "    </tr>\n",
       "    <tr>\n",
       "      <th>1</th>\n",
       "      <td>vinblastine</td>\n",
       "      <td>48</td>\n",
       "      <td>0.435493</td>\n",
       "    </tr>\n",
       "    <tr>\n",
       "      <th>2</th>\n",
       "      <td>AR-42</td>\n",
       "      <td>8</td>\n",
       "      <td>0.434618</td>\n",
       "    </tr>\n",
       "    <tr>\n",
       "      <th>3</th>\n",
       "      <td>ouabain</td>\n",
       "      <td>28</td>\n",
       "      <td>0.431860</td>\n",
       "    </tr>\n",
       "    <tr>\n",
       "      <th>4</th>\n",
       "      <td>daunorubicin</td>\n",
       "      <td>47</td>\n",
       "      <td>0.430577</td>\n",
       "    </tr>\n",
       "    <tr>\n",
       "      <th>5</th>\n",
       "      <td>LY2874455</td>\n",
       "      <td>15</td>\n",
       "      <td>0.427755</td>\n",
       "    </tr>\n",
       "    <tr>\n",
       "      <th>6</th>\n",
       "      <td>aminopurvalanol-a</td>\n",
       "      <td>7</td>\n",
       "      <td>0.426076</td>\n",
       "    </tr>\n",
       "    <tr>\n",
       "      <th>7</th>\n",
       "      <td>KPT-185</td>\n",
       "      <td>23</td>\n",
       "      <td>0.425917</td>\n",
       "    </tr>\n",
       "    <tr>\n",
       "      <th>8</th>\n",
       "      <td>anisomycin</td>\n",
       "      <td>31</td>\n",
       "      <td>0.422111</td>\n",
       "    </tr>\n",
       "    <tr>\n",
       "      <th>9</th>\n",
       "      <td>GSK2126458</td>\n",
       "      <td>35</td>\n",
       "      <td>0.420128</td>\n",
       "    </tr>\n",
       "  </tbody>\n",
       "</table>\n",
       "</div>"
      ],
      "text/plain": [
       "                drug  predCount  predRange\n",
       "0         delanzomib         34   0.435664\n",
       "1        vinblastine         48   0.435493\n",
       "2              AR-42          8   0.434618\n",
       "3            ouabain         28   0.431860\n",
       "4       daunorubicin         47   0.430577\n",
       "5          LY2874455         15   0.427755\n",
       "6  aminopurvalanol-a          7   0.426076\n",
       "7            KPT-185         23   0.425917\n",
       "8         anisomycin         31   0.422111\n",
       "9         GSK2126458         35   0.420128"
      ]
     },
     "execution_count": 31,
     "metadata": {},
     "output_type": "execute_result"
    }
   ],
   "source": [
    "newPredRange = {'drug': [], 'predCount': [], 'predRange': []}\n",
    "\n",
    "for drug, subdf in newPreds.groupby(by='drug'):\n",
    "    newPredRange['drug'].append(drug)\n",
    "    newPredRange['predCount'].append(len(subdf))\n",
    "    minPred = subdf.pred.min()\n",
    "    maxPred = subdf.pred.max()\n",
    "    newPredRange['predRange'].append(maxPred-minPred)\n",
    "    \n",
    "newPredRange = pd.DataFrame(newPredRange).sort_values(by='predRange', ascending=False)\n",
    "newPredRange.reset_index(drop=True, inplace=True)\n",
    "newPredRange.head(10)"
   ]
  },
  {
   "cell_type": "code",
   "execution_count": 32,
   "id": "21146c88",
   "metadata": {},
   "outputs": [
    {
     "data": {
      "text/plain": [
       "0.08985980663569253"
      ]
     },
     "execution_count": 32,
     "metadata": {},
     "output_type": "execute_result"
    }
   ],
   "source": [
    "newPredRange[newPredRange.predCount>1].predRange.mean()"
   ]
  },
  {
   "cell_type": "code",
   "execution_count": null,
   "id": "b76b646c",
   "metadata": {},
   "outputs": [],
   "source": []
  }
 ],
 "metadata": {
  "kernelspec": {
   "display_name": "Python3.8 (tf-2.2)",
   "language": "python",
   "name": "tf-gpu"
  },
  "language_info": {
   "codemirror_mode": {
    "name": "ipython",
    "version": 3
   },
   "file_extension": ".py",
   "mimetype": "text/x-python",
   "name": "python",
   "nbconvert_exporter": "python",
   "pygments_lexer": "ipython3",
   "version": "3.8.12"
  }
 },
 "nbformat": 4,
 "nbformat_minor": 5
}
