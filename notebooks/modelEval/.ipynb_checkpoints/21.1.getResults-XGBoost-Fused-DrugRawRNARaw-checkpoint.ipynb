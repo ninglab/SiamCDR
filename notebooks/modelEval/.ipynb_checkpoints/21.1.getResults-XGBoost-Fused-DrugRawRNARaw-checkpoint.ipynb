{
 "cells": [
  {
   "cell_type": "markdown",
   "id": "0c1590e5",
   "metadata": {},
   "source": [
    "# Load packages"
   ]
  },
  {
   "cell_type": "code",
   "execution_count": 11,
   "id": "a36520d9",
   "metadata": {},
   "outputs": [],
   "source": [
    "import os\n",
    "import numpy as np\n",
    "import pandas as pd\n",
    "\n",
    "import warnings\n",
    "warnings.filterwarnings('ignore')"
   ]
  },
  {
   "cell_type": "code",
   "execution_count": 12,
   "id": "5137fb3a",
   "metadata": {},
   "outputs": [],
   "source": [
    "from scripts.evalModel import evalLogisticModels, getPredDist"
   ]
  },
  {
   "cell_type": "markdown",
   "id": "e3e72d2a",
   "metadata": {},
   "source": [
    "# Data"
   ]
  },
  {
   "cell_type": "markdown",
   "id": "dc94edcd",
   "metadata": {},
   "source": [
    "## Load cell lines"
   ]
  },
  {
   "cell_type": "code",
   "execution_count": 13,
   "id": "17b4bedc",
   "metadata": {},
   "outputs": [],
   "source": [
    "trainRNA = pd.read_csv('../../data/processed/RNA_train_cancergenes.csv', index_col=0)\n",
    "trainCellLines = list(trainRNA.index)\n",
    "\n",
    "testRNA = pd.read_csv('../../data/processed/RNA_test_cancergenes.csv', index_col=0)\n",
    "testCellLines = list(testRNA.index)\n",
    "\n",
    "newRNA = pd.read_csv('../../data/processed/RNA_newcancer_cancergenes.csv', index_col=0)\n",
    "newCellLines = list(newRNA.index)"
   ]
  },
  {
   "cell_type": "markdown",
   "id": "3876c3b8",
   "metadata": {},
   "source": [
    "## CDR"
   ]
  },
  {
   "cell_type": "code",
   "execution_count": 14,
   "id": "b751a43e",
   "metadata": {},
   "outputs": [],
   "source": [
    "cdr = pd.read_csv('../../data/processed/drugCellLinePairsData.csv', index_col='DepMap_ID')\n",
    "trainCDR = cdr.loc[trainCellLines, :].reset_index()\n",
    "testCDR = cdr.loc[testCellLines, :].reset_index()\n",
    "newCDR = cdr.loc[newCellLines, :].reset_index()"
   ]
  },
  {
   "cell_type": "code",
   "execution_count": 15,
   "id": "bdfaa7f5",
   "metadata": {},
   "outputs": [],
   "source": [
    "testTemp = testCDR.loc[:, ['DepMap_ID', 'cancer_type', 'name', 'effective']].rename(columns={'DepMap_ID':'cell_line',\n",
    "                                                                                             'name': 'drug',\n",
    "                                                                                             'effective': 'true'})\n",
    "\n",
    "newTemp = newCDR.loc[:, ['DepMap_ID', 'cancer_type', 'name', 'effective']].rename(columns={'DepMap_ID':'cell_line',\n",
    "                                                                                          'name': 'drug',\n",
    "                                                                                          'effective': 'true'})"
   ]
  },
  {
   "cell_type": "markdown",
   "id": "5439e417",
   "metadata": {},
   "source": [
    "# Load drugs"
   ]
  },
  {
   "cell_type": "code",
   "execution_count": 16,
   "id": "41f1d8eb",
   "metadata": {},
   "outputs": [
    {
     "data": {
      "text/html": [
       "<div>\n",
       "<style scoped>\n",
       "    .dataframe tbody tr th:only-of-type {\n",
       "        vertical-align: middle;\n",
       "    }\n",
       "\n",
       "    .dataframe tbody tr th {\n",
       "        vertical-align: top;\n",
       "    }\n",
       "\n",
       "    .dataframe thead th {\n",
       "        text-align: right;\n",
       "    }\n",
       "</style>\n",
       "<table border=\"1\" class=\"dataframe\">\n",
       "  <thead>\n",
       "    <tr style=\"text-align: right;\">\n",
       "      <th></th>\n",
       "      <th>0</th>\n",
       "      <th>1</th>\n",
       "      <th>2</th>\n",
       "      <th>3</th>\n",
       "      <th>4</th>\n",
       "      <th>5</th>\n",
       "      <th>6</th>\n",
       "      <th>7</th>\n",
       "      <th>8</th>\n",
       "      <th>9</th>\n",
       "      <th>...</th>\n",
       "      <th>246</th>\n",
       "      <th>247</th>\n",
       "      <th>248</th>\n",
       "      <th>249</th>\n",
       "      <th>250</th>\n",
       "      <th>251</th>\n",
       "      <th>252</th>\n",
       "      <th>253</th>\n",
       "      <th>254</th>\n",
       "      <th>255</th>\n",
       "    </tr>\n",
       "  </thead>\n",
       "  <tbody>\n",
       "    <tr>\n",
       "      <th>cytarabine</th>\n",
       "      <td>1</td>\n",
       "      <td>0</td>\n",
       "      <td>0</td>\n",
       "      <td>0</td>\n",
       "      <td>0</td>\n",
       "      <td>0</td>\n",
       "      <td>0</td>\n",
       "      <td>0</td>\n",
       "      <td>0</td>\n",
       "      <td>0</td>\n",
       "      <td>...</td>\n",
       "      <td>0</td>\n",
       "      <td>0</td>\n",
       "      <td>0</td>\n",
       "      <td>0</td>\n",
       "      <td>1</td>\n",
       "      <td>1</td>\n",
       "      <td>0</td>\n",
       "      <td>0</td>\n",
       "      <td>0</td>\n",
       "      <td>0</td>\n",
       "    </tr>\n",
       "    <tr>\n",
       "      <th>epinastine</th>\n",
       "      <td>0</td>\n",
       "      <td>0</td>\n",
       "      <td>0</td>\n",
       "      <td>1</td>\n",
       "      <td>1</td>\n",
       "      <td>0</td>\n",
       "      <td>0</td>\n",
       "      <td>0</td>\n",
       "      <td>0</td>\n",
       "      <td>0</td>\n",
       "      <td>...</td>\n",
       "      <td>0</td>\n",
       "      <td>0</td>\n",
       "      <td>0</td>\n",
       "      <td>0</td>\n",
       "      <td>0</td>\n",
       "      <td>1</td>\n",
       "      <td>0</td>\n",
       "      <td>0</td>\n",
       "      <td>0</td>\n",
       "      <td>1</td>\n",
       "    </tr>\n",
       "    <tr>\n",
       "      <th>floxuridine</th>\n",
       "      <td>0</td>\n",
       "      <td>0</td>\n",
       "      <td>0</td>\n",
       "      <td>0</td>\n",
       "      <td>1</td>\n",
       "      <td>0</td>\n",
       "      <td>0</td>\n",
       "      <td>0</td>\n",
       "      <td>0</td>\n",
       "      <td>0</td>\n",
       "      <td>...</td>\n",
       "      <td>1</td>\n",
       "      <td>0</td>\n",
       "      <td>0</td>\n",
       "      <td>0</td>\n",
       "      <td>0</td>\n",
       "      <td>1</td>\n",
       "      <td>0</td>\n",
       "      <td>0</td>\n",
       "      <td>0</td>\n",
       "      <td>0</td>\n",
       "    </tr>\n",
       "    <tr>\n",
       "      <th>valrubicin</th>\n",
       "      <td>1</td>\n",
       "      <td>0</td>\n",
       "      <td>0</td>\n",
       "      <td>0</td>\n",
       "      <td>0</td>\n",
       "      <td>1</td>\n",
       "      <td>0</td>\n",
       "      <td>0</td>\n",
       "      <td>1</td>\n",
       "      <td>0</td>\n",
       "      <td>...</td>\n",
       "      <td>0</td>\n",
       "      <td>1</td>\n",
       "      <td>0</td>\n",
       "      <td>1</td>\n",
       "      <td>1</td>\n",
       "      <td>1</td>\n",
       "      <td>0</td>\n",
       "      <td>1</td>\n",
       "      <td>0</td>\n",
       "      <td>0</td>\n",
       "    </tr>\n",
       "    <tr>\n",
       "      <th>adapalene</th>\n",
       "      <td>1</td>\n",
       "      <td>1</td>\n",
       "      <td>1</td>\n",
       "      <td>0</td>\n",
       "      <td>0</td>\n",
       "      <td>1</td>\n",
       "      <td>0</td>\n",
       "      <td>0</td>\n",
       "      <td>0</td>\n",
       "      <td>0</td>\n",
       "      <td>...</td>\n",
       "      <td>0</td>\n",
       "      <td>0</td>\n",
       "      <td>1</td>\n",
       "      <td>1</td>\n",
       "      <td>1</td>\n",
       "      <td>1</td>\n",
       "      <td>0</td>\n",
       "      <td>0</td>\n",
       "      <td>0</td>\n",
       "      <td>0</td>\n",
       "    </tr>\n",
       "  </tbody>\n",
       "</table>\n",
       "<p>5 rows × 256 columns</p>\n",
       "</div>"
      ],
      "text/plain": [
       "             0  1  2  3  4  5  6  7  8  9  ...  246  247  248  249  250  251  \\\n",
       "cytarabine   1  0  0  0  0  0  0  0  0  0  ...    0    0    0    0    1    1   \n",
       "epinastine   0  0  0  1  1  0  0  0  0  0  ...    0    0    0    0    0    1   \n",
       "floxuridine  0  0  0  0  1  0  0  0  0  0  ...    1    0    0    0    0    1   \n",
       "valrubicin   1  0  0  0  0  1  0  0  1  0  ...    0    1    0    1    1    1   \n",
       "adapalene    1  1  1  0  0  1  0  0  0  0  ...    0    0    1    1    1    1   \n",
       "\n",
       "             252  253  254  255  \n",
       "cytarabine     0    0    0    0  \n",
       "epinastine     0    0    0    1  \n",
       "floxuridine    0    0    0    0  \n",
       "valrubicin     0    1    0    0  \n",
       "adapalene      0    0    0    0  \n",
       "\n",
       "[5 rows x 256 columns]"
      ]
     },
     "execution_count": 16,
     "metadata": {},
     "output_type": "execute_result"
    }
   ],
   "source": [
    "drugs = pd.read_csv('../../data/processed/drug_fingerprints.csv', index_col=0)\n",
    "\n",
    "drugs.head()"
   ]
  },
  {
   "cell_type": "code",
   "execution_count": 17,
   "id": "c6725f90",
   "metadata": {},
   "outputs": [],
   "source": [
    "trainDrugs = drugs.loc[list(trainCDR.name.values), :].to_numpy()\n",
    "testDrugs = drugs.loc[list(testCDR.name.values), :].to_numpy()\n",
    "newDrugs = drugs.loc[list(newCDR.name.values), :].to_numpy()\n",
    "\n",
    "trainRNA = trainRNA.loc[list(trainCDR.DepMap_ID.values), :].to_numpy()\n",
    "testRNA = testRNA.loc[list(testCDR.DepMap_ID.values), :].to_numpy()\n",
    "newRNA = newRNA.loc[list(newCDR.DepMap_ID.values), :].to_numpy()"
   ]
  },
  {
   "cell_type": "code",
   "execution_count": 18,
   "id": "efde1c60",
   "metadata": {},
   "outputs": [],
   "source": [
    "trainData = [trainDrugs, trainRNA]\n",
    "trainEff = trainCDR.effective.to_numpy()\n",
    "testData = [testDrugs, testRNA]\n",
    "newData = [newDrugs, newRNA]"
   ]
  },
  {
   "cell_type": "code",
   "execution_count": 19,
   "id": "342c82e3",
   "metadata": {},
   "outputs": [],
   "source": [
    "del cdr, drugs, trainDrugs, testDrugs, newDrugs, trainRNA, testRNA, newRNA"
   ]
  },
  {
   "cell_type": "markdown",
   "id": "42f77b0a",
   "metadata": {},
   "source": [
    "# Fusion performance"
   ]
  },
  {
   "cell_type": "code",
   "execution_count": 22,
   "id": "f1e0df3f",
   "metadata": {},
   "outputs": [],
   "source": [
    "fusionPath = '/fs/scratch/PCON0041/PatrickLawrence/cancer-drug-response/fewShot/fusion/rawDrug_rawRNA/models'\n",
    "bestModel = 'FusionFewShotRawDrugRawCell_NL128_64_32_DO0-1_AFrelu_LR0-001_DR0-99_DS1024_BYrna'\n",
    "fusionPath = os.path.join(fusionPath, bestModel)"
   ]
  },
  {
   "cell_type": "code",
   "execution_count": null,
   "id": "3df97aa6",
   "metadata": {},
   "outputs": [],
   "source": [
    "evalLog = evalLogisticModels(trainData.copy(), trainEff, testData.copy(), newData.copy(), alt='rf',\n",
    "                            fusionPath=fusionPath, drugPath=drugPath, rnaPath=rnaPath)"
   ]
  },
  {
   "cell_type": "code",
   "execution_count": null,
   "id": "06ed3369",
   "metadata": {},
   "outputs": [],
   "source": [
    "testDF, newDF, testWrong, newWrong, testCounts, newCounts = evalLog.evaluate(testDF=testTemp.copy(), \n",
    "                                                                            newDF=newTemp.copy(),\n",
    "                                                                            thresh=0.1)\n"
   ]
  },
  {
   "cell_type": "code",
   "execution_count": null,
   "id": "d61248ff",
   "metadata": {},
   "outputs": [],
   "source": [
    "testDist = getPredDist(testDF)"
   ]
  },
  {
   "cell_type": "code",
   "execution_count": null,
   "id": "db1ebc9e",
   "metadata": {},
   "outputs": [],
   "source": [
    "newDist = getPredDist(newDF)"
   ]
  },
  {
   "cell_type": "code",
   "execution_count": null,
   "id": "0cc5d2cd",
   "metadata": {},
   "outputs": [],
   "source": [
    "testCounts.head()"
   ]
  },
  {
   "cell_type": "code",
   "execution_count": null,
   "id": "a6a39f8b",
   "metadata": {},
   "outputs": [],
   "source": [
    "# poor cell line\n",
    "testDF[testDF.cell_line == 'ACH-000161'].head(10)"
   ]
  },
  {
   "cell_type": "code",
   "execution_count": null,
   "id": "15285153",
   "metadata": {},
   "outputs": [],
   "source": [
    "# poor cell line\n",
    "testDF[testDF.cell_line == 'ACH-000899'].head(10)"
   ]
  },
  {
   "cell_type": "markdown",
   "id": "45b57990",
   "metadata": {},
   "source": [
    "## Cancer precision"
   ]
  },
  {
   "cell_type": "code",
   "execution_count": null,
   "id": "fa7d5da4",
   "metadata": {},
   "outputs": [],
   "source": [
    "cancerTest, cancerNew = evalLog.getCancerPerformance(testDF.copy(), newDF.copy())"
   ]
  },
  {
   "cell_type": "code",
   "execution_count": null,
   "id": "04d12d24",
   "metadata": {},
   "outputs": [],
   "source": [
    "print(round(cancerTest.mean(), 4))\n",
    "cancerTest"
   ]
  },
  {
   "cell_type": "code",
   "execution_count": 28,
   "id": "705b2dfb",
   "metadata": {},
   "outputs": [
    {
     "data": {
      "text/html": [
       "<div>\n",
       "<style scoped>\n",
       "    .dataframe tbody tr th:only-of-type {\n",
       "        vertical-align: middle;\n",
       "    }\n",
       "\n",
       "    .dataframe tbody tr th {\n",
       "        vertical-align: top;\n",
       "    }\n",
       "\n",
       "    .dataframe thead th {\n",
       "        text-align: right;\n",
       "    }\n",
       "</style>\n",
       "<table border=\"1\" class=\"dataframe\">\n",
       "  <thead>\n",
       "    <tr style=\"text-align: right;\">\n",
       "      <th></th>\n",
       "      <th>p1</th>\n",
       "      <th>p2</th>\n",
       "      <th>p3</th>\n",
       "      <th>p4</th>\n",
       "      <th>p5</th>\n",
       "    </tr>\n",
       "  </thead>\n",
       "  <tbody>\n",
       "    <tr>\n",
       "      <th>Gallbladder Cancer</th>\n",
       "      <td>1.000000</td>\n",
       "      <td>1.000000</td>\n",
       "      <td>0.666667</td>\n",
       "      <td>0.750000</td>\n",
       "      <td>0.800000</td>\n",
       "    </tr>\n",
       "    <tr>\n",
       "      <th>Gastric Cancer</th>\n",
       "      <td>0.642857</td>\n",
       "      <td>0.500000</td>\n",
       "      <td>0.523810</td>\n",
       "      <td>0.535714</td>\n",
       "      <td>0.528571</td>\n",
       "    </tr>\n",
       "    <tr>\n",
       "      <th>Prostate Cancer</th>\n",
       "      <td>0.500000</td>\n",
       "      <td>0.750000</td>\n",
       "      <td>0.666667</td>\n",
       "      <td>0.750000</td>\n",
       "      <td>0.700000</td>\n",
       "    </tr>\n",
       "    <tr>\n",
       "      <th>Sarcoma</th>\n",
       "      <td>0.500000</td>\n",
       "      <td>0.500000</td>\n",
       "      <td>0.500000</td>\n",
       "      <td>0.500000</td>\n",
       "      <td>0.500000</td>\n",
       "    </tr>\n",
       "    <tr>\n",
       "      <th>Kidney Cancer</th>\n",
       "      <td>0.461538</td>\n",
       "      <td>0.423077</td>\n",
       "      <td>0.410256</td>\n",
       "      <td>0.403846</td>\n",
       "      <td>0.384615</td>\n",
       "    </tr>\n",
       "    <tr>\n",
       "      <th>Bone Cancer</th>\n",
       "      <td>0.333333</td>\n",
       "      <td>0.500000</td>\n",
       "      <td>0.592593</td>\n",
       "      <td>0.583333</td>\n",
       "      <td>0.622222</td>\n",
       "    </tr>\n",
       "    <tr>\n",
       "      <th>Neuroblastoma</th>\n",
       "      <td>0.333333</td>\n",
       "      <td>0.333333</td>\n",
       "      <td>0.444444</td>\n",
       "      <td>0.416667</td>\n",
       "      <td>0.400000</td>\n",
       "    </tr>\n",
       "    <tr>\n",
       "      <th>Rhabdoid</th>\n",
       "      <td>0.250000</td>\n",
       "      <td>0.375000</td>\n",
       "      <td>0.416667</td>\n",
       "      <td>0.562500</td>\n",
       "      <td>0.600000</td>\n",
       "    </tr>\n",
       "    <tr>\n",
       "      <th>Bile Duct Cancer</th>\n",
       "      <td>0.200000</td>\n",
       "      <td>0.200000</td>\n",
       "      <td>0.266667</td>\n",
       "      <td>0.400000</td>\n",
       "      <td>0.400000</td>\n",
       "    </tr>\n",
       "    <tr>\n",
       "      <th>Thyroid Cancer</th>\n",
       "      <td>0.125000</td>\n",
       "      <td>0.250000</td>\n",
       "      <td>0.208333</td>\n",
       "      <td>0.250000</td>\n",
       "      <td>0.350000</td>\n",
       "    </tr>\n",
       "  </tbody>\n",
       "</table>\n",
       "</div>"
      ],
      "text/plain": [
       "                          p1        p2        p3        p4        p5\n",
       "Gallbladder Cancer  1.000000  1.000000  0.666667  0.750000  0.800000\n",
       "Gastric Cancer      0.642857  0.500000  0.523810  0.535714  0.528571\n",
       "Prostate Cancer     0.500000  0.750000  0.666667  0.750000  0.700000\n",
       "Sarcoma             0.500000  0.500000  0.500000  0.500000  0.500000\n",
       "Kidney Cancer       0.461538  0.423077  0.410256  0.403846  0.384615\n",
       "Bone Cancer         0.333333  0.500000  0.592593  0.583333  0.622222\n",
       "Neuroblastoma       0.333333  0.333333  0.444444  0.416667  0.400000\n",
       "Rhabdoid            0.250000  0.375000  0.416667  0.562500  0.600000\n",
       "Bile Duct Cancer    0.200000  0.200000  0.266667  0.400000  0.400000\n",
       "Thyroid Cancer      0.125000  0.250000  0.208333  0.250000  0.350000"
      ]
     },
     "execution_count": 28,
     "metadata": {},
     "output_type": "execute_result"
    }
   ],
   "source": [
    "print(round(cancerNew.mean(), 4))\n",
    "cancerNew"
   ]
  }
 ],
 "metadata": {
  "kernelspec": {
   "display_name": "Python3.8 (tf-2.2)",
   "language": "python",
   "name": "tf-gpu"
  },
  "language_info": {
   "codemirror_mode": {
    "name": "ipython",
    "version": 3
   },
   "file_extension": ".py",
   "mimetype": "text/x-python",
   "name": "python",
   "nbconvert_exporter": "python",
   "pygments_lexer": "ipython3",
   "version": "3.8.12"
  }
 },
 "nbformat": 4,
 "nbformat_minor": 5
}
