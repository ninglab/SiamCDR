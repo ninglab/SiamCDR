{
 "cells": [
  {
   "cell_type": "markdown",
   "id": "8552eb4d",
   "metadata": {},
   "source": [
    "# Import"
   ]
  },
  {
   "cell_type": "code",
   "execution_count": 1,
   "id": "32d26a6c",
   "metadata": {},
   "outputs": [],
   "source": [
    "import os\n",
    "import numpy as np\n",
    "import pandas as pd\n",
    "\n",
    "import warnings\n",
    "warnings.filterwarnings('ignore')"
   ]
  },
  {
   "cell_type": "code",
   "execution_count": 2,
   "id": "efddba2f",
   "metadata": {},
   "outputs": [],
   "source": [
    "from scripts.evalModel import evalLogisticModels, getPredDist"
   ]
  },
  {
   "cell_type": "markdown",
   "id": "56e7c6a3",
   "metadata": {},
   "source": [
    "# Load data"
   ]
  },
  {
   "cell_type": "markdown",
   "id": "52ce4d54",
   "metadata": {},
   "source": [
    "## Cell lines"
   ]
  },
  {
   "cell_type": "code",
   "execution_count": 3,
   "id": "0b6178ed",
   "metadata": {},
   "outputs": [],
   "source": [
    "trainRNA = pd.read_csv('../../data/processed/RNA_train_cancergenes.csv', index_col=0)\n",
    "trainCellLines = list(trainRNA.index)\n",
    "\n",
    "testRNA = pd.read_csv('../../data/processed/RNA_test_cancergenes.csv', index_col=0)\n",
    "testCellLines = list(testRNA.index)\n",
    "\n",
    "newRNA = pd.read_csv('../../data/processed/RNA_newcancer_cancergenes.csv', index_col=0)\n",
    "newCellLines = list(newRNA.index)"
   ]
  },
  {
   "cell_type": "markdown",
   "id": "539a1856",
   "metadata": {},
   "source": [
    "## CDR"
   ]
  },
  {
   "cell_type": "code",
   "execution_count": 4,
   "id": "4173df9d",
   "metadata": {},
   "outputs": [],
   "source": [
    "cdr = pd.read_csv('../../data/processed/drugCellLinePairsData.csv', index_col='DepMap_ID')\n",
    "trainCDR = cdr.loc[trainCellLines, :].reset_index()\n",
    "testCDR = cdr.loc[testCellLines, :].reset_index()\n",
    "newCDR = cdr.loc[newCellLines, :].reset_index()"
   ]
  },
  {
   "cell_type": "code",
   "execution_count": 5,
   "id": "2cc871e6",
   "metadata": {},
   "outputs": [],
   "source": [
    "testTemp = testCDR.loc[:, ['DepMap_ID', 'cancer_type', 'name', 'effective']].rename(columns={'DepMap_ID':'cell_line',\n",
    "                                                                                             'name': 'drug',\n",
    "                                                                                             'effective': 'true'})\n",
    "\n",
    "newTemp = newCDR.loc[:, ['DepMap_ID', 'cancer_type', 'name', 'effective']].rename(columns={'DepMap_ID':'cell_line',\n",
    "                                                                                          'name': 'drug',\n",
    "                                                                                          'effective': 'true'})"
   ]
  },
  {
   "cell_type": "markdown",
   "id": "157aafbf",
   "metadata": {},
   "source": [
    "## Drugs"
   ]
  },
  {
   "cell_type": "code",
   "execution_count": 6,
   "id": "2ebbb9d6",
   "metadata": {},
   "outputs": [],
   "source": [
    "drugs = pd.read_csv('../../data/processed/drug_fingerprints.csv', index_col=0)"
   ]
  },
  {
   "cell_type": "code",
   "execution_count": 7,
   "id": "fcefe7a2",
   "metadata": {},
   "outputs": [],
   "source": [
    "trainDrugs = drugs.loc[list(trainCDR.name.values), :].to_numpy()\n",
    "testDrugs = drugs.loc[list(testCDR.name.values), :].to_numpy()\n",
    "newDrugs = drugs.loc[list(newCDR.name.values), :].to_numpy()\n",
    "\n",
    "trainRNA = trainRNA.loc[list(trainCDR.DepMap_ID.values), :].to_numpy()\n",
    "testRNA = testRNA.loc[list(testCDR.DepMap_ID.values), :].to_numpy()\n",
    "newRNA = newRNA.loc[list(newCDR.DepMap_ID.values), :].to_numpy()"
   ]
  },
  {
   "cell_type": "markdown",
   "id": "21cb8567",
   "metadata": {},
   "source": [
    "## Format Pairs"
   ]
  },
  {
   "cell_type": "code",
   "execution_count": 8,
   "id": "899b5b8c",
   "metadata": {},
   "outputs": [],
   "source": [
    "trainData = [trainDrugs, trainRNA]\n",
    "trainEff = trainCDR.effective.to_numpy()\n",
    "testData = [testDrugs, testRNA]\n",
    "newData = [newDrugs, newRNA]"
   ]
  },
  {
   "cell_type": "code",
   "execution_count": 9,
   "id": "37bbcb28",
   "metadata": {},
   "outputs": [],
   "source": [
    "del cdr, drugs, trainDrugs, testDrugs, newDrugs, trainRNA, testRNA, newRNA"
   ]
  },
  {
   "cell_type": "markdown",
   "id": "a57675d8",
   "metadata": {},
   "source": [
    "# Model"
   ]
  },
  {
   "cell_type": "code",
   "execution_count": null,
   "id": "697f0549",
   "metadata": {},
   "outputs": [],
   "source": [
    "evalLog = evalLogisticModels(trainData.copy(), trainEff, testData.copy(), newData.copy(), alt='xgb',\n",
    "                            fusionPath=None, drugPath=None, rnaPath=None)"
   ]
  },
  {
   "cell_type": "markdown",
   "id": "2fe3ebe1",
   "metadata": {},
   "source": [
    "## Cell line performance"
   ]
  },
  {
   "cell_type": "code",
   "execution_count": null,
   "id": "b607a601",
   "metadata": {},
   "outputs": [],
   "source": [
    "testDF, newDF, testWrong, newWrong, testCounts, newCounts = evalLog.evaluate(testDF=testTemp.copy(), \n",
    "                                                                             newDF=newTemp.copy())"
   ]
  },
  {
   "cell_type": "markdown",
   "id": "ee5c54a2",
   "metadata": {},
   "source": [
    "## Pred distribution"
   ]
  },
  {
   "cell_type": "code",
   "execution_count": null,
   "id": "7eaa9c1f",
   "metadata": {},
   "outputs": [],
   "source": [
    "testDist = getPredDist(testDF)\n",
    "testDist"
   ]
  },
  {
   "cell_type": "code",
   "execution_count": null,
   "id": "515bd84d",
   "metadata": {},
   "outputs": [],
   "source": [
    "newDist = getPredDist(newDF)\n",
    "newDist"
   ]
  },
  {
   "cell_type": "markdown",
   "id": "6ea42e40",
   "metadata": {},
   "source": [
    "## Cancer performance"
   ]
  },
  {
   "cell_type": "code",
   "execution_count": null,
   "id": "a30888a5",
   "metadata": {},
   "outputs": [],
   "source": [
    "testCancer, newCancer = evalLog.evaluate(testDF=testTemp.copy(), newDF=newTemp.copy(), by='cancer')"
   ]
  },
  {
   "cell_type": "code",
   "execution_count": null,
   "id": "4badd8e1",
   "metadata": {},
   "outputs": [],
   "source": [
    "print(round(testCancer.mean(), 4))\n",
    "testCancer"
   ]
  },
  {
   "cell_type": "code",
   "execution_count": null,
   "id": "c2526ad6",
   "metadata": {},
   "outputs": [],
   "source": [
    "print(round(newCancer.mean(), 4))\n",
    "mewCancer"
   ]
  },
  {
   "cell_type": "code",
   "execution_count": 83,
   "id": "56d78bde",
   "metadata": {},
   "outputs": [
    {
     "data": {
      "text/plain": [
       "p1    0.9569\n",
       "p2    0.9444\n",
       "p3    0.8736\n",
       "p4    0.8611\n",
       "p5    0.8395\n",
       "dtype: float64"
      ]
     },
     "execution_count": 83,
     "metadata": {},
     "output_type": "execute_result"
    }
   ],
   "source": [
    "round(newCancer.mean(), 4)"
   ]
  },
  {
   "cell_type": "code",
   "execution_count": null,
   "id": "e5ec6e70",
   "metadata": {},
   "outputs": [],
   "source": []
  }
 ],
 "metadata": {
  "kernelspec": {
   "display_name": "Python3.8 (tf-2.2)",
   "language": "python",
   "name": "tf-gpu"
  },
  "language_info": {
   "codemirror_mode": {
    "name": "ipython",
    "version": 3
   },
   "file_extension": ".py",
   "mimetype": "text/x-python",
   "name": "python",
   "nbconvert_exporter": "python",
   "pygments_lexer": "ipython3",
   "version": "3.8.12"
  }
 },
 "nbformat": 4,
 "nbformat_minor": 5
}
