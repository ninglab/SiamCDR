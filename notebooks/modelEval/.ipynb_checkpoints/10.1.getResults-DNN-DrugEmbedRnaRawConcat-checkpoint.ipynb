{
 "cells": [
  {
   "cell_type": "markdown",
   "id": "5fb6542f",
   "metadata": {},
   "source": [
    "# Load packages"
   ]
  },
  {
   "cell_type": "code",
   "execution_count": 1,
   "id": "93e2fc71",
   "metadata": {},
   "outputs": [],
   "source": [
    "import os\n",
    "import numpy as np\n",
    "import pandas as pd\n",
    "\n",
    "import warnings\n",
    "warnings.filterwarnings('ignore')"
   ]
  },
  {
   "cell_type": "code",
   "execution_count": 2,
   "id": "b0dc1798",
   "metadata": {},
   "outputs": [],
   "source": [
    "from scripts.evalModel import evalFullModel, getPredDist"
   ]
  },
  {
   "cell_type": "markdown",
   "id": "aadf26bc",
   "metadata": {},
   "source": [
    "# Define"
   ]
  },
  {
   "cell_type": "code",
   "execution_count": 3,
   "id": "8b1f45c6",
   "metadata": {},
   "outputs": [],
   "source": [
    "modelPath = '/fs/scratch/PCON0041/PatrickLawrence/cancer-drug-response/fewShot/cdr/embedDrug_rawRNA_concat/'\n",
    "datasets = ['test', 'newcancer']"
   ]
  },
  {
   "cell_type": "markdown",
   "id": "3178403d",
   "metadata": {},
   "source": [
    "# FS-CDR Performance"
   ]
  },
  {
   "cell_type": "code",
   "execution_count": 4,
   "id": "9a63564a",
   "metadata": {},
   "outputs": [],
   "source": [
    "modelEval = evalFullModel(modelPath, modelType='fsCDR')"
   ]
  },
  {
   "cell_type": "code",
   "execution_count": 8,
   "id": "6cfedc15",
   "metadata": {},
   "outputs": [
    {
     "name": "stdout",
     "output_type": "stream",
     "text": [
      "Model: Unfused-FewShotCDREmbedDrugRawCell_NL64_32_16_DO0-1_AFrelu_LR0-01_DR0-99_DS50_preds.csv\n",
      "\tPrecision@1: 0.8235\n",
      "\tPrecision@2: 0.6471\n",
      "\tPrecision@3: 0.5686\n",
      "\tPrecision@4: 0.5049\n",
      "\tPrecision@5: 0.4784\n",
      "\tPrecision@10: 0.4282\n",
      "\n",
      "Model: Unfused-FewShotCDREmbedDrugRawCell_NL64_DO0-1_AFrelu_LR0-001_DR0-99_DS50_preds.csv\n",
      "\tPrecision@1: 0.8235\n",
      "\tPrecision@2: 0.6569\n",
      "\tPrecision@3: 0.5686\n",
      "\tPrecision@4: 0.4902\n",
      "\tPrecision@5: 0.4667\n",
      "\tPrecision@10: 0.4179\n",
      "\n",
      "Model: Unfused-FewShotCDREmbedDrugRawCell_NL32_DO0-1_AFrelu_LR0-001_DR0-99_DS50_preds.csv\n",
      "\tPrecision@1: 0.8235\n",
      "\tPrecision@2: 0.6961\n",
      "\tPrecision@3: 0.5686\n",
      "\tPrecision@4: 0.5\n",
      "\tPrecision@5: 0.4549\n",
      "\tPrecision@10: 0.4077\n",
      "\n",
      "Best model with repsect to precision@1:\n",
      "Unfused-FewShotCDREmbedDrugRawCell_NL64_32_16_DO0-1_AFrelu_LR0-01_DR0-99_DS50 (0.8235)\n"
     ]
    }
   ],
   "source": [
    "bestModel1 = modelEval.iterateModels(datasets[0], at=1, thresh=0.82)"
   ]
  },
  {
   "cell_type": "code",
   "execution_count": 9,
   "id": "97098964",
   "metadata": {},
   "outputs": [
    {
     "name": "stdout",
     "output_type": "stream",
     "text": [
      "Model: Unfused-FewShotCDREmbedDrugRawCell_NL64_64_DO0-1_AFrelu_LR0-001_DR0-99_DS50_preds.csv\n",
      "\tPrecision@1: 0.7255\n",
      "\tPrecision@2: 0.549\n",
      "\tPrecision@3: 0.549\n",
      "\tPrecision@4: 0.4755\n",
      "\tPrecision@5: 0.4392\n",
      "\tPrecision@10: 0.4333\n",
      "\n",
      "Model: Unfused-FewShotCDREmbedDrugRawCell_NL16_16_DO0-1_AFrelu_LR0-001_DR0-99_DS500_preds.csv\n",
      "\tPrecision@1: 0.5686\n",
      "\tPrecision@2: 0.549\n",
      "\tPrecision@3: 0.4967\n",
      "\tPrecision@4: 0.4853\n",
      "\tPrecision@5: 0.4627\n",
      "\tPrecision@10: 0.3923\n",
      "\n",
      "Model: Unfused-FewShotCDREmbedDrugRawCell_NL64_16_8_DO0-3_AFrelu_LR0-001_DR0-99_DS50_preds.csv\n",
      "\tPrecision@1: 0.8039\n",
      "\tPrecision@2: 0.6863\n",
      "\tPrecision@3: 0.549\n",
      "\tPrecision@4: 0.5\n",
      "\tPrecision@5: 0.4784\n",
      "\tPrecision@10: 0.4\n",
      "\n",
      "Model: Unfused-FewShotCDREmbedDrugRawCell_NL64_16_DO0-1_AFrelu_LR0-001_DR0-99_DS500_preds.csv\n",
      "\tPrecision@1: 0.8039\n",
      "\tPrecision@2: 0.6471\n",
      "\tPrecision@3: 0.5621\n",
      "\tPrecision@4: 0.5\n",
      "\tPrecision@5: 0.4784\n",
      "\tPrecision@10: 0.4205\n",
      "\n",
      "Model: Unfused-FewShotCDREmbedDrugRawCell_NL64_32_8_DO0-1_AFrelu_LR0-001_DR0-99_DS500_preds.csv\n",
      "\tPrecision@1: 0.5686\n",
      "\tPrecision@2: 0.549\n",
      "\tPrecision@3: 0.5294\n",
      "\tPrecision@4: 0.4853\n",
      "\tPrecision@5: 0.498\n",
      "\tPrecision@10: 0.4769\n",
      "\n",
      "Best model with repsect to precision@5:\n",
      "Unfused-FewShotCDREmbedDrugRawCell_NL64_32_8_DO0-1_AFrelu_LR0-001_DR0-99_DS500 (0.498)\n"
     ]
    }
   ],
   "source": [
    "bestModel5 = modelEval.iterateModels(datasets[0], at=5, thresh=0.4)"
   ]
  },
  {
   "cell_type": "code",
   "execution_count": 10,
   "id": "08e92af4",
   "metadata": {},
   "outputs": [
    {
     "name": "stdout",
     "output_type": "stream",
     "text": [
      "Best model same @ k=1 and k=5: False\n"
     ]
    }
   ],
   "source": [
    "print(f\"Best model same @ k=1 and k=5: {bestModel1==bestModel5}\")"
   ]
  },
  {
   "cell_type": "code",
   "execution_count": 11,
   "id": "4d9ec6bc",
   "metadata": {},
   "outputs": [
    {
     "data": {
      "text/plain": [
       "'Unfused-FewShotCDREmbedDrugRawCell_NL64_32_16_DO0-1_AFrelu_LR0-01_DR0-99_DS50'"
      ]
     },
     "execution_count": 11,
     "metadata": {},
     "output_type": "execute_result"
    }
   ],
   "source": [
    "bestModel1"
   ]
  },
  {
   "cell_type": "code",
   "execution_count": 12,
   "id": "b3b519ce",
   "metadata": {},
   "outputs": [],
   "source": [
    "bestModel = 'Unfused-FewShotCDREmbedDrugRawCell_NL64_32_16_DO0-1_AFrelu_LR0-01_DR0-99_DS50'"
   ]
  },
  {
   "cell_type": "markdown",
   "id": "e7c145d7",
   "metadata": {},
   "source": [
    "## Eval best on test set"
   ]
  },
  {
   "cell_type": "code",
   "execution_count": 13,
   "id": "daccb56b",
   "metadata": {},
   "outputs": [
    {
     "name": "stdout",
     "output_type": "stream",
     "text": [
      "Average Cell Line precision @ k\n",
      "Model: Unfused-FewShotCDREmbedDrugRawCell_NL64_32_16_DO0-1_AFrelu_LR0-01_DR0-99_DS50\n",
      "\tPrecision@1: 0.8235\n",
      "\tPrecision@2: 0.6471\n",
      "\tPrecision@3: 0.5686\n",
      "\tPrecision@4: 0.5049\n",
      "\tPrecision@5: 0.4784\n",
      "\tPrecision@10: 0.4282\n",
      "\n",
      "Top ranked drug for each cell line:\n",
      "No true effective drugs identified in top 3 for ACH-000329 (top drug: YM-155)\n",
      "No true effective drugs identified in top 3 for ACH-000510 (top drug: YM-155)\n",
      "No true effective drugs identified in top 3 for ACH-000650 (top drug: YM-155)\n",
      "\n",
      "# cell lines without highly effective drug among top-3 predictions: 3\n",
      "\n",
      "# of unique drugs among top-3 predictions: 15\n"
     ]
    }
   ],
   "source": [
    "testPreds, testWrong, testCounts = modelEval.iterateModels(datasets[0], modelName=bestModel)"
   ]
  },
  {
   "cell_type": "code",
   "execution_count": 15,
   "id": "06545e8e",
   "metadata": {},
   "outputs": [
    {
     "name": "stdout",
     "output_type": "stream",
     "text": [
      "Avg varaince of predictions for each drug: 0.0002\n"
     ]
    }
   ],
   "source": [
    "testDist = getPredDist(testPreds)"
   ]
  },
  {
   "cell_type": "code",
   "execution_count": 16,
   "id": "aa50121c",
   "metadata": {},
   "outputs": [
    {
     "name": "stdout",
     "output_type": "stream",
     "text": [
      "p1    0.8283\n",
      "p2    0.6427\n",
      "p3    0.5647\n",
      "p4    0.5016\n",
      "p5    0.4814\n",
      "dtype: float64\n"
     ]
    },
    {
     "data": {
      "text/html": [
       "<div>\n",
       "<style scoped>\n",
       "    .dataframe tbody tr th:only-of-type {\n",
       "        vertical-align: middle;\n",
       "    }\n",
       "\n",
       "    .dataframe tbody tr th {\n",
       "        vertical-align: top;\n",
       "    }\n",
       "\n",
       "    .dataframe thead th {\n",
       "        text-align: right;\n",
       "    }\n",
       "</style>\n",
       "<table border=\"1\" class=\"dataframe\">\n",
       "  <thead>\n",
       "    <tr style=\"text-align: right;\">\n",
       "      <th></th>\n",
       "      <th>p1</th>\n",
       "      <th>p2</th>\n",
       "      <th>p3</th>\n",
       "      <th>p4</th>\n",
       "      <th>p5</th>\n",
       "    </tr>\n",
       "  </thead>\n",
       "  <tbody>\n",
       "    <tr>\n",
       "      <th>Ovarian Cancer</th>\n",
       "      <td>1.000000</td>\n",
       "      <td>0.875000</td>\n",
       "      <td>0.666667</td>\n",
       "      <td>0.562500</td>\n",
       "      <td>0.550000</td>\n",
       "    </tr>\n",
       "    <tr>\n",
       "      <th>Endometrial/Uterine Cancer</th>\n",
       "      <td>1.000000</td>\n",
       "      <td>0.833333</td>\n",
       "      <td>0.777778</td>\n",
       "      <td>0.666667</td>\n",
       "      <td>0.600000</td>\n",
       "    </tr>\n",
       "    <tr>\n",
       "      <th>Bladder Cancer</th>\n",
       "      <td>1.000000</td>\n",
       "      <td>0.833333</td>\n",
       "      <td>0.777778</td>\n",
       "      <td>0.666667</td>\n",
       "      <td>0.533333</td>\n",
       "    </tr>\n",
       "    <tr>\n",
       "      <th>Breast Cancer</th>\n",
       "      <td>1.000000</td>\n",
       "      <td>0.666667</td>\n",
       "      <td>0.444444</td>\n",
       "      <td>0.333333</td>\n",
       "      <td>0.400000</td>\n",
       "    </tr>\n",
       "    <tr>\n",
       "      <th>Head and Neck Cancer</th>\n",
       "      <td>1.000000</td>\n",
       "      <td>0.500000</td>\n",
       "      <td>0.555556</td>\n",
       "      <td>0.416667</td>\n",
       "      <td>0.466667</td>\n",
       "    </tr>\n",
       "    <tr>\n",
       "      <th>Liver Cancer</th>\n",
       "      <td>1.000000</td>\n",
       "      <td>0.500000</td>\n",
       "      <td>0.500000</td>\n",
       "      <td>0.500000</td>\n",
       "      <td>0.500000</td>\n",
       "    </tr>\n",
       "    <tr>\n",
       "      <th>Lung Cancer</th>\n",
       "      <td>0.923077</td>\n",
       "      <td>0.653846</td>\n",
       "      <td>0.615385</td>\n",
       "      <td>0.519231</td>\n",
       "      <td>0.476923</td>\n",
       "    </tr>\n",
       "    <tr>\n",
       "      <th>Pancreatic Cancer</th>\n",
       "      <td>0.750000</td>\n",
       "      <td>0.750000</td>\n",
       "      <td>0.500000</td>\n",
       "      <td>0.500000</td>\n",
       "      <td>0.400000</td>\n",
       "    </tr>\n",
       "    <tr>\n",
       "      <th>Esophageal Cancer</th>\n",
       "      <td>0.666667</td>\n",
       "      <td>0.500000</td>\n",
       "      <td>0.555556</td>\n",
       "      <td>0.416667</td>\n",
       "      <td>0.400000</td>\n",
       "    </tr>\n",
       "    <tr>\n",
       "      <th>Skin Cancer</th>\n",
       "      <td>0.600000</td>\n",
       "      <td>0.600000</td>\n",
       "      <td>0.466667</td>\n",
       "      <td>0.500000</td>\n",
       "      <td>0.400000</td>\n",
       "    </tr>\n",
       "    <tr>\n",
       "      <th>Colon/Colorectal Cancer</th>\n",
       "      <td>0.500000</td>\n",
       "      <td>0.750000</td>\n",
       "      <td>0.666667</td>\n",
       "      <td>0.625000</td>\n",
       "      <td>0.650000</td>\n",
       "    </tr>\n",
       "    <tr>\n",
       "      <th>Brain Cancer</th>\n",
       "      <td>0.500000</td>\n",
       "      <td>0.250000</td>\n",
       "      <td>0.250000</td>\n",
       "      <td>0.312500</td>\n",
       "      <td>0.400000</td>\n",
       "    </tr>\n",
       "  </tbody>\n",
       "</table>\n",
       "</div>"
      ],
      "text/plain": [
       "                                  p1        p2        p3        p4        p5\n",
       "Ovarian Cancer              1.000000  0.875000  0.666667  0.562500  0.550000\n",
       "Endometrial/Uterine Cancer  1.000000  0.833333  0.777778  0.666667  0.600000\n",
       "Bladder Cancer              1.000000  0.833333  0.777778  0.666667  0.533333\n",
       "Breast Cancer               1.000000  0.666667  0.444444  0.333333  0.400000\n",
       "Head and Neck Cancer        1.000000  0.500000  0.555556  0.416667  0.466667\n",
       "Liver Cancer                1.000000  0.500000  0.500000  0.500000  0.500000\n",
       "Lung Cancer                 0.923077  0.653846  0.615385  0.519231  0.476923\n",
       "Pancreatic Cancer           0.750000  0.750000  0.500000  0.500000  0.400000\n",
       "Esophageal Cancer           0.666667  0.500000  0.555556  0.416667  0.400000\n",
       "Skin Cancer                 0.600000  0.600000  0.466667  0.500000  0.400000\n",
       "Colon/Colorectal Cancer     0.500000  0.750000  0.666667  0.625000  0.650000\n",
       "Brain Cancer                0.500000  0.250000  0.250000  0.312500  0.400000"
      ]
     },
     "execution_count": 16,
     "metadata": {},
     "output_type": "execute_result"
    }
   ],
   "source": [
    "testCancer = modelEval.iterateModels(datasets[0], modelName=bestModel, by='cancer')\n",
    "print(round(testCancer.mean(), 4))\n",
    "testCancer"
   ]
  },
  {
   "cell_type": "markdown",
   "id": "457e6e69",
   "metadata": {},
   "source": [
    "## Evaluate best model on newcancer set"
   ]
  },
  {
   "cell_type": "code",
   "execution_count": 17,
   "id": "e0fcdfa8",
   "metadata": {},
   "outputs": [
    {
     "name": "stdout",
     "output_type": "stream",
     "text": [
      "Average Cell Line precision @ k\n",
      "Model: Unfused-FewShotCDREmbedDrugRawCell_NL64_32_16_DO0-1_AFrelu_LR0-01_DR0-99_DS50\n",
      "\tPrecision@1: 0.7692\n",
      "\tPrecision@2: 0.6538\n",
      "\tPrecision@3: 0.6103\n",
      "\tPrecision@4: 0.5385\n",
      "\tPrecision@5: 0.5077\n",
      "\tPrecision@10: 0.4765\n",
      "\n",
      "Top ranked drug for each cell line:\n",
      "No true effective drugs identified in top 3 for ACH-000171 (top drug: YM-155)\n",
      "No true effective drugs identified in top 3 for ACH-000189 (top drug: rubitecan)\n",
      "No true effective drugs identified in top 3 for ACH-000209 (top drug: rubitecan)\n",
      "No true effective drugs identified in top 3 for ACH-000268 (top drug: rubitecan)\n",
      "No true effective drugs identified in top 3 for ACH-000433 (top drug: YM-155)\n",
      "No true effective drugs identified in top 3 for ACH-000484 (top drug: YM-155)\n",
      "No true effective drugs identified in top 3 for ACH-000516 (top drug: genz-644282)\n",
      "No true effective drugs identified in top 3 for ACH-000649 (top drug: YM-155)\n",
      "No true effective drugs identified in top 3 for ACH-000976 (top drug: rubitecan)\n",
      "No true effective drugs identified in top 3 for ACH-001321 (top drug: genz-644282)\n",
      "\n",
      "# cell lines without highly effective drug among top-3 predictions: 10\n",
      "\n",
      "# of unique drugs among top-3 predictions: 17\n"
     ]
    },
    {
     "data": {
      "text/html": [
       "<div>\n",
       "<style scoped>\n",
       "    .dataframe tbody tr th:only-of-type {\n",
       "        vertical-align: middle;\n",
       "    }\n",
       "\n",
       "    .dataframe tbody tr th {\n",
       "        vertical-align: top;\n",
       "    }\n",
       "\n",
       "    .dataframe thead th {\n",
       "        text-align: right;\n",
       "    }\n",
       "</style>\n",
       "<table border=\"1\" class=\"dataframe\">\n",
       "  <thead>\n",
       "    <tr style=\"text-align: right;\">\n",
       "      <th></th>\n",
       "      <th>1</th>\n",
       "      <th>2</th>\n",
       "      <th>3</th>\n",
       "      <th>total</th>\n",
       "    </tr>\n",
       "  </thead>\n",
       "  <tbody>\n",
       "    <tr>\n",
       "      <th>YM-155</th>\n",
       "      <td>42</td>\n",
       "      <td>2</td>\n",
       "      <td>0</td>\n",
       "      <td>44</td>\n",
       "    </tr>\n",
       "    <tr>\n",
       "      <th>rubitecan</th>\n",
       "      <td>15</td>\n",
       "      <td>32</td>\n",
       "      <td>2</td>\n",
       "      <td>49</td>\n",
       "    </tr>\n",
       "    <tr>\n",
       "      <th>genz-644282</th>\n",
       "      <td>5</td>\n",
       "      <td>19</td>\n",
       "      <td>28</td>\n",
       "      <td>52</td>\n",
       "    </tr>\n",
       "    <tr>\n",
       "      <th>exatecan-mesylate</th>\n",
       "      <td>2</td>\n",
       "      <td>0</td>\n",
       "      <td>0</td>\n",
       "      <td>2</td>\n",
       "    </tr>\n",
       "    <tr>\n",
       "      <th>camptothecin</th>\n",
       "      <td>1</td>\n",
       "      <td>3</td>\n",
       "      <td>0</td>\n",
       "      <td>4</td>\n",
       "    </tr>\n",
       "    <tr>\n",
       "      <th>10-hydroxycamptothecin</th>\n",
       "      <td>1</td>\n",
       "      <td>0</td>\n",
       "      <td>6</td>\n",
       "      <td>7</td>\n",
       "    </tr>\n",
       "    <tr>\n",
       "      <th>beta-lapachone</th>\n",
       "      <td>1</td>\n",
       "      <td>0</td>\n",
       "      <td>2</td>\n",
       "      <td>3</td>\n",
       "    </tr>\n",
       "    <tr>\n",
       "      <th>TAS-103</th>\n",
       "      <td>0</td>\n",
       "      <td>4</td>\n",
       "      <td>13</td>\n",
       "      <td>17</td>\n",
       "    </tr>\n",
       "    <tr>\n",
       "      <th>topotecan</th>\n",
       "      <td>0</td>\n",
       "      <td>3</td>\n",
       "      <td>8</td>\n",
       "      <td>11</td>\n",
       "    </tr>\n",
       "    <tr>\n",
       "      <th>daunorubicin</th>\n",
       "      <td>0</td>\n",
       "      <td>1</td>\n",
       "      <td>1</td>\n",
       "      <td>2</td>\n",
       "    </tr>\n",
       "    <tr>\n",
       "      <th>nemorubicin</th>\n",
       "      <td>0</td>\n",
       "      <td>1</td>\n",
       "      <td>0</td>\n",
       "      <td>1</td>\n",
       "    </tr>\n",
       "    <tr>\n",
       "      <th>epothilone-d</th>\n",
       "      <td>0</td>\n",
       "      <td>1</td>\n",
       "      <td>0</td>\n",
       "      <td>1</td>\n",
       "    </tr>\n",
       "    <tr>\n",
       "      <th>doxorubicin</th>\n",
       "      <td>0</td>\n",
       "      <td>1</td>\n",
       "      <td>0</td>\n",
       "      <td>1</td>\n",
       "    </tr>\n",
       "    <tr>\n",
       "      <th>echinomycin</th>\n",
       "      <td>0</td>\n",
       "      <td>0</td>\n",
       "      <td>3</td>\n",
       "      <td>3</td>\n",
       "    </tr>\n",
       "    <tr>\n",
       "      <th>irinotecan</th>\n",
       "      <td>0</td>\n",
       "      <td>0</td>\n",
       "      <td>2</td>\n",
       "      <td>2</td>\n",
       "    </tr>\n",
       "    <tr>\n",
       "      <th>dolastatin-10</th>\n",
       "      <td>0</td>\n",
       "      <td>0</td>\n",
       "      <td>1</td>\n",
       "      <td>1</td>\n",
       "    </tr>\n",
       "    <tr>\n",
       "      <th>verubulin</th>\n",
       "      <td>0</td>\n",
       "      <td>0</td>\n",
       "      <td>1</td>\n",
       "      <td>1</td>\n",
       "    </tr>\n",
       "  </tbody>\n",
       "</table>\n",
       "</div>"
      ],
      "text/plain": [
       "                         1   2   3  total\n",
       "YM-155                  42   2   0     44\n",
       "rubitecan               15  32   2     49\n",
       "genz-644282              5  19  28     52\n",
       "exatecan-mesylate        2   0   0      2\n",
       "camptothecin             1   3   0      4\n",
       "10-hydroxycamptothecin   1   0   6      7\n",
       "beta-lapachone           1   0   2      3\n",
       "TAS-103                  0   4  13     17\n",
       "topotecan                0   3   8     11\n",
       "daunorubicin             0   1   1      2\n",
       "nemorubicin              0   1   0      1\n",
       "epothilone-d             0   1   0      1\n",
       "doxorubicin              0   1   0      1\n",
       "echinomycin              0   0   3      3\n",
       "irinotecan               0   0   2      2\n",
       "dolastatin-10            0   0   1      1\n",
       "verubulin                0   0   1      1"
      ]
     },
     "execution_count": 17,
     "metadata": {},
     "output_type": "execute_result"
    }
   ],
   "source": [
    "newPreds, newWrong, newCounts = modelEval.iterateModels(datasets[1], modelName=bestModel)\n",
    "newCounts"
   ]
  },
  {
   "cell_type": "code",
   "execution_count": 18,
   "id": "1e8ea174",
   "metadata": {},
   "outputs": [
    {
     "name": "stdout",
     "output_type": "stream",
     "text": [
      "Avg varaince of predictions for each drug: 0.0002\n"
     ]
    }
   ],
   "source": [
    "newDist = getPredDist(newPreds)"
   ]
  },
  {
   "cell_type": "code",
   "execution_count": 19,
   "id": "89022eee",
   "metadata": {},
   "outputs": [
    {
     "name": "stdout",
     "output_type": "stream",
     "text": [
      "p1    0.7710\n",
      "p2    0.6461\n",
      "p3    0.6224\n",
      "p4    0.5390\n",
      "p5    0.5130\n",
      "dtype: float64\n"
     ]
    },
    {
     "data": {
      "text/html": [
       "<div>\n",
       "<style scoped>\n",
       "    .dataframe tbody tr th:only-of-type {\n",
       "        vertical-align: middle;\n",
       "    }\n",
       "\n",
       "    .dataframe tbody tr th {\n",
       "        vertical-align: top;\n",
       "    }\n",
       "\n",
       "    .dataframe thead th {\n",
       "        text-align: right;\n",
       "    }\n",
       "</style>\n",
       "<table border=\"1\" class=\"dataframe\">\n",
       "  <thead>\n",
       "    <tr style=\"text-align: right;\">\n",
       "      <th></th>\n",
       "      <th>p1</th>\n",
       "      <th>p2</th>\n",
       "      <th>p3</th>\n",
       "      <th>p4</th>\n",
       "      <th>p5</th>\n",
       "    </tr>\n",
       "  </thead>\n",
       "  <tbody>\n",
       "    <tr>\n",
       "      <th>Rhabdoid</th>\n",
       "      <td>1.000000</td>\n",
       "      <td>0.875000</td>\n",
       "      <td>0.750000</td>\n",
       "      <td>0.750000</td>\n",
       "      <td>0.650000</td>\n",
       "    </tr>\n",
       "    <tr>\n",
       "      <th>Gastric Cancer</th>\n",
       "      <td>1.000000</td>\n",
       "      <td>0.785714</td>\n",
       "      <td>0.714286</td>\n",
       "      <td>0.625000</td>\n",
       "      <td>0.571429</td>\n",
       "    </tr>\n",
       "    <tr>\n",
       "      <th>Neuroblastoma</th>\n",
       "      <td>1.000000</td>\n",
       "      <td>0.666667</td>\n",
       "      <td>0.666667</td>\n",
       "      <td>0.500000</td>\n",
       "      <td>0.533333</td>\n",
       "    </tr>\n",
       "    <tr>\n",
       "      <th>Gallbladder Cancer</th>\n",
       "      <td>1.000000</td>\n",
       "      <td>0.500000</td>\n",
       "      <td>0.666667</td>\n",
       "      <td>0.500000</td>\n",
       "      <td>0.400000</td>\n",
       "    </tr>\n",
       "    <tr>\n",
       "      <th>Bone Cancer</th>\n",
       "      <td>0.777778</td>\n",
       "      <td>0.666667</td>\n",
       "      <td>0.629630</td>\n",
       "      <td>0.583333</td>\n",
       "      <td>0.600000</td>\n",
       "    </tr>\n",
       "    <tr>\n",
       "      <th>Thyroid Cancer</th>\n",
       "      <td>0.750000</td>\n",
       "      <td>0.750000</td>\n",
       "      <td>0.750000</td>\n",
       "      <td>0.625000</td>\n",
       "      <td>0.550000</td>\n",
       "    </tr>\n",
       "    <tr>\n",
       "      <th>Sarcoma</th>\n",
       "      <td>0.666667</td>\n",
       "      <td>0.666667</td>\n",
       "      <td>0.611111</td>\n",
       "      <td>0.541667</td>\n",
       "      <td>0.566667</td>\n",
       "    </tr>\n",
       "    <tr>\n",
       "      <th>Kidney Cancer</th>\n",
       "      <td>0.615385</td>\n",
       "      <td>0.500000</td>\n",
       "      <td>0.435897</td>\n",
       "      <td>0.365385</td>\n",
       "      <td>0.338462</td>\n",
       "    </tr>\n",
       "    <tr>\n",
       "      <th>Prostate Cancer</th>\n",
       "      <td>0.500000</td>\n",
       "      <td>0.750000</td>\n",
       "      <td>0.666667</td>\n",
       "      <td>0.500000</td>\n",
       "      <td>0.600000</td>\n",
       "    </tr>\n",
       "    <tr>\n",
       "      <th>Bile Duct Cancer</th>\n",
       "      <td>0.400000</td>\n",
       "      <td>0.300000</td>\n",
       "      <td>0.333333</td>\n",
       "      <td>0.400000</td>\n",
       "      <td>0.320000</td>\n",
       "    </tr>\n",
       "  </tbody>\n",
       "</table>\n",
       "</div>"
      ],
      "text/plain": [
       "                          p1        p2        p3        p4        p5\n",
       "Rhabdoid            1.000000  0.875000  0.750000  0.750000  0.650000\n",
       "Gastric Cancer      1.000000  0.785714  0.714286  0.625000  0.571429\n",
       "Neuroblastoma       1.000000  0.666667  0.666667  0.500000  0.533333\n",
       "Gallbladder Cancer  1.000000  0.500000  0.666667  0.500000  0.400000\n",
       "Bone Cancer         0.777778  0.666667  0.629630  0.583333  0.600000\n",
       "Thyroid Cancer      0.750000  0.750000  0.750000  0.625000  0.550000\n",
       "Sarcoma             0.666667  0.666667  0.611111  0.541667  0.566667\n",
       "Kidney Cancer       0.615385  0.500000  0.435897  0.365385  0.338462\n",
       "Prostate Cancer     0.500000  0.750000  0.666667  0.500000  0.600000\n",
       "Bile Duct Cancer    0.400000  0.300000  0.333333  0.400000  0.320000"
      ]
     },
     "execution_count": 19,
     "metadata": {},
     "output_type": "execute_result"
    }
   ],
   "source": [
    "newCancer = modelEval.iterateModels(datasets[1], modelName=bestModel, by='Cancer')\n",
    "print(round(newCancer.mean(), 4))\n",
    "newCancer"
   ]
  },
  {
   "cell_type": "code",
   "execution_count": null,
   "id": "482092e7",
   "metadata": {},
   "outputs": [],
   "source": []
  }
 ],
 "metadata": {
  "kernelspec": {
   "display_name": "Python3.8 (tf-2.2)",
   "language": "python",
   "name": "tf-gpu"
  },
  "language_info": {
   "codemirror_mode": {
    "name": "ipython",
    "version": 3
   },
   "file_extension": ".py",
   "mimetype": "text/x-python",
   "name": "python",
   "nbconvert_exporter": "python",
   "pygments_lexer": "ipython3",
   "version": "3.8.12"
  }
 },
 "nbformat": 4,
 "nbformat_minor": 5
}
