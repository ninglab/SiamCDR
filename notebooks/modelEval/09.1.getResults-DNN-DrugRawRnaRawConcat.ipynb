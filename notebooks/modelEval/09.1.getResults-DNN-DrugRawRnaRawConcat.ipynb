{
 "cells": [
  {
   "cell_type": "markdown",
   "id": "5fb6542f",
   "metadata": {},
   "source": [
    "# Load packages"
   ]
  },
  {
   "cell_type": "code",
   "execution_count": 1,
   "id": "93e2fc71",
   "metadata": {},
   "outputs": [],
   "source": [
    "import os\n",
    "import numpy as np\n",
    "import pandas as pd\n",
    "\n",
    "import warnings\n",
    "warnings.filterwarnings('ignore')"
   ]
  },
  {
   "cell_type": "code",
   "execution_count": 8,
   "id": "b0dc1798",
   "metadata": {},
   "outputs": [],
   "source": [
    "from scripts.evalModel import evalFullModel, getPredDist"
   ]
  },
  {
   "cell_type": "markdown",
   "id": "aadf26bc",
   "metadata": {},
   "source": [
    "# Define"
   ]
  },
  {
   "cell_type": "code",
   "execution_count": 3,
   "id": "8b1f45c6",
   "metadata": {},
   "outputs": [],
   "source": [
    "modelPath = '/fs/scratch/PCON0041/PatrickLawrence/cancer-drug-response/fewShot/cdr/rawDrug_rawRNA_concat/'\n",
    "datasets = ['test', 'newcancer']"
   ]
  },
  {
   "cell_type": "markdown",
   "id": "3178403d",
   "metadata": {},
   "source": [
    "# FS-CDR Performance"
   ]
  },
  {
   "cell_type": "code",
   "execution_count": 4,
   "id": "9a63564a",
   "metadata": {},
   "outputs": [],
   "source": [
    "modelEval = evalFullModel(modelPath, modelType='fsCDR')"
   ]
  },
  {
   "cell_type": "code",
   "execution_count": 5,
   "id": "6cfedc15",
   "metadata": {},
   "outputs": [
    {
     "ename": "KeyboardInterrupt",
     "evalue": "",
     "output_type": "error",
     "traceback": [
      "\u001b[0;31m---------------------------------------------------------------------------\u001b[0m",
      "\u001b[0;31mKeyboardInterrupt\u001b[0m                         Traceback (most recent call last)",
      "Input \u001b[0;32mIn [5]\u001b[0m, in \u001b[0;36m<cell line: 1>\u001b[0;34m()\u001b[0m\n\u001b[0;32m----> 1\u001b[0m bestModel1 \u001b[38;5;241m=\u001b[39m \u001b[43mmodelEval\u001b[49m\u001b[38;5;241;43m.\u001b[39;49m\u001b[43miterateModels\u001b[49m\u001b[43m(\u001b[49m\u001b[43mdatasets\u001b[49m\u001b[43m[\u001b[49m\u001b[38;5;241;43m0\u001b[39;49m\u001b[43m]\u001b[49m\u001b[43m,\u001b[49m\u001b[43m \u001b[49m\u001b[43mat\u001b[49m\u001b[38;5;241;43m=\u001b[39;49m\u001b[38;5;241;43m1\u001b[39;49m\u001b[43m,\u001b[49m\u001b[43m \u001b[49m\u001b[43mthresh\u001b[49m\u001b[38;5;241;43m=\u001b[39;49m\u001b[38;5;241;43m0.95\u001b[39;49m\u001b[43m)\u001b[49m\n",
      "File \u001b[0;32m~/cancer-drug-response/fs-cdr/notebooks/modelEval/scripts/evalModel.py:219\u001b[0m, in \u001b[0;36mevalFullModel.iterateModels\u001b[0;34m(self, dataset, modelName, thresh, k, at, by)\u001b[0m\n\u001b[1;32m    217\u001b[0m predDF \u001b[38;5;241m=\u001b[39m pd\u001b[38;5;241m.\u001b[39mread_csv(modelPredPath)\n\u001b[1;32m    218\u001b[0m predDF\u001b[38;5;241m.\u001b[39msort_values(by\u001b[38;5;241m=\u001b[39m\u001b[38;5;124m'\u001b[39m\u001b[38;5;124mpred\u001b[39m\u001b[38;5;124m'\u001b[39m, ascending\u001b[38;5;241m=\u001b[39m\u001b[38;5;28;01mFalse\u001b[39;00m, inplace\u001b[38;5;241m=\u001b[39m\u001b[38;5;28;01mTrue\u001b[39;00m)\n\u001b[0;32m--> 219\u001b[0m thresh \u001b[38;5;241m=\u001b[39m \u001b[43mprecision\u001b[49m\u001b[43m(\u001b[49m\u001b[43mpredDF\u001b[49m\u001b[38;5;241;43m.\u001b[39;49m\u001b[43mcopy\u001b[49m\u001b[43m(\u001b[49m\u001b[43m)\u001b[49m\u001b[43m,\u001b[49m\u001b[43m \u001b[49m\u001b[43mthresh\u001b[49m\u001b[38;5;241;43m=\u001b[39;49m\u001b[43mbestThresh\u001b[49m\u001b[43m,\u001b[49m\u001b[43m \u001b[49m\u001b[43mat\u001b[49m\u001b[38;5;241;43m=\u001b[39;49m\u001b[43mat\u001b[49m\u001b[43m,\u001b[49m\u001b[43m \u001b[49m\u001b[43mmodelName\u001b[49m\u001b[38;5;241;43m=\u001b[39;49m\u001b[43mf\u001b[49m\u001b[43m,\u001b[49m\u001b[43m \u001b[49m\u001b[43mby\u001b[49m\u001b[38;5;241;43m=\u001b[39;49m\u001b[38;5;124;43m'\u001b[39;49m\u001b[38;5;124;43mcellLine\u001b[39;49m\u001b[38;5;124;43m'\u001b[39;49m\u001b[43m)\u001b[49m\n\u001b[1;32m    220\u001b[0m \u001b[38;5;28;01mif\u001b[39;00m thresh \u001b[38;5;241m>\u001b[39m bestThresh:\n\u001b[1;32m    221\u001b[0m     bestModel \u001b[38;5;241m=\u001b[39m \u001b[38;5;124m\"\u001b[39m\u001b[38;5;124m_\u001b[39m\u001b[38;5;124m\"\u001b[39m\u001b[38;5;241m.\u001b[39mjoin(f\u001b[38;5;241m.\u001b[39msplit(\u001b[38;5;124m\"\u001b[39m\u001b[38;5;124m_\u001b[39m\u001b[38;5;124m\"\u001b[39m)[:\u001b[38;5;241m-\u001b[39m\u001b[38;5;241m1\u001b[39m])\n",
      "File \u001b[0;32m~/cancer-drug-response/fs-cdr/notebooks/modelEval/scripts/evalModel.py:137\u001b[0m, in \u001b[0;36mprecision\u001b[0;34m(preds, thresh, at, modelName, by)\u001b[0m\n\u001b[1;32m    135\u001b[0m \u001b[38;5;28;01mdef\u001b[39;00m \u001b[38;5;21mprecision\u001b[39m(preds, thresh\u001b[38;5;241m=\u001b[39m\u001b[38;5;241m0.5\u001b[39m, at\u001b[38;5;241m=\u001b[39m\u001b[38;5;241m5\u001b[39m, modelName\u001b[38;5;241m=\u001b[39m\u001b[38;5;28;01mNone\u001b[39;00m, by\u001b[38;5;241m=\u001b[39m\u001b[38;5;124m'\u001b[39m\u001b[38;5;124mcellLine\u001b[39m\u001b[38;5;124m'\u001b[39m):\n\u001b[1;32m    136\u001b[0m     \u001b[38;5;28;01mif\u001b[39;00m by \u001b[38;5;241m==\u001b[39m \u001b[38;5;124m'\u001b[39m\u001b[38;5;124mcellLine\u001b[39m\u001b[38;5;124m'\u001b[39m:\n\u001b[0;32m--> 137\u001b[0m         \u001b[38;5;28;01mreturn\u001b[39;00m \u001b[43mclPrecision\u001b[49m\u001b[43m(\u001b[49m\u001b[43mpreds\u001b[49m\u001b[43m,\u001b[49m\u001b[43m \u001b[49m\u001b[43mmodelName\u001b[49m\u001b[43m,\u001b[49m\u001b[43m \u001b[49m\u001b[43mat\u001b[49m\u001b[38;5;241;43m=\u001b[39;49m\u001b[43mat\u001b[49m\u001b[43m,\u001b[49m\u001b[43m \u001b[49m\u001b[43mthresh\u001b[49m\u001b[38;5;241;43m=\u001b[39;49m\u001b[43mthresh\u001b[49m\u001b[43m)\u001b[49m\n\u001b[1;32m    138\u001b[0m     \u001b[38;5;28;01melse\u001b[39;00m:\n\u001b[1;32m    139\u001b[0m         cancers \u001b[38;5;241m=\u001b[39m {}\n",
      "File \u001b[0;32m~/cancer-drug-response/fs-cdr/notebooks/modelEval/scripts/evalModel.py:103\u001b[0m, in \u001b[0;36mclPrecision\u001b[0;34m(preds, modelName, thresh, at, getResults, verbose)\u001b[0m\n\u001b[1;32m    100\u001b[0m     \u001b[38;5;28;01mcontinue\u001b[39;00m\n\u001b[1;32m    102\u001b[0m cellLines\u001b[38;5;241m.\u001b[39mappend(cell)\n\u001b[0;32m--> 103\u001b[0m sortDF \u001b[38;5;241m=\u001b[39m \u001b[43msubdf\u001b[49m\u001b[38;5;241;43m.\u001b[39;49m\u001b[43msort_values\u001b[49m\u001b[43m(\u001b[49m\u001b[43mby\u001b[49m\u001b[38;5;241;43m=\u001b[39;49m\u001b[38;5;124;43m'\u001b[39;49m\u001b[38;5;124;43mpred\u001b[39;49m\u001b[38;5;124;43m'\u001b[39;49m\u001b[43m,\u001b[49m\u001b[43m \u001b[49m\u001b[43mascending\u001b[49m\u001b[38;5;241;43m=\u001b[39;49m\u001b[38;5;28;43;01mFalse\u001b[39;49;00m\u001b[43m)\u001b[49m\n\u001b[1;32m    104\u001b[0m p1\u001b[38;5;241m.\u001b[39mappend(sortDF\u001b[38;5;241m.\u001b[39miloc[:\u001b[38;5;241m1\u001b[39m, :]\u001b[38;5;241m.\u001b[39mtrue\u001b[38;5;241m.\u001b[39msum() \u001b[38;5;241m/\u001b[39m \u001b[38;5;241m1\u001b[39m)\n\u001b[1;32m    105\u001b[0m p2\u001b[38;5;241m.\u001b[39mappend(sortDF\u001b[38;5;241m.\u001b[39miloc[:\u001b[38;5;241m2\u001b[39m, :]\u001b[38;5;241m.\u001b[39mtrue\u001b[38;5;241m.\u001b[39msum() \u001b[38;5;241m/\u001b[39m \u001b[38;5;241m2\u001b[39m)\n",
      "File \u001b[0;32m~/.conda/envs/tf-gpu/lib/python3.8/site-packages/pandas/util/_decorators.py:331\u001b[0m, in \u001b[0;36mdeprecate_nonkeyword_arguments.<locals>.decorate.<locals>.wrapper\u001b[0;34m(*args, **kwargs)\u001b[0m\n\u001b[1;32m    325\u001b[0m \u001b[38;5;28;01mif\u001b[39;00m \u001b[38;5;28mlen\u001b[39m(args) \u001b[38;5;241m>\u001b[39m num_allow_args:\n\u001b[1;32m    326\u001b[0m     warnings\u001b[38;5;241m.\u001b[39mwarn(\n\u001b[1;32m    327\u001b[0m         msg\u001b[38;5;241m.\u001b[39mformat(arguments\u001b[38;5;241m=\u001b[39m_format_argument_list(allow_args)),\n\u001b[1;32m    328\u001b[0m         \u001b[38;5;167;01mFutureWarning\u001b[39;00m,\n\u001b[1;32m    329\u001b[0m         stacklevel\u001b[38;5;241m=\u001b[39mfind_stack_level(),\n\u001b[1;32m    330\u001b[0m     )\n\u001b[0;32m--> 331\u001b[0m \u001b[38;5;28;01mreturn\u001b[39;00m \u001b[43mfunc\u001b[49m\u001b[43m(\u001b[49m\u001b[38;5;241;43m*\u001b[39;49m\u001b[43margs\u001b[49m\u001b[43m,\u001b[49m\u001b[43m \u001b[49m\u001b[38;5;241;43m*\u001b[39;49m\u001b[38;5;241;43m*\u001b[39;49m\u001b[43mkwargs\u001b[49m\u001b[43m)\u001b[49m\n",
      "File \u001b[0;32m~/.conda/envs/tf-gpu/lib/python3.8/site-packages/pandas/core/frame.py:6912\u001b[0m, in \u001b[0;36mDataFrame.sort_values\u001b[0;34m(self, by, axis, ascending, inplace, kind, na_position, ignore_index, key)\u001b[0m\n\u001b[1;32m   6909\u001b[0m     \u001b[38;5;28;01mif\u001b[39;00m \u001b[38;5;28misinstance\u001b[39m(ascending, (\u001b[38;5;28mtuple\u001b[39m, \u001b[38;5;28mlist\u001b[39m)):\n\u001b[1;32m   6910\u001b[0m         ascending \u001b[38;5;241m=\u001b[39m ascending[\u001b[38;5;241m0\u001b[39m]\n\u001b[0;32m-> 6912\u001b[0m     indexer \u001b[38;5;241m=\u001b[39m \u001b[43mnargsort\u001b[49m\u001b[43m(\u001b[49m\n\u001b[1;32m   6913\u001b[0m \u001b[43m        \u001b[49m\u001b[43mk\u001b[49m\u001b[43m,\u001b[49m\u001b[43m \u001b[49m\u001b[43mkind\u001b[49m\u001b[38;5;241;43m=\u001b[39;49m\u001b[43mkind\u001b[49m\u001b[43m,\u001b[49m\u001b[43m \u001b[49m\u001b[43mascending\u001b[49m\u001b[38;5;241;43m=\u001b[39;49m\u001b[43mascending\u001b[49m\u001b[43m,\u001b[49m\u001b[43m \u001b[49m\u001b[43mna_position\u001b[49m\u001b[38;5;241;43m=\u001b[39;49m\u001b[43mna_position\u001b[49m\u001b[43m,\u001b[49m\u001b[43m \u001b[49m\u001b[43mkey\u001b[49m\u001b[38;5;241;43m=\u001b[39;49m\u001b[43mkey\u001b[49m\n\u001b[1;32m   6914\u001b[0m \u001b[43m    \u001b[49m\u001b[43m)\u001b[49m\n\u001b[1;32m   6915\u001b[0m \u001b[38;5;28;01melse\u001b[39;00m:\n\u001b[1;32m   6916\u001b[0m     \u001b[38;5;28;01mreturn\u001b[39;00m \u001b[38;5;28mself\u001b[39m\u001b[38;5;241m.\u001b[39mcopy()\n",
      "File \u001b[0;32m~/.conda/envs/tf-gpu/lib/python3.8/site-packages/pandas/core/sorting.py:431\u001b[0m, in \u001b[0;36mnargsort\u001b[0;34m(items, kind, ascending, na_position, key, mask)\u001b[0m\n\u001b[1;32m    428\u001b[0m     items \u001b[38;5;241m=\u001b[39m np\u001b[38;5;241m.\u001b[39masanyarray(items)\n\u001b[1;32m    430\u001b[0m idx \u001b[38;5;241m=\u001b[39m np\u001b[38;5;241m.\u001b[39marange(\u001b[38;5;28mlen\u001b[39m(items))\n\u001b[0;32m--> 431\u001b[0m non_nans \u001b[38;5;241m=\u001b[39m \u001b[43mitems\u001b[49m\u001b[43m[\u001b[49m\u001b[38;5;241;43m~\u001b[39;49m\u001b[43mmask\u001b[49m\u001b[43m]\u001b[49m\n\u001b[1;32m    432\u001b[0m non_nan_idx \u001b[38;5;241m=\u001b[39m idx[\u001b[38;5;241m~\u001b[39mmask]\n\u001b[1;32m    434\u001b[0m nan_idx \u001b[38;5;241m=\u001b[39m np\u001b[38;5;241m.\u001b[39mnonzero(mask)[\u001b[38;5;241m0\u001b[39m]\n",
      "\u001b[0;31mKeyboardInterrupt\u001b[0m: "
     ]
    }
   ],
   "source": [
    "bestModel1 = modelEval.iterateModels(datasets[0], at=1, thresh=0.95)"
   ]
  },
  {
   "cell_type": "code",
   "execution_count": 6,
   "id": "97098964",
   "metadata": {},
   "outputs": [
    {
     "name": "stdout",
     "output_type": "stream",
     "text": [
      "Model: Unfused-FewShotCDRRawDrugRawCell_NL64_32_DO0-1_AFrelu_LR0-001_DR0-99_DS50_preds.csv\n",
      "\tPrecision@1: 0.9412\n",
      "\tPrecision@2: 0.9118\n",
      "\tPrecision@3: 0.8627\n",
      "\tPrecision@4: 0.8578\n",
      "\tPrecision@5: 0.8314\n",
      "\tPrecision@10: 0.7974\n",
      "\n",
      "Model: Unfused-FewShotCDRRawDrugRawCell_NL64_32_8_DO0-1_AFrelu_LR0-001_DR0-99_DS50_preds.csv\n",
      "\tPrecision@1: 0.9412\n",
      "\tPrecision@2: 0.902\n",
      "\tPrecision@3: 0.8562\n",
      "\tPrecision@4: 0.8578\n",
      "\tPrecision@5: 0.8392\n",
      "\tPrecision@10: 0.8256\n",
      "\n",
      "Model: Unfused-FewShotCDRRawDrugRawCell_NL64_32_8_DO0-1_AFrelu_LR0-001_DR0-99_DS500_preds.csv\n",
      "\tPrecision@1: 0.9412\n",
      "\tPrecision@2: 0.902\n",
      "\tPrecision@3: 0.8758\n",
      "\tPrecision@4: 0.8578\n",
      "\tPrecision@5: 0.8392\n",
      "\tPrecision@10: 0.8333\n",
      "\n",
      "Model: Unfused-FewShotCDRRawDrugRawCell_NL64_16_DO0-1_AFrelu_LR0-01_DR0-99_DS500_preds.csv\n",
      "\tPrecision@1: 0.9412\n",
      "\tPrecision@2: 0.9118\n",
      "\tPrecision@3: 0.8497\n",
      "\tPrecision@4: 0.848\n",
      "\tPrecision@5: 0.8392\n",
      "\tPrecision@10: 0.8077\n",
      "\n",
      "Model: Unfused-FewShotCDRRawDrugRawCell_NL64_16_DO0-1_AFrelu_LR0-001_DR0-99_DS500_preds.csv\n",
      "\tPrecision@1: 0.9412\n",
      "\tPrecision@2: 0.902\n",
      "\tPrecision@3: 0.8889\n",
      "\tPrecision@4: 0.8627\n",
      "\tPrecision@5: 0.8392\n",
      "\tPrecision@10: 0.8205\n",
      "\n",
      "Model: Unfused-FewShotCDRRawDrugRawCell_NL64_16_DO0-1_AFrelu_LR0-001_DR0-99_DS50_preds.csv\n",
      "\tPrecision@1: 0.9412\n",
      "\tPrecision@2: 0.902\n",
      "\tPrecision@3: 0.8889\n",
      "\tPrecision@4: 0.8578\n",
      "\tPrecision@5: 0.8471\n",
      "\tPrecision@10: 0.8308\n",
      "\n",
      "Best model with repsect to precision@5:\n",
      "Unfused-FewShotCDRRawDrugRawCell_NL64_16_DO0-1_AFrelu_LR0-001_DR0-99_DS50 (0.8471)\n"
     ]
    }
   ],
   "source": [
    "bestModel5 = modelEval.iterateModels(datasets[0], at=5, thresh=0.8)"
   ]
  },
  {
   "cell_type": "code",
   "execution_count": 7,
   "id": "2ea89277",
   "metadata": {},
   "outputs": [
    {
     "name": "stdout",
     "output_type": "stream",
     "text": [
      "Best model same @ k=1 and k=5: False\n"
     ]
    }
   ],
   "source": [
    "print(f\"Best model same @ k=1 and k=5: {bestModel1==bestModel5}\")"
   ]
  },
  {
   "cell_type": "code",
   "execution_count": 6,
   "id": "f0fd92d3",
   "metadata": {},
   "outputs": [],
   "source": [
    "# bestModel = 'Unfused-FewShotCDRRawDrugRawCell_NL32_32_DO0-1_AFrelu_LR0-001_DR0-99_DS50'\n",
    "bestModel = 'Unfused-FewShotCDRRawDrugRawCell_NL64_16_DO0-1_AFrelu_LR0-001_DR0-99_DS50' # this is bestModel5"
   ]
  },
  {
   "cell_type": "markdown",
   "id": "8910a9ef",
   "metadata": {},
   "source": [
    "## Test set eval"
   ]
  },
  {
   "cell_type": "code",
   "execution_count": 7,
   "id": "dab84203",
   "metadata": {},
   "outputs": [
    {
     "name": "stdout",
     "output_type": "stream",
     "text": [
      "Average Cell Line precision @ k\n",
      "Model: Unfused-FewShotCDRRawDrugRawCell_NL64_16_DO0-1_AFrelu_LR0-001_DR0-99_DS50\n",
      "\tPrecision@1: 0.9412\n",
      "\tPrecision@2: 0.902\n",
      "\tPrecision@3: 0.8889\n",
      "\tPrecision@4: 0.8578\n",
      "\tPrecision@5: 0.8471\n",
      "\tPrecision@10: 0.8308\n",
      "\n",
      "Top ranked drug for each cell line:\n",
      "\n",
      "# cell lines without highly effective drug among top-3 predictions: 0\n",
      "\n",
      "# of unique drugs among top-3 predictions: 15\n"
     ]
    }
   ],
   "source": [
    "testPreds, testWrong, testCounts = modelEval.iterateModels(datasets[0], modelName=bestModel)"
   ]
  },
  {
   "cell_type": "code",
   "execution_count": 9,
   "id": "c9574564",
   "metadata": {},
   "outputs": [
    {
     "name": "stdout",
     "output_type": "stream",
     "text": [
      "Avg varaince of predictions for each drug: 0.0062\n"
     ]
    }
   ],
   "source": [
    "testDist = getPredDist(testPreds)"
   ]
  },
  {
   "cell_type": "code",
   "execution_count": 38,
   "id": "1ee8d700",
   "metadata": {},
   "outputs": [
    {
     "data": {
      "text/html": [
       "<div>\n",
       "<style scoped>\n",
       "    .dataframe tbody tr th:only-of-type {\n",
       "        vertical-align: middle;\n",
       "    }\n",
       "\n",
       "    .dataframe tbody tr th {\n",
       "        vertical-align: top;\n",
       "    }\n",
       "\n",
       "    .dataframe thead th {\n",
       "        text-align: right;\n",
       "    }\n",
       "</style>\n",
       "<table border=\"1\" class=\"dataframe\">\n",
       "  <thead>\n",
       "    <tr style=\"text-align: right;\">\n",
       "      <th></th>\n",
       "      <th>1</th>\n",
       "      <th>2</th>\n",
       "      <th>3</th>\n",
       "      <th>total</th>\n",
       "    </tr>\n",
       "  </thead>\n",
       "  <tbody>\n",
       "    <tr>\n",
       "      <th>dolastatin-10</th>\n",
       "      <td>34</td>\n",
       "      <td>1</td>\n",
       "      <td>0</td>\n",
       "      <td>35</td>\n",
       "    </tr>\n",
       "    <tr>\n",
       "      <th>romidepsin</th>\n",
       "      <td>11</td>\n",
       "      <td>21</td>\n",
       "      <td>0</td>\n",
       "      <td>32</td>\n",
       "    </tr>\n",
       "    <tr>\n",
       "      <th>echinomycin</th>\n",
       "      <td>4</td>\n",
       "      <td>12</td>\n",
       "      <td>22</td>\n",
       "      <td>38</td>\n",
       "    </tr>\n",
       "    <tr>\n",
       "      <th>10-hydroxycamptothecin</th>\n",
       "      <td>2</td>\n",
       "      <td>3</td>\n",
       "      <td>10</td>\n",
       "      <td>15</td>\n",
       "    </tr>\n",
       "    <tr>\n",
       "      <th>nemorubicin</th>\n",
       "      <td>1</td>\n",
       "      <td>0</td>\n",
       "      <td>0</td>\n",
       "      <td>1</td>\n",
       "    </tr>\n",
       "    <tr>\n",
       "      <th>triptolide</th>\n",
       "      <td>0</td>\n",
       "      <td>6</td>\n",
       "      <td>5</td>\n",
       "      <td>11</td>\n",
       "    </tr>\n",
       "    <tr>\n",
       "      <th>epothilone-b</th>\n",
       "      <td>0</td>\n",
       "      <td>5</td>\n",
       "      <td>3</td>\n",
       "      <td>8</td>\n",
       "    </tr>\n",
       "    <tr>\n",
       "      <th>YM-155</th>\n",
       "      <td>0</td>\n",
       "      <td>2</td>\n",
       "      <td>2</td>\n",
       "      <td>4</td>\n",
       "    </tr>\n",
       "    <tr>\n",
       "      <th>genz-644282</th>\n",
       "      <td>0</td>\n",
       "      <td>1</td>\n",
       "      <td>3</td>\n",
       "      <td>4</td>\n",
       "    </tr>\n",
       "    <tr>\n",
       "      <th>sangivamycin</th>\n",
       "      <td>0</td>\n",
       "      <td>1</td>\n",
       "      <td>0</td>\n",
       "      <td>1</td>\n",
       "    </tr>\n",
       "    <tr>\n",
       "      <th>alvespimycin</th>\n",
       "      <td>0</td>\n",
       "      <td>0</td>\n",
       "      <td>2</td>\n",
       "      <td>2</td>\n",
       "    </tr>\n",
       "    <tr>\n",
       "      <th>maytansinol-isobutyrate</th>\n",
       "      <td>0</td>\n",
       "      <td>0</td>\n",
       "      <td>2</td>\n",
       "      <td>2</td>\n",
       "    </tr>\n",
       "    <tr>\n",
       "      <th>BGT226</th>\n",
       "      <td>0</td>\n",
       "      <td>0</td>\n",
       "      <td>1</td>\n",
       "      <td>1</td>\n",
       "    </tr>\n",
       "    <tr>\n",
       "      <th>gemcitabine</th>\n",
       "      <td>0</td>\n",
       "      <td>0</td>\n",
       "      <td>1</td>\n",
       "      <td>1</td>\n",
       "    </tr>\n",
       "    <tr>\n",
       "      <th>OTS167</th>\n",
       "      <td>0</td>\n",
       "      <td>0</td>\n",
       "      <td>1</td>\n",
       "      <td>1</td>\n",
       "    </tr>\n",
       "  </tbody>\n",
       "</table>\n",
       "</div>"
      ],
      "text/plain": [
       "                          1   2   3  total\n",
       "dolastatin-10            34   1   0     35\n",
       "romidepsin               11  21   0     32\n",
       "echinomycin               4  12  22     38\n",
       "10-hydroxycamptothecin    2   3  10     15\n",
       "nemorubicin               1   0   0      1\n",
       "triptolide                0   6   5     11\n",
       "epothilone-b              0   5   3      8\n",
       "YM-155                    0   2   2      4\n",
       "genz-644282               0   1   3      4\n",
       "sangivamycin              0   1   0      1\n",
       "alvespimycin              0   0   2      2\n",
       "maytansinol-isobutyrate   0   0   2      2\n",
       "BGT226                    0   0   1      1\n",
       "gemcitabine               0   0   1      1\n",
       "OTS167                    0   0   1      1"
      ]
     },
     "execution_count": 38,
     "metadata": {},
     "output_type": "execute_result"
    }
   ],
   "source": [
    "testCounts"
   ]
  },
  {
   "cell_type": "markdown",
   "id": "225d2981",
   "metadata": {},
   "source": [
    "### Cancer"
   ]
  },
  {
   "cell_type": "code",
   "execution_count": 39,
   "id": "ed225ab9",
   "metadata": {},
   "outputs": [
    {
     "data": {
      "text/html": [
       "<div>\n",
       "<style scoped>\n",
       "    .dataframe tbody tr th:only-of-type {\n",
       "        vertical-align: middle;\n",
       "    }\n",
       "\n",
       "    .dataframe tbody tr th {\n",
       "        vertical-align: top;\n",
       "    }\n",
       "\n",
       "    .dataframe thead th {\n",
       "        text-align: right;\n",
       "    }\n",
       "</style>\n",
       "<table border=\"1\" class=\"dataframe\">\n",
       "  <thead>\n",
       "    <tr style=\"text-align: right;\">\n",
       "      <th></th>\n",
       "      <th>p1</th>\n",
       "      <th>p2</th>\n",
       "      <th>p3</th>\n",
       "      <th>p4</th>\n",
       "      <th>p5</th>\n",
       "    </tr>\n",
       "  </thead>\n",
       "  <tbody>\n",
       "    <tr>\n",
       "      <th>Bladder Cancer</th>\n",
       "      <td>1.000000</td>\n",
       "      <td>1.000000</td>\n",
       "      <td>1.000000</td>\n",
       "      <td>1.000000</td>\n",
       "      <td>1.000000</td>\n",
       "    </tr>\n",
       "    <tr>\n",
       "      <th>Endometrial/Uterine Cancer</th>\n",
       "      <td>1.000000</td>\n",
       "      <td>1.000000</td>\n",
       "      <td>1.000000</td>\n",
       "      <td>0.916667</td>\n",
       "      <td>0.866667</td>\n",
       "    </tr>\n",
       "    <tr>\n",
       "      <th>Head and Neck Cancer</th>\n",
       "      <td>1.000000</td>\n",
       "      <td>1.000000</td>\n",
       "      <td>1.000000</td>\n",
       "      <td>0.916667</td>\n",
       "      <td>0.866667</td>\n",
       "    </tr>\n",
       "    <tr>\n",
       "      <th>Liver Cancer</th>\n",
       "      <td>1.000000</td>\n",
       "      <td>1.000000</td>\n",
       "      <td>1.000000</td>\n",
       "      <td>0.875000</td>\n",
       "      <td>0.900000</td>\n",
       "    </tr>\n",
       "    <tr>\n",
       "      <th>Breast Cancer</th>\n",
       "      <td>1.000000</td>\n",
       "      <td>1.000000</td>\n",
       "      <td>0.777778</td>\n",
       "      <td>0.750000</td>\n",
       "      <td>0.733333</td>\n",
       "    </tr>\n",
       "    <tr>\n",
       "      <th>Skin Cancer</th>\n",
       "      <td>1.000000</td>\n",
       "      <td>0.900000</td>\n",
       "      <td>0.933333</td>\n",
       "      <td>0.850000</td>\n",
       "      <td>0.800000</td>\n",
       "    </tr>\n",
       "    <tr>\n",
       "      <th>Colon/Colorectal Cancer</th>\n",
       "      <td>1.000000</td>\n",
       "      <td>0.875000</td>\n",
       "      <td>0.916667</td>\n",
       "      <td>0.937500</td>\n",
       "      <td>0.950000</td>\n",
       "    </tr>\n",
       "    <tr>\n",
       "      <th>Ovarian Cancer</th>\n",
       "      <td>1.000000</td>\n",
       "      <td>0.875000</td>\n",
       "      <td>0.833333</td>\n",
       "      <td>0.812500</td>\n",
       "      <td>0.850000</td>\n",
       "    </tr>\n",
       "    <tr>\n",
       "      <th>Brain Cancer</th>\n",
       "      <td>1.000000</td>\n",
       "      <td>0.875000</td>\n",
       "      <td>0.833333</td>\n",
       "      <td>0.812500</td>\n",
       "      <td>0.750000</td>\n",
       "    </tr>\n",
       "    <tr>\n",
       "      <th>Lung Cancer</th>\n",
       "      <td>0.923077</td>\n",
       "      <td>0.884615</td>\n",
       "      <td>0.897436</td>\n",
       "      <td>0.865385</td>\n",
       "      <td>0.876923</td>\n",
       "    </tr>\n",
       "    <tr>\n",
       "      <th>Pancreatic Cancer</th>\n",
       "      <td>0.750000</td>\n",
       "      <td>0.750000</td>\n",
       "      <td>0.750000</td>\n",
       "      <td>0.750000</td>\n",
       "      <td>0.750000</td>\n",
       "    </tr>\n",
       "    <tr>\n",
       "      <th>Esophageal Cancer</th>\n",
       "      <td>0.666667</td>\n",
       "      <td>0.833333</td>\n",
       "      <td>0.777778</td>\n",
       "      <td>0.833333</td>\n",
       "      <td>0.800000</td>\n",
       "    </tr>\n",
       "  </tbody>\n",
       "</table>\n",
       "</div>"
      ],
      "text/plain": [
       "                                  p1        p2        p3        p4        p5\n",
       "Bladder Cancer              1.000000  1.000000  1.000000  1.000000  1.000000\n",
       "Endometrial/Uterine Cancer  1.000000  1.000000  1.000000  0.916667  0.866667\n",
       "Head and Neck Cancer        1.000000  1.000000  1.000000  0.916667  0.866667\n",
       "Liver Cancer                1.000000  1.000000  1.000000  0.875000  0.900000\n",
       "Breast Cancer               1.000000  1.000000  0.777778  0.750000  0.733333\n",
       "Skin Cancer                 1.000000  0.900000  0.933333  0.850000  0.800000\n",
       "Colon/Colorectal Cancer     1.000000  0.875000  0.916667  0.937500  0.950000\n",
       "Ovarian Cancer              1.000000  0.875000  0.833333  0.812500  0.850000\n",
       "Brain Cancer                1.000000  0.875000  0.833333  0.812500  0.750000\n",
       "Lung Cancer                 0.923077  0.884615  0.897436  0.865385  0.876923\n",
       "Pancreatic Cancer           0.750000  0.750000  0.750000  0.750000  0.750000\n",
       "Esophageal Cancer           0.666667  0.833333  0.777778  0.833333  0.800000"
      ]
     },
     "execution_count": 39,
     "metadata": {},
     "output_type": "execute_result"
    }
   ],
   "source": [
    "testCancer = modelEval.iterateModels(datasets[0], modelName=bestModel, by='cancer')\n",
    "testCancer"
   ]
  },
  {
   "cell_type": "code",
   "execution_count": 40,
   "id": "5312f694",
   "metadata": {},
   "outputs": [
    {
     "data": {
      "text/plain": [
       "p1    0.9450\n",
       "p2    0.9161\n",
       "p3    0.8933\n",
       "p4    0.8600\n",
       "p5    0.8453\n",
       "dtype: float64"
      ]
     },
     "execution_count": 40,
     "metadata": {},
     "output_type": "execute_result"
    }
   ],
   "source": [
    "round(testCancer.mean(), 4)"
   ]
  },
  {
   "cell_type": "markdown",
   "id": "d4d305f1",
   "metadata": {},
   "source": [
    "## Evaluate best model on newcancer set"
   ]
  },
  {
   "cell_type": "code",
   "execution_count": 12,
   "id": "31fa2216",
   "metadata": {},
   "outputs": [
    {
     "name": "stdout",
     "output_type": "stream",
     "text": [
      "Average Cell Line precision @ k\n",
      "Model: Unfused-FewShotCDRRawDrugRawCell_NL64_16_DO0-1_AFrelu_LR0-001_DR0-99_DS50\n",
      "\tPrecision@1: 0.9692\n",
      "\tPrecision@2: 0.9231\n",
      "\tPrecision@3: 0.9026\n",
      "\tPrecision@4: 0.8885\n",
      "\tPrecision@5: 0.8585\n",
      "\tPrecision@10: 0.8157\n",
      "\n",
      "Top ranked drug for each cell line:\n",
      "No true effective drugs identified in top 3 for ACH-000268 (top drug: rubitecan)\n",
      "\n",
      "# cell lines without highly effective drug among top-3 predictions: 1\n",
      "\n",
      "# of unique drugs among top-3 predictions: 14\n"
     ]
    },
    {
     "data": {
      "text/html": [
       "<div>\n",
       "<style scoped>\n",
       "    .dataframe tbody tr th:only-of-type {\n",
       "        vertical-align: middle;\n",
       "    }\n",
       "\n",
       "    .dataframe tbody tr th {\n",
       "        vertical-align: top;\n",
       "    }\n",
       "\n",
       "    .dataframe thead th {\n",
       "        text-align: right;\n",
       "    }\n",
       "</style>\n",
       "<table border=\"1\" class=\"dataframe\">\n",
       "  <thead>\n",
       "    <tr style=\"text-align: right;\">\n",
       "      <th></th>\n",
       "      <th>1</th>\n",
       "      <th>2</th>\n",
       "      <th>3</th>\n",
       "      <th>total</th>\n",
       "    </tr>\n",
       "  </thead>\n",
       "  <tbody>\n",
       "    <tr>\n",
       "      <th>dolastatin-10</th>\n",
       "      <td>46</td>\n",
       "      <td>0</td>\n",
       "      <td>0</td>\n",
       "      <td>46</td>\n",
       "    </tr>\n",
       "    <tr>\n",
       "      <th>romidepsin</th>\n",
       "      <td>12</td>\n",
       "      <td>35</td>\n",
       "      <td>0</td>\n",
       "      <td>47</td>\n",
       "    </tr>\n",
       "    <tr>\n",
       "      <th>echinomycin</th>\n",
       "      <td>5</td>\n",
       "      <td>16</td>\n",
       "      <td>31</td>\n",
       "      <td>52</td>\n",
       "    </tr>\n",
       "    <tr>\n",
       "      <th>triptolide</th>\n",
       "      <td>3</td>\n",
       "      <td>5</td>\n",
       "      <td>5</td>\n",
       "      <td>13</td>\n",
       "    </tr>\n",
       "    <tr>\n",
       "      <th>rubitecan</th>\n",
       "      <td>1</td>\n",
       "      <td>0</td>\n",
       "      <td>0</td>\n",
       "      <td>1</td>\n",
       "    </tr>\n",
       "    <tr>\n",
       "      <th>10-hydroxycamptothecin</th>\n",
       "      <td>0</td>\n",
       "      <td>6</td>\n",
       "      <td>13</td>\n",
       "      <td>19</td>\n",
       "    </tr>\n",
       "    <tr>\n",
       "      <th>epothilone-b</th>\n",
       "      <td>0</td>\n",
       "      <td>2</td>\n",
       "      <td>4</td>\n",
       "      <td>6</td>\n",
       "    </tr>\n",
       "    <tr>\n",
       "      <th>YM-155</th>\n",
       "      <td>0</td>\n",
       "      <td>1</td>\n",
       "      <td>3</td>\n",
       "      <td>4</td>\n",
       "    </tr>\n",
       "    <tr>\n",
       "      <th>alvespimycin</th>\n",
       "      <td>0</td>\n",
       "      <td>1</td>\n",
       "      <td>1</td>\n",
       "      <td>2</td>\n",
       "    </tr>\n",
       "    <tr>\n",
       "      <th>epothilone-d</th>\n",
       "      <td>0</td>\n",
       "      <td>1</td>\n",
       "      <td>0</td>\n",
       "      <td>1</td>\n",
       "    </tr>\n",
       "    <tr>\n",
       "      <th>maytansinol-isobutyrate</th>\n",
       "      <td>0</td>\n",
       "      <td>0</td>\n",
       "      <td>4</td>\n",
       "      <td>4</td>\n",
       "    </tr>\n",
       "    <tr>\n",
       "      <th>genz-644282</th>\n",
       "      <td>0</td>\n",
       "      <td>0</td>\n",
       "      <td>4</td>\n",
       "      <td>4</td>\n",
       "    </tr>\n",
       "    <tr>\n",
       "      <th>sangivamycin</th>\n",
       "      <td>0</td>\n",
       "      <td>0</td>\n",
       "      <td>1</td>\n",
       "      <td>1</td>\n",
       "    </tr>\n",
       "    <tr>\n",
       "      <th>BGT226</th>\n",
       "      <td>0</td>\n",
       "      <td>0</td>\n",
       "      <td>1</td>\n",
       "      <td>1</td>\n",
       "    </tr>\n",
       "  </tbody>\n",
       "</table>\n",
       "</div>"
      ],
      "text/plain": [
       "                          1   2   3  total\n",
       "dolastatin-10            46   0   0     46\n",
       "romidepsin               12  35   0     47\n",
       "echinomycin               5  16  31     52\n",
       "triptolide                3   5   5     13\n",
       "rubitecan                 1   0   0      1\n",
       "10-hydroxycamptothecin    0   6  13     19\n",
       "epothilone-b              0   2   4      6\n",
       "YM-155                    0   1   3      4\n",
       "alvespimycin              0   1   1      2\n",
       "epothilone-d              0   1   0      1\n",
       "maytansinol-isobutyrate   0   0   4      4\n",
       "genz-644282               0   0   4      4\n",
       "sangivamycin              0   0   1      1\n",
       "BGT226                    0   0   1      1"
      ]
     },
     "execution_count": 12,
     "metadata": {},
     "output_type": "execute_result"
    }
   ],
   "source": [
    "newPreds, newWrong, newCounts = modelEval.iterateModels(datasets[1], modelName=bestModel)\n",
    "newCounts"
   ]
  },
  {
   "cell_type": "code",
   "execution_count": 13,
   "id": "93673871",
   "metadata": {},
   "outputs": [
    {
     "name": "stdout",
     "output_type": "stream",
     "text": [
      "Avg varaince of predictions for each drug: 0.0077\n"
     ]
    }
   ],
   "source": [
    "newDist = getPredDist(newPreds)"
   ]
  },
  {
   "cell_type": "markdown",
   "id": "0d3f65ac",
   "metadata": {},
   "source": [
    "### Cancer"
   ]
  },
  {
   "cell_type": "code",
   "execution_count": 45,
   "id": "933e8ba3",
   "metadata": {},
   "outputs": [
    {
     "data": {
      "text/html": [
       "<div>\n",
       "<style scoped>\n",
       "    .dataframe tbody tr th:only-of-type {\n",
       "        vertical-align: middle;\n",
       "    }\n",
       "\n",
       "    .dataframe tbody tr th {\n",
       "        vertical-align: top;\n",
       "    }\n",
       "\n",
       "    .dataframe thead th {\n",
       "        text-align: right;\n",
       "    }\n",
       "</style>\n",
       "<table border=\"1\" class=\"dataframe\">\n",
       "  <thead>\n",
       "    <tr style=\"text-align: right;\">\n",
       "      <th></th>\n",
       "      <th>p1</th>\n",
       "      <th>p2</th>\n",
       "      <th>p3</th>\n",
       "      <th>p4</th>\n",
       "      <th>p5</th>\n",
       "    </tr>\n",
       "  </thead>\n",
       "  <tbody>\n",
       "    <tr>\n",
       "      <th>Prostate Cancer</th>\n",
       "      <td>1.000000</td>\n",
       "      <td>1.000000</td>\n",
       "      <td>1.000000</td>\n",
       "      <td>1.000000</td>\n",
       "      <td>0.900000</td>\n",
       "    </tr>\n",
       "    <tr>\n",
       "      <th>Sarcoma</th>\n",
       "      <td>1.000000</td>\n",
       "      <td>1.000000</td>\n",
       "      <td>1.000000</td>\n",
       "      <td>0.958333</td>\n",
       "      <td>0.866667</td>\n",
       "    </tr>\n",
       "    <tr>\n",
       "      <th>Gallbladder Cancer</th>\n",
       "      <td>1.000000</td>\n",
       "      <td>1.000000</td>\n",
       "      <td>1.000000</td>\n",
       "      <td>0.750000</td>\n",
       "      <td>0.800000</td>\n",
       "    </tr>\n",
       "    <tr>\n",
       "      <th>Gastric Cancer</th>\n",
       "      <td>1.000000</td>\n",
       "      <td>1.000000</td>\n",
       "      <td>0.976190</td>\n",
       "      <td>0.964286</td>\n",
       "      <td>0.928571</td>\n",
       "    </tr>\n",
       "    <tr>\n",
       "      <th>Thyroid Cancer</th>\n",
       "      <td>1.000000</td>\n",
       "      <td>1.000000</td>\n",
       "      <td>0.958333</td>\n",
       "      <td>0.906250</td>\n",
       "      <td>0.875000</td>\n",
       "    </tr>\n",
       "    <tr>\n",
       "      <th>Rhabdoid</th>\n",
       "      <td>1.000000</td>\n",
       "      <td>1.000000</td>\n",
       "      <td>0.916667</td>\n",
       "      <td>0.937500</td>\n",
       "      <td>0.950000</td>\n",
       "    </tr>\n",
       "    <tr>\n",
       "      <th>Bone Cancer</th>\n",
       "      <td>1.000000</td>\n",
       "      <td>0.944444</td>\n",
       "      <td>0.888889</td>\n",
       "      <td>0.888889</td>\n",
       "      <td>0.888889</td>\n",
       "    </tr>\n",
       "    <tr>\n",
       "      <th>Neuroblastoma</th>\n",
       "      <td>1.000000</td>\n",
       "      <td>0.833333</td>\n",
       "      <td>0.888889</td>\n",
       "      <td>0.916667</td>\n",
       "      <td>0.866667</td>\n",
       "    </tr>\n",
       "    <tr>\n",
       "      <th>Bile Duct Cancer</th>\n",
       "      <td>1.000000</td>\n",
       "      <td>0.800000</td>\n",
       "      <td>0.866667</td>\n",
       "      <td>0.900000</td>\n",
       "      <td>0.880000</td>\n",
       "    </tr>\n",
       "    <tr>\n",
       "      <th>Kidney Cancer</th>\n",
       "      <td>0.846154</td>\n",
       "      <td>0.769231</td>\n",
       "      <td>0.743590</td>\n",
       "      <td>0.730769</td>\n",
       "      <td>0.707692</td>\n",
       "    </tr>\n",
       "  </tbody>\n",
       "</table>\n",
       "</div>"
      ],
      "text/plain": [
       "                          p1        p2        p3        p4        p5\n",
       "Prostate Cancer     1.000000  1.000000  1.000000  1.000000  0.900000\n",
       "Sarcoma             1.000000  1.000000  1.000000  0.958333  0.866667\n",
       "Gallbladder Cancer  1.000000  1.000000  1.000000  0.750000  0.800000\n",
       "Gastric Cancer      1.000000  1.000000  0.976190  0.964286  0.928571\n",
       "Thyroid Cancer      1.000000  1.000000  0.958333  0.906250  0.875000\n",
       "Rhabdoid            1.000000  1.000000  0.916667  0.937500  0.950000\n",
       "Bone Cancer         1.000000  0.944444  0.888889  0.888889  0.888889\n",
       "Neuroblastoma       1.000000  0.833333  0.888889  0.916667  0.866667\n",
       "Bile Duct Cancer    1.000000  0.800000  0.866667  0.900000  0.880000\n",
       "Kidney Cancer       0.846154  0.769231  0.743590  0.730769  0.707692"
      ]
     },
     "execution_count": 45,
     "metadata": {},
     "output_type": "execute_result"
    }
   ],
   "source": [
    "newCancer = modelEval.iterateModels(datasets[1], modelName=bestModel, by='Cancer')\n",
    "newCancer"
   ]
  },
  {
   "cell_type": "code",
   "execution_count": 46,
   "id": "d16516af",
   "metadata": {},
   "outputs": [
    {
     "data": {
      "text/plain": [
       "p1    0.9846\n",
       "p2    0.9347\n",
       "p3    0.9239\n",
       "p4    0.8953\n",
       "p5    0.8663\n",
       "dtype: float64"
      ]
     },
     "execution_count": 46,
     "metadata": {},
     "output_type": "execute_result"
    }
   ],
   "source": [
    "round(newCancer.mean(), 4)"
   ]
  },
  {
   "cell_type": "code",
   "execution_count": null,
   "id": "b0fa8fec",
   "metadata": {},
   "outputs": [],
   "source": []
  }
 ],
 "metadata": {
  "kernelspec": {
   "display_name": "Python3.8 (tf-2.2)",
   "language": "python",
   "name": "tf-gpu"
  },
  "language_info": {
   "codemirror_mode": {
    "name": "ipython",
    "version": 3
   },
   "file_extension": ".py",
   "mimetype": "text/x-python",
   "name": "python",
   "nbconvert_exporter": "python",
   "pygments_lexer": "ipython3",
   "version": "3.8.12"
  }
 },
 "nbformat": 4,
 "nbformat_minor": 5
}
