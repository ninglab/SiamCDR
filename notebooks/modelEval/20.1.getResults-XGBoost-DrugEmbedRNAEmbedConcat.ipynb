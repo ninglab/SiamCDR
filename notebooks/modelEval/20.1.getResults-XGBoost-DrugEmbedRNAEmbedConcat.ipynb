{
 "cells": [
  {
   "cell_type": "markdown",
   "id": "8552eb4d",
   "metadata": {},
   "source": [
    "# Import"
   ]
  },
  {
   "cell_type": "code",
   "execution_count": 1,
   "id": "32d26a6c",
   "metadata": {},
   "outputs": [],
   "source": [
    "import os\n",
    "import numpy as np\n",
    "import pandas as pd\n",
    "\n",
    "import warnings\n",
    "warnings.filterwarnings('ignore')"
   ]
  },
  {
   "cell_type": "code",
   "execution_count": 2,
   "id": "efddba2f",
   "metadata": {},
   "outputs": [],
   "source": [
    "from scripts.evalModel import evalLogisticModels, getPredDist"
   ]
  },
  {
   "cell_type": "markdown",
   "id": "56e7c6a3",
   "metadata": {},
   "source": [
    "# Load data"
   ]
  },
  {
   "cell_type": "markdown",
   "id": "52ce4d54",
   "metadata": {},
   "source": [
    "## Cell lines"
   ]
  },
  {
   "cell_type": "code",
   "execution_count": 3,
   "id": "0b6178ed",
   "metadata": {},
   "outputs": [],
   "source": [
    "trainRNA = pd.read_csv('../../data/processed/RNA_train_cancergenes.csv', index_col=0)\n",
    "trainCellLines = list(trainRNA.index)\n",
    "\n",
    "testRNA = pd.read_csv('../../data/processed/RNA_test_cancergenes.csv', index_col=0)\n",
    "testCellLines = list(testRNA.index)\n",
    "\n",
    "newRNA = pd.read_csv('../../data/processed/RNA_newcancer_cancergenes.csv', index_col=0)\n",
    "newCellLines = list(newRNA.index)"
   ]
  },
  {
   "cell_type": "markdown",
   "id": "539a1856",
   "metadata": {},
   "source": [
    "## CDR"
   ]
  },
  {
   "cell_type": "code",
   "execution_count": 4,
   "id": "4173df9d",
   "metadata": {},
   "outputs": [],
   "source": [
    "cdr = pd.read_csv('../../data/processed/drugCellLinePairsData.csv', index_col='DepMap_ID')\n",
    "trainCDR = cdr.loc[trainCellLines, :].reset_index()\n",
    "testCDR = cdr.loc[testCellLines, :].reset_index()\n",
    "newCDR = cdr.loc[newCellLines, :].reset_index()"
   ]
  },
  {
   "cell_type": "code",
   "execution_count": 5,
   "id": "2cc871e6",
   "metadata": {},
   "outputs": [],
   "source": [
    "testTemp = testCDR.loc[:, ['DepMap_ID', 'cancer_type', 'name', 'effective']].rename(columns={'DepMap_ID':'cell_line',\n",
    "                                                                                             'name': 'drug',\n",
    "                                                                                             'effective': 'true'})\n",
    "\n",
    "newTemp = newCDR.loc[:, ['DepMap_ID', 'cancer_type', 'name', 'effective']].rename(columns={'DepMap_ID':'cell_line',\n",
    "                                                                                          'name': 'drug',\n",
    "                                                                                          'effective': 'true'})"
   ]
  },
  {
   "cell_type": "markdown",
   "id": "157aafbf",
   "metadata": {},
   "source": [
    "## Drugs"
   ]
  },
  {
   "cell_type": "code",
   "execution_count": 6,
   "id": "2ebbb9d6",
   "metadata": {},
   "outputs": [],
   "source": [
    "drugs = pd.read_csv('../../data/processed/drug_fingerprints.csv', index_col=0)"
   ]
  },
  {
   "cell_type": "code",
   "execution_count": 7,
   "id": "fcefe7a2",
   "metadata": {},
   "outputs": [],
   "source": [
    "trainDrugs = drugs.loc[list(trainCDR.name.values), :].to_numpy()\n",
    "testDrugs = drugs.loc[list(testCDR.name.values), :].to_numpy()\n",
    "newDrugs = drugs.loc[list(newCDR.name.values), :].to_numpy()\n",
    "\n",
    "trainRNA = trainRNA.loc[list(trainCDR.DepMap_ID.values), :].to_numpy()\n",
    "testRNA = testRNA.loc[list(testCDR.DepMap_ID.values), :].to_numpy()\n",
    "newRNA = newRNA.loc[list(newCDR.DepMap_ID.values), :].to_numpy()"
   ]
  },
  {
   "cell_type": "markdown",
   "id": "21cb8567",
   "metadata": {},
   "source": [
    "## Format Pairs"
   ]
  },
  {
   "cell_type": "code",
   "execution_count": 8,
   "id": "899b5b8c",
   "metadata": {},
   "outputs": [],
   "source": [
    "trainData = [trainDrugs, trainRNA]\n",
    "trainEff = trainCDR.effective.to_numpy()\n",
    "testData = [testDrugs, testRNA]\n",
    "newData = [newDrugs, newRNA]"
   ]
  },
  {
   "cell_type": "code",
   "execution_count": 9,
   "id": "37bbcb28",
   "metadata": {},
   "outputs": [],
   "source": [
    "del cdr, drugs, trainDrugs, testDrugs, newDrugs, trainRNA, testRNA, newRNA"
   ]
  },
  {
   "cell_type": "markdown",
   "id": "a57675d8",
   "metadata": {},
   "source": [
    "# Model"
   ]
  },
  {
   "cell_type": "code",
   "execution_count": 10,
   "id": "54b5f412",
   "metadata": {},
   "outputs": [],
   "source": [
    "drugPath = '/fs/scratch/PCON0041/PatrickLawrence/cancer-drug-response/fewShot/drugs/siameseV1/models/'\n",
    "drugModel = 'DrugFewShot_Layers1_Hidden64_DO0-1_AFrelu_LR0-001_DR0-99_DS1000/'\n",
    "drugPath = os.path.join(drugPath, drugModel)"
   ]
  },
  {
   "cell_type": "code",
   "execution_count": 11,
   "id": "87ab2b66",
   "metadata": {},
   "outputs": [],
   "source": [
    "rnaPath = '/fs/scratch/PCON0041/PatrickLawrence/cancer-drug-response/fewShot/cellLines/siameseV1/models/'\n",
    "rnaModel = 'CellLineFewShot_Layers2_Hidden64_DO0-1_AFrelu_LR0-001_DR0-99_DS1000/'\n",
    "rnaPath = os.path.join(rnaPath, rnaModel)"
   ]
  },
  {
   "cell_type": "code",
   "execution_count": 12,
   "id": "697f0549",
   "metadata": {},
   "outputs": [],
   "source": [
    "evalLog = evalLogisticModels(trainData.copy(), trainEff, testData.copy(), newData.copy(), alt='xgb',\n",
    "                            fusionPath=None, drugPath=drugPath, rnaPath=rnaPath)"
   ]
  },
  {
   "cell_type": "code",
   "execution_count": 20,
   "id": "cb3095fd",
   "metadata": {},
   "outputs": [
    {
     "data": {
      "text/plain": [
       "{'learning_rate': 0.01, 'max_depth': 7, 'objective': 'binary:logistic'}"
      ]
     },
     "execution_count": 20,
     "metadata": {},
     "output_type": "execute_result"
    }
   ],
   "source": [
    "evalLog.model.best_params_"
   ]
  },
  {
   "cell_type": "markdown",
   "id": "4c3a4f20",
   "metadata": {},
   "source": [
    "## Cell line performance"
   ]
  },
  {
   "cell_type": "code",
   "execution_count": 13,
   "id": "b607a601",
   "metadata": {},
   "outputs": [
    {
     "name": "stdout",
     "output_type": "stream",
     "text": [
      "Average Cell Line precision @ k on test set\n",
      "\tPrecision@1: 0.9608\n",
      "\tPrecision@2: 0.9412\n",
      "\tPrecision@3: 0.8824\n",
      "\tPrecision@4: 0.848\n",
      "\tPrecision@5: 0.8392\n",
      "\tPrecision@10: 0.8436\n",
      "\n",
      "Average Cell Line precision @ k on newcancer set\n",
      "\tPrecision@1: 0.9538\n",
      "\tPrecision@2: 0.9308\n",
      "\tPrecision@3: 0.8923\n",
      "\tPrecision@4: 0.8769\n",
      "\tPrecision@5: 0.8492\n",
      "\tPrecision@10: 0.8275\n",
      "\n",
      "\n",
      "Test set:\n",
      "\n",
      "\t# of cell lines without effective drug among top-3 recs: 0\n",
      "\t# of unique drugs among top-3 predictions: 14\n",
      "\n",
      "New cancer set\n",
      "No true effective drugs identified in top 3 for ACH-000250 (top drug: dolastatin-10)\n",
      "No true effective drugs identified in top 3 for ACH-000268 (top drug: BGT226)\n",
      "\n",
      "\t# of cell lines without effective drug among top-3 recs: 2\n",
      "\t# of unique drugs among top-3 predictions: 15\n"
     ]
    }
   ],
   "source": [
    "testDF, newDF, testWrong, newWrong, testCounts, newCounts = evalLog.evaluate(testDF=testTemp.copy(), \n",
    "                                                                             newDF=newTemp.copy())"
   ]
  },
  {
   "cell_type": "markdown",
   "id": "de8ab917",
   "metadata": {},
   "source": [
    "## Pred distribution"
   ]
  },
  {
   "cell_type": "code",
   "execution_count": 14,
   "id": "7eaa9c1f",
   "metadata": {},
   "outputs": [
    {
     "name": "stdout",
     "output_type": "stream",
     "text": [
      "Avg varaince of predictions for each drug: 9.999999747378752e-05\n"
     ]
    }
   ],
   "source": [
    "testDist = getPredDist(testDF)"
   ]
  },
  {
   "cell_type": "code",
   "execution_count": 15,
   "id": "515bd84d",
   "metadata": {},
   "outputs": [
    {
     "name": "stdout",
     "output_type": "stream",
     "text": [
      "Avg varaince of predictions for each drug: 9.999999747378752e-05\n"
     ]
    }
   ],
   "source": [
    "newDist = getPredDist(newDF)"
   ]
  },
  {
   "cell_type": "markdown",
   "id": "0bd79a7d",
   "metadata": {},
   "source": [
    "## Cancer performance"
   ]
  },
  {
   "cell_type": "code",
   "execution_count": 16,
   "id": "a30888a5",
   "metadata": {},
   "outputs": [],
   "source": [
    "testCancer, newCancer = evalLog.getCancerPerformance(testDF, newDF)"
   ]
  },
  {
   "cell_type": "code",
   "execution_count": 17,
   "id": "4badd8e1",
   "metadata": {},
   "outputs": [
    {
     "name": "stdout",
     "output_type": "stream",
     "text": [
      "p1    0.9658\n",
      "p2    0.9505\n",
      "p3    0.8831\n",
      "p4    0.8506\n",
      "p5    0.8443\n",
      "dtype: float64\n"
     ]
    },
    {
     "data": {
      "text/html": [
       "<div>\n",
       "<style scoped>\n",
       "    .dataframe tbody tr th:only-of-type {\n",
       "        vertical-align: middle;\n",
       "    }\n",
       "\n",
       "    .dataframe tbody tr th {\n",
       "        vertical-align: top;\n",
       "    }\n",
       "\n",
       "    .dataframe thead th {\n",
       "        text-align: right;\n",
       "    }\n",
       "</style>\n",
       "<table border=\"1\" class=\"dataframe\">\n",
       "  <thead>\n",
       "    <tr style=\"text-align: right;\">\n",
       "      <th></th>\n",
       "      <th>p1</th>\n",
       "      <th>p2</th>\n",
       "      <th>p3</th>\n",
       "      <th>p4</th>\n",
       "      <th>p5</th>\n",
       "    </tr>\n",
       "  </thead>\n",
       "  <tbody>\n",
       "    <tr>\n",
       "      <th>Liver Cancer</th>\n",
       "      <td>1.000000</td>\n",
       "      <td>1.000000</td>\n",
       "      <td>1.000000</td>\n",
       "      <td>1.000000</td>\n",
       "      <td>1.000000</td>\n",
       "    </tr>\n",
       "    <tr>\n",
       "      <th>Colon/Colorectal Cancer</th>\n",
       "      <td>1.000000</td>\n",
       "      <td>1.000000</td>\n",
       "      <td>1.000000</td>\n",
       "      <td>1.000000</td>\n",
       "      <td>0.950000</td>\n",
       "    </tr>\n",
       "    <tr>\n",
       "      <th>Head and Neck Cancer</th>\n",
       "      <td>1.000000</td>\n",
       "      <td>1.000000</td>\n",
       "      <td>1.000000</td>\n",
       "      <td>0.916667</td>\n",
       "      <td>0.866667</td>\n",
       "    </tr>\n",
       "    <tr>\n",
       "      <th>Bladder Cancer</th>\n",
       "      <td>1.000000</td>\n",
       "      <td>1.000000</td>\n",
       "      <td>0.888889</td>\n",
       "      <td>0.916667</td>\n",
       "      <td>0.933333</td>\n",
       "    </tr>\n",
       "    <tr>\n",
       "      <th>Endometrial/Uterine Cancer</th>\n",
       "      <td>1.000000</td>\n",
       "      <td>1.000000</td>\n",
       "      <td>0.888889</td>\n",
       "      <td>0.833333</td>\n",
       "      <td>0.866667</td>\n",
       "    </tr>\n",
       "    <tr>\n",
       "      <th>Ovarian Cancer</th>\n",
       "      <td>1.000000</td>\n",
       "      <td>1.000000</td>\n",
       "      <td>0.833333</td>\n",
       "      <td>0.812500</td>\n",
       "      <td>0.850000</td>\n",
       "    </tr>\n",
       "    <tr>\n",
       "      <th>Breast Cancer</th>\n",
       "      <td>1.000000</td>\n",
       "      <td>1.000000</td>\n",
       "      <td>0.777778</td>\n",
       "      <td>0.750000</td>\n",
       "      <td>0.733333</td>\n",
       "    </tr>\n",
       "    <tr>\n",
       "      <th>Skin Cancer</th>\n",
       "      <td>1.000000</td>\n",
       "      <td>0.900000</td>\n",
       "      <td>0.866667</td>\n",
       "      <td>0.800000</td>\n",
       "      <td>0.720000</td>\n",
       "    </tr>\n",
       "    <tr>\n",
       "      <th>Pancreatic Cancer</th>\n",
       "      <td>1.000000</td>\n",
       "      <td>0.875000</td>\n",
       "      <td>0.833333</td>\n",
       "      <td>0.812500</td>\n",
       "      <td>0.750000</td>\n",
       "    </tr>\n",
       "    <tr>\n",
       "      <th>Brain Cancer</th>\n",
       "      <td>1.000000</td>\n",
       "      <td>0.875000</td>\n",
       "      <td>0.833333</td>\n",
       "      <td>0.750000</td>\n",
       "      <td>0.800000</td>\n",
       "    </tr>\n",
       "    <tr>\n",
       "      <th>Lung Cancer</th>\n",
       "      <td>0.923077</td>\n",
       "      <td>0.923077</td>\n",
       "      <td>0.897436</td>\n",
       "      <td>0.865385</td>\n",
       "      <td>0.861538</td>\n",
       "    </tr>\n",
       "    <tr>\n",
       "      <th>Esophageal Cancer</th>\n",
       "      <td>0.666667</td>\n",
       "      <td>0.833333</td>\n",
       "      <td>0.777778</td>\n",
       "      <td>0.750000</td>\n",
       "      <td>0.800000</td>\n",
       "    </tr>\n",
       "  </tbody>\n",
       "</table>\n",
       "</div>"
      ],
      "text/plain": [
       "                                  p1        p2        p3        p4        p5\n",
       "Liver Cancer                1.000000  1.000000  1.000000  1.000000  1.000000\n",
       "Colon/Colorectal Cancer     1.000000  1.000000  1.000000  1.000000  0.950000\n",
       "Head and Neck Cancer        1.000000  1.000000  1.000000  0.916667  0.866667\n",
       "Bladder Cancer              1.000000  1.000000  0.888889  0.916667  0.933333\n",
       "Endometrial/Uterine Cancer  1.000000  1.000000  0.888889  0.833333  0.866667\n",
       "Ovarian Cancer              1.000000  1.000000  0.833333  0.812500  0.850000\n",
       "Breast Cancer               1.000000  1.000000  0.777778  0.750000  0.733333\n",
       "Skin Cancer                 1.000000  0.900000  0.866667  0.800000  0.720000\n",
       "Pancreatic Cancer           1.000000  0.875000  0.833333  0.812500  0.750000\n",
       "Brain Cancer                1.000000  0.875000  0.833333  0.750000  0.800000\n",
       "Lung Cancer                 0.923077  0.923077  0.897436  0.865385  0.861538\n",
       "Esophageal Cancer           0.666667  0.833333  0.777778  0.750000  0.800000"
      ]
     },
     "execution_count": 17,
     "metadata": {},
     "output_type": "execute_result"
    }
   ],
   "source": [
    "print(round(testCancer.mean(), 4))\n",
    "testCancer"
   ]
  },
  {
   "cell_type": "code",
   "execution_count": 18,
   "id": "c2f08516",
   "metadata": {},
   "outputs": [
    {
     "name": "stdout",
     "output_type": "stream",
     "text": [
      "p1    0.9769\n",
      "p2    0.9440\n",
      "p3    0.9057\n",
      "p4    0.8737\n",
      "p5    0.8494\n",
      "dtype: float64\n"
     ]
    },
    {
     "data": {
      "text/html": [
       "<div>\n",
       "<style scoped>\n",
       "    .dataframe tbody tr th:only-of-type {\n",
       "        vertical-align: middle;\n",
       "    }\n",
       "\n",
       "    .dataframe tbody tr th {\n",
       "        vertical-align: top;\n",
       "    }\n",
       "\n",
       "    .dataframe thead th {\n",
       "        text-align: right;\n",
       "    }\n",
       "</style>\n",
       "<table border=\"1\" class=\"dataframe\">\n",
       "  <thead>\n",
       "    <tr style=\"text-align: right;\">\n",
       "      <th></th>\n",
       "      <th>p1</th>\n",
       "      <th>p2</th>\n",
       "      <th>p3</th>\n",
       "      <th>p4</th>\n",
       "      <th>p5</th>\n",
       "    </tr>\n",
       "  </thead>\n",
       "  <tbody>\n",
       "    <tr>\n",
       "      <th>Prostate Cancer</th>\n",
       "      <td>1.000000</td>\n",
       "      <td>1.000000</td>\n",
       "      <td>1.000000</td>\n",
       "      <td>1.000000</td>\n",
       "      <td>0.900000</td>\n",
       "    </tr>\n",
       "    <tr>\n",
       "      <th>Sarcoma</th>\n",
       "      <td>1.000000</td>\n",
       "      <td>1.000000</td>\n",
       "      <td>1.000000</td>\n",
       "      <td>1.000000</td>\n",
       "      <td>0.866667</td>\n",
       "    </tr>\n",
       "    <tr>\n",
       "      <th>Gallbladder Cancer</th>\n",
       "      <td>1.000000</td>\n",
       "      <td>1.000000</td>\n",
       "      <td>1.000000</td>\n",
       "      <td>0.750000</td>\n",
       "      <td>0.800000</td>\n",
       "    </tr>\n",
       "    <tr>\n",
       "      <th>Gastric Cancer</th>\n",
       "      <td>1.000000</td>\n",
       "      <td>1.000000</td>\n",
       "      <td>0.928571</td>\n",
       "      <td>0.928571</td>\n",
       "      <td>0.900000</td>\n",
       "    </tr>\n",
       "    <tr>\n",
       "      <th>Bone Cancer</th>\n",
       "      <td>1.000000</td>\n",
       "      <td>1.000000</td>\n",
       "      <td>0.925926</td>\n",
       "      <td>0.888889</td>\n",
       "      <td>0.888889</td>\n",
       "    </tr>\n",
       "    <tr>\n",
       "      <th>Rhabdoid</th>\n",
       "      <td>1.000000</td>\n",
       "      <td>1.000000</td>\n",
       "      <td>0.916667</td>\n",
       "      <td>0.875000</td>\n",
       "      <td>0.900000</td>\n",
       "    </tr>\n",
       "    <tr>\n",
       "      <th>Thyroid Cancer</th>\n",
       "      <td>1.000000</td>\n",
       "      <td>0.937500</td>\n",
       "      <td>0.916667</td>\n",
       "      <td>0.875000</td>\n",
       "      <td>0.900000</td>\n",
       "    </tr>\n",
       "    <tr>\n",
       "      <th>Bile Duct Cancer</th>\n",
       "      <td>1.000000</td>\n",
       "      <td>0.900000</td>\n",
       "      <td>0.933333</td>\n",
       "      <td>0.900000</td>\n",
       "      <td>0.800000</td>\n",
       "    </tr>\n",
       "    <tr>\n",
       "      <th>Neuroblastoma</th>\n",
       "      <td>1.000000</td>\n",
       "      <td>0.833333</td>\n",
       "      <td>0.666667</td>\n",
       "      <td>0.750000</td>\n",
       "      <td>0.800000</td>\n",
       "    </tr>\n",
       "    <tr>\n",
       "      <th>Kidney Cancer</th>\n",
       "      <td>0.769231</td>\n",
       "      <td>0.769231</td>\n",
       "      <td>0.769231</td>\n",
       "      <td>0.769231</td>\n",
       "      <td>0.738462</td>\n",
       "    </tr>\n",
       "  </tbody>\n",
       "</table>\n",
       "</div>"
      ],
      "text/plain": [
       "                          p1        p2        p3        p4        p5\n",
       "Prostate Cancer     1.000000  1.000000  1.000000  1.000000  0.900000\n",
       "Sarcoma             1.000000  1.000000  1.000000  1.000000  0.866667\n",
       "Gallbladder Cancer  1.000000  1.000000  1.000000  0.750000  0.800000\n",
       "Gastric Cancer      1.000000  1.000000  0.928571  0.928571  0.900000\n",
       "Bone Cancer         1.000000  1.000000  0.925926  0.888889  0.888889\n",
       "Rhabdoid            1.000000  1.000000  0.916667  0.875000  0.900000\n",
       "Thyroid Cancer      1.000000  0.937500  0.916667  0.875000  0.900000\n",
       "Bile Duct Cancer    1.000000  0.900000  0.933333  0.900000  0.800000\n",
       "Neuroblastoma       1.000000  0.833333  0.666667  0.750000  0.800000\n",
       "Kidney Cancer       0.769231  0.769231  0.769231  0.769231  0.738462"
      ]
     },
     "execution_count": 18,
     "metadata": {},
     "output_type": "execute_result"
    }
   ],
   "source": [
    "print(round(newCancer.mean(), 4))\n",
    "newCancer"
   ]
  }
 ],
 "metadata": {
  "kernelspec": {
   "display_name": "Python3.8 (tf-2.2)",
   "language": "python",
   "name": "tf-gpu"
  },
  "language_info": {
   "codemirror_mode": {
    "name": "ipython",
    "version": 3
   },
   "file_extension": ".py",
   "mimetype": "text/x-python",
   "name": "python",
   "nbconvert_exporter": "python",
   "pygments_lexer": "ipython3",
   "version": "3.8.12"
  }
 },
 "nbformat": 4,
 "nbformat_minor": 5
}
