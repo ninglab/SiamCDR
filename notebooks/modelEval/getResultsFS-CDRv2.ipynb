{
 "cells": [
  {
   "cell_type": "markdown",
   "id": "5fb6542f",
   "metadata": {},
   "source": [
    "# Import packages"
   ]
  },
  {
   "cell_type": "markdown",
   "id": "07e54062",
   "metadata": {},
   "source": [
    "## General"
   ]
  },
  {
   "cell_type": "code",
   "execution_count": 1,
   "id": "93e2fc71",
   "metadata": {},
   "outputs": [],
   "source": [
    "import os\n",
    "import numpy as np\n",
    "import pandas as pd\n",
    "import matplotlib.pyplot as plt\n",
    "\n",
    "import warnings\n",
    "warnings.filterwarnings('ignore')"
   ]
  },
  {
   "cell_type": "markdown",
   "id": "844cab79",
   "metadata": {},
   "source": [
    "## Personal"
   ]
  },
  {
   "cell_type": "code",
   "execution_count": 2,
   "id": "b0dc1798",
   "metadata": {},
   "outputs": [],
   "source": [
    "from rbm.utils import Predictions, Compiler"
   ]
  },
  {
   "cell_type": "markdown",
   "id": "aadf26bc",
   "metadata": {},
   "source": [
    "# Define vars"
   ]
  },
  {
   "cell_type": "code",
   "execution_count": 3,
   "id": "8b1f45c6",
   "metadata": {},
   "outputs": [],
   "source": [
    "datasets = ['test', 'newcancer']\n",
    "metrics = ['precision', 'recall', 'f1', 'auc']"
   ]
  },
  {
   "cell_type": "markdown",
   "id": "775d68ed",
   "metadata": {},
   "source": [
    "# Define Funcs"
   ]
  },
  {
   "cell_type": "markdown",
   "id": "8edf88d3",
   "metadata": {},
   "source": [
    "## Compiling results"
   ]
  },
  {
   "cell_type": "code",
   "execution_count": 4,
   "id": "c89d2665",
   "metadata": {},
   "outputs": [],
   "source": [
    "def getResults(predPath, metrics):\n",
    "    preds = pd.read_csv(predPath, index_col=0)\n",
    "    Evaluator = Predictions(None)\n",
    "    cellLineResults = Evaluator._cellLinePerformance(preds, metrics)\n",
    "    cancerResults = Evaluator._cancerTypePerformance(cellLineResults) \n",
    "    return cellLineResults, cancerResults\n",
    "\n",
    "def iterateModelPreds(basePath, dataset, metrics):\n",
    "    predDir = os.path.join(basePath, f\"{dataset}_preds\")\n",
    "    resultDir = os.path.join(basePath, f\"{dataset}_results\")\n",
    "    files = os.listdir(predDir)\n",
    "    for f in files:\n",
    "        predPath = os.path.join(predDir, f)\n",
    "        modelName = \"_\".join(f.split('_')[:-1])\n",
    "        cellLinePath = os.path.join(resultDir, f\"{modelName}_CLresults.csv\")\n",
    "        cancerPath = os.path.join(resultDir, f\"{modelName}_CancerResults.csv\")\n",
    "        cellLineResults, cancerResults = getResults(predPath, metrics)\n",
    "        cellLineResults.to_csv(cellLinePath)\n",
    "        cancerResults.to_csv(cancerPath)\n",
    "        \n",
    "def compileResults(basePath, modelType, subdir, prefix, suffix='CancerResults.csv'):\n",
    "    compiler = Compiler(basePath, modelType)\n",
    "    compiler.compileResults(subdir, prefix, suffix)"
   ]
  },
  {
   "cell_type": "code",
   "execution_count": 5,
   "id": "1c5a94e7",
   "metadata": {},
   "outputs": [],
   "source": [
    "def getResultsAndCompile(basePath, modelType, prefix, datasets, metrics):\n",
    "    for d in datasets:\n",
    "        iterateModelPreds(basePath, d, metrics)\n",
    "        subdir = f\"{d}_res\"\n",
    "        compileResults(basePath, modelType, subdir, prefix)"
   ]
  },
  {
   "cell_type": "markdown",
   "id": "47d0a08f",
   "metadata": {},
   "source": [
    "## precision@k"
   ]
  },
  {
   "cell_type": "code",
   "execution_count": 16,
   "id": "cb41ee22",
   "metadata": {},
   "outputs": [],
   "source": [
    "def precision(predPath, modelName, thresh):\n",
    "    p1 = []\n",
    "    p2 = []\n",
    "    p3 = []\n",
    "    p4 = []\n",
    "    p5 = []\n",
    "    p0 = []\n",
    "    cellLines = []\n",
    "    predDF = pd.read_csv(predPath, index_col=0)\n",
    "    for cell, subdf in predDF.groupby(by='cell_line'):\n",
    "        nEff = subdf.true.sum()\n",
    "        if nEff < 5:\n",
    "            continue\n",
    "        cellLines.append(cell)\n",
    "        sortDF = subdf.sort_values(by='pred', ascending=False)\n",
    "        p1.append(sortDF.iloc[:1, :].true.sum() / 1)\n",
    "        p2.append(sortDF.iloc[:2, :].true.sum() / 2)\n",
    "        p3.append(sortDF.iloc[:3, :].true.sum() / 3)\n",
    "        p4.append(sortDF.iloc[:4, :].true.sum() / 4)\n",
    "        p5.append(sortDF.iloc[:5, :].true.sum() / 5)\n",
    "        if sortDF.true.sum() >= 10:\n",
    "            p0.append(sortDF.iloc[:10, :].true.sum() / 10)\n",
    "    \n",
    "    if np.mean(p5) >= thresh:\n",
    "        print(f\"Model: {modelName}\")\n",
    "        thresh = np.mean(p5)\n",
    "        print(f\"\\tPrecision@1: {round(thresh, 4)}\")\n",
    "        print(f\"\\tPrecision@2: {round(np.mean(p2), 4)}\")\n",
    "        print(f\"\\tPrecision@3: {round(np.mean(p3), 4)}\")\n",
    "        print(f\"\\tPrecision@4: {round(np.mean(p4), 4)}\")\n",
    "        print(f\"\\tPrecision@5: {round(np.mean(p5), 4)}\")\n",
    "        print(f\"\\tPrecision@10: {round(np.mean(p0), 4)}\\n\\n\")\n",
    "           \n",
    "    df = pd.DataFrame({'p@1':p1, 'p@2':p2, 'p@3':p3, 'p@4':p4, 'p@5':p5}, index=cellLines)\n",
    "    return thresh, df\n",
    "    \n",
    "    \n",
    "def iteratePrecision(basePath, file=None, thresh=0.7):\n",
    "    if file == None:\n",
    "        files = os.listdir(basePath)\n",
    "    else: \n",
    "        files = [file]\n",
    "    for f in files:\n",
    "        thresh, df = precision(os.path.join(basePath, f), f, thresh)\n",
    "    print(thresh)\n",
    "    \n",
    "    if file != None:\n",
    "        return df"
   ]
  },
  {
   "cell_type": "markdown",
   "id": "4750dade",
   "metadata": {},
   "source": [
    "# FS-CDR"
   ]
  },
  {
   "cell_type": "code",
   "execution_count": 7,
   "id": "49702fc7",
   "metadata": {},
   "outputs": [],
   "source": [
    "modelType = 'fsCDR'\n",
    "prefix = 'Fused-FewShotCDR'\n",
    "basePath = '/fs/scratch/PCON0041/PatrickLawrence/cancer-drug-response/fewShot/cdr/v2'"
   ]
  },
  {
   "cell_type": "markdown",
   "id": "eb6af478",
   "metadata": {},
   "source": [
    "## Compile"
   ]
  },
  {
   "cell_type": "code",
   "execution_count": 8,
   "id": "f498dc45",
   "metadata": {
    "scrolled": true
   },
   "outputs": [],
   "source": [
    "#getResultsAndCompile(basePath, modelType, prefix, datasets, metrics)"
   ]
  },
  {
   "cell_type": "markdown",
   "id": "287b2485",
   "metadata": {},
   "source": [
    "## Precision@k"
   ]
  },
  {
   "cell_type": "code",
   "execution_count": 15,
   "id": "0576cca1",
   "metadata": {
    "scrolled": true
   },
   "outputs": [
    {
     "name": "stdout",
     "output_type": "stream",
     "text": [
      "0.75\n"
     ]
    }
   ],
   "source": [
    "# Average of 50 cell lines with cancer types seen during training\n",
    "iteratePrecision(os.path.join(basePath, 'test_preds'), thresh=0.75)"
   ]
  },
  {
   "cell_type": "code",
   "execution_count": 10,
   "id": "f5c55180",
   "metadata": {},
   "outputs": [],
   "source": [
    "bestModel = 'Fused-FewShotCDR_NL64_16_DO0-1_AFsigmoid_LR0-01_DR0-99_DS500_preds.csv'"
   ]
  },
  {
   "cell_type": "code",
   "execution_count": 11,
   "id": "23e96a12",
   "metadata": {},
   "outputs": [
    {
     "name": "stdout",
     "output_type": "stream",
     "text": [
      "Model: Fused-FewShotCDR_NL64_16_DO0-1_AFsigmoid_LR0-01_DR0-99_DS500_preds.csv\n",
      "\tPrecision@1: 0.8039\n",
      "\tPrecision@2: 0.6471\n",
      "\tPrecision@3: 0.6078\n",
      "\tPrecision@4: 0.5735\n",
      "\tPrecision@5: 0.5294\n",
      "\tPrecision@10: 0.459\n",
      "\n",
      "\n",
      "0.803921568627451\n"
     ]
    }
   ],
   "source": [
    "df = iteratePrecision(os.path.join(basePath, 'test_preds'), file=bestModel, thresh=0.8)\n",
    "cl = df.index"
   ]
  },
  {
   "cell_type": "code",
   "execution_count": 46,
   "id": "de76458f",
   "metadata": {},
   "outputs": [
    {
     "data": {
      "text/html": [
       "<div>\n",
       "<style scoped>\n",
       "    .dataframe tbody tr th:only-of-type {\n",
       "        vertical-align: middle;\n",
       "    }\n",
       "\n",
       "    .dataframe tbody tr th {\n",
       "        vertical-align: top;\n",
       "    }\n",
       "\n",
       "    .dataframe thead th {\n",
       "        text-align: right;\n",
       "    }\n",
       "</style>\n",
       "<table border=\"1\" class=\"dataframe\">\n",
       "  <thead>\n",
       "    <tr style=\"text-align: right;\">\n",
       "      <th></th>\n",
       "      <th>cancerType</th>\n",
       "      <th>p@1</th>\n",
       "      <th>p@2</th>\n",
       "      <th>p@3</th>\n",
       "      <th>p@4</th>\n",
       "      <th>p@5</th>\n",
       "    </tr>\n",
       "  </thead>\n",
       "  <tbody>\n",
       "    <tr>\n",
       "      <th>ACH-000012</th>\n",
       "      <td>Lung Cancer</td>\n",
       "      <td>1.0</td>\n",
       "      <td>1.0</td>\n",
       "      <td>1.000000</td>\n",
       "      <td>1.00</td>\n",
       "      <td>1.0</td>\n",
       "    </tr>\n",
       "    <tr>\n",
       "      <th>ACH-000062</th>\n",
       "      <td>Lung Cancer</td>\n",
       "      <td>1.0</td>\n",
       "      <td>0.5</td>\n",
       "      <td>0.666667</td>\n",
       "      <td>0.75</td>\n",
       "      <td>0.6</td>\n",
       "    </tr>\n",
       "    <tr>\n",
       "      <th>ACH-000086</th>\n",
       "      <td>Lung Cancer</td>\n",
       "      <td>1.0</td>\n",
       "      <td>0.5</td>\n",
       "      <td>0.333333</td>\n",
       "      <td>0.25</td>\n",
       "      <td>0.4</td>\n",
       "    </tr>\n",
       "    <tr>\n",
       "      <th>ACH-000161</th>\n",
       "      <td>Lung Cancer</td>\n",
       "      <td>1.0</td>\n",
       "      <td>0.5</td>\n",
       "      <td>0.666667</td>\n",
       "      <td>0.50</td>\n",
       "      <td>0.4</td>\n",
       "    </tr>\n",
       "    <tr>\n",
       "      <th>ACH-000164</th>\n",
       "      <td>Pancreatic Cancer</td>\n",
       "      <td>0.0</td>\n",
       "      <td>0.0</td>\n",
       "      <td>0.000000</td>\n",
       "      <td>0.00</td>\n",
       "      <td>0.2</td>\n",
       "    </tr>\n",
       "  </tbody>\n",
       "</table>\n",
       "</div>"
      ],
      "text/plain": [
       "                   cancerType  p@1  p@2       p@3   p@4  p@5\n",
       "ACH-000012        Lung Cancer  1.0  1.0  1.000000  1.00  1.0\n",
       "ACH-000062        Lung Cancer  1.0  0.5  0.666667  0.75  0.6\n",
       "ACH-000086        Lung Cancer  1.0  0.5  0.333333  0.25  0.4\n",
       "ACH-000161        Lung Cancer  1.0  0.5  0.666667  0.50  0.4\n",
       "ACH-000164  Pancreatic Cancer  0.0  0.0  0.000000  0.00  0.2"
      ]
     },
     "execution_count": 46,
     "metadata": {},
     "output_type": "execute_result"
    }
   ],
   "source": [
    "ctypes = pd.read_csv(os.path.join(basePath, 'test_preds', bestModel), index_col=0).loc[:, ['cell_line', 'cancer_type']].drop_duplicates(keep='first').set_index('cell_line').cancer_type\n",
    "df.insert(0, 'cancerType', ctypes)\n"
   ]
  },
  {
   "cell_type": "code",
   "execution_count": 48,
   "id": "6050d256",
   "metadata": {},
   "outputs": [
    {
     "data": {
      "text/html": [
       "<div>\n",
       "<style scoped>\n",
       "    .dataframe tbody tr th:only-of-type {\n",
       "        vertical-align: middle;\n",
       "    }\n",
       "\n",
       "    .dataframe tbody tr th {\n",
       "        vertical-align: top;\n",
       "    }\n",
       "\n",
       "    .dataframe thead th {\n",
       "        text-align: right;\n",
       "    }\n",
       "</style>\n",
       "<table border=\"1\" class=\"dataframe\">\n",
       "  <thead>\n",
       "    <tr style=\"text-align: right;\">\n",
       "      <th></th>\n",
       "      <th>cancerType</th>\n",
       "      <th>p@1</th>\n",
       "      <th>p@2</th>\n",
       "      <th>p@3</th>\n",
       "      <th>p@4</th>\n",
       "      <th>p@5</th>\n",
       "    </tr>\n",
       "  </thead>\n",
       "  <tbody>\n",
       "    <tr>\n",
       "      <th>ACH-000012</th>\n",
       "      <td>Lung Cancer</td>\n",
       "      <td>1.0</td>\n",
       "      <td>1.0</td>\n",
       "      <td>1.0</td>\n",
       "      <td>1.00</td>\n",
       "      <td>1.0</td>\n",
       "    </tr>\n",
       "    <tr>\n",
       "      <th>ACH-000860</th>\n",
       "      <td>Lung Cancer</td>\n",
       "      <td>1.0</td>\n",
       "      <td>1.0</td>\n",
       "      <td>1.0</td>\n",
       "      <td>1.00</td>\n",
       "      <td>1.0</td>\n",
       "    </tr>\n",
       "    <tr>\n",
       "      <th>ACH-000984</th>\n",
       "      <td>Endometrial/Uterine Cancer</td>\n",
       "      <td>1.0</td>\n",
       "      <td>1.0</td>\n",
       "      <td>1.0</td>\n",
       "      <td>1.00</td>\n",
       "      <td>1.0</td>\n",
       "    </tr>\n",
       "    <tr>\n",
       "      <th>ACH-000280</th>\n",
       "      <td>Ovarian Cancer</td>\n",
       "      <td>1.0</td>\n",
       "      <td>1.0</td>\n",
       "      <td>1.0</td>\n",
       "      <td>1.00</td>\n",
       "      <td>0.8</td>\n",
       "    </tr>\n",
       "    <tr>\n",
       "      <th>ACH-000747</th>\n",
       "      <td>Lung Cancer</td>\n",
       "      <td>1.0</td>\n",
       "      <td>1.0</td>\n",
       "      <td>1.0</td>\n",
       "      <td>1.00</td>\n",
       "      <td>0.8</td>\n",
       "    </tr>\n",
       "    <tr>\n",
       "      <th>ACH-000749</th>\n",
       "      <td>Lung Cancer</td>\n",
       "      <td>1.0</td>\n",
       "      <td>1.0</td>\n",
       "      <td>1.0</td>\n",
       "      <td>1.00</td>\n",
       "      <td>0.8</td>\n",
       "    </tr>\n",
       "    <tr>\n",
       "      <th>ACH-000788</th>\n",
       "      <td>Skin Cancer</td>\n",
       "      <td>1.0</td>\n",
       "      <td>1.0</td>\n",
       "      <td>1.0</td>\n",
       "      <td>1.00</td>\n",
       "      <td>0.8</td>\n",
       "    </tr>\n",
       "    <tr>\n",
       "      <th>ACH-000982</th>\n",
       "      <td>Colon/Colorectal Cancer</td>\n",
       "      <td>1.0</td>\n",
       "      <td>1.0</td>\n",
       "      <td>1.0</td>\n",
       "      <td>1.00</td>\n",
       "      <td>0.8</td>\n",
       "    </tr>\n",
       "    <tr>\n",
       "      <th>ACH-000421</th>\n",
       "      <td>Colon/Colorectal Cancer</td>\n",
       "      <td>1.0</td>\n",
       "      <td>1.0</td>\n",
       "      <td>1.0</td>\n",
       "      <td>0.75</td>\n",
       "      <td>0.6</td>\n",
       "    </tr>\n",
       "    <tr>\n",
       "      <th>ACH-000527</th>\n",
       "      <td>Ovarian Cancer</td>\n",
       "      <td>1.0</td>\n",
       "      <td>1.0</td>\n",
       "      <td>1.0</td>\n",
       "      <td>0.75</td>\n",
       "      <td>0.6</td>\n",
       "    </tr>\n",
       "  </tbody>\n",
       "</table>\n",
       "</div>"
      ],
      "text/plain": [
       "                            cancerType  p@1  p@2  p@3   p@4  p@5\n",
       "ACH-000012                 Lung Cancer  1.0  1.0  1.0  1.00  1.0\n",
       "ACH-000860                 Lung Cancer  1.0  1.0  1.0  1.00  1.0\n",
       "ACH-000984  Endometrial/Uterine Cancer  1.0  1.0  1.0  1.00  1.0\n",
       "ACH-000280              Ovarian Cancer  1.0  1.0  1.0  1.00  0.8\n",
       "ACH-000747                 Lung Cancer  1.0  1.0  1.0  1.00  0.8\n",
       "ACH-000749                 Lung Cancer  1.0  1.0  1.0  1.00  0.8\n",
       "ACH-000788                 Skin Cancer  1.0  1.0  1.0  1.00  0.8\n",
       "ACH-000982     Colon/Colorectal Cancer  1.0  1.0  1.0  1.00  0.8\n",
       "ACH-000421     Colon/Colorectal Cancer  1.0  1.0  1.0  0.75  0.6\n",
       "ACH-000527              Ovarian Cancer  1.0  1.0  1.0  0.75  0.6"
      ]
     },
     "execution_count": 48,
     "metadata": {},
     "output_type": "execute_result"
    }
   ],
   "source": [
    "df.sort_values(by=['p@1', 'p@2', 'p@3', 'p@4', 'p@5'], ascending=False, inplace=True)\n",
    "df.head(10)"
   ]
  },
  {
   "cell_type": "code",
   "execution_count": 49,
   "id": "397bde3b",
   "metadata": {},
   "outputs": [
    {
     "data": {
      "text/html": [
       "<div>\n",
       "<style scoped>\n",
       "    .dataframe tbody tr th:only-of-type {\n",
       "        vertical-align: middle;\n",
       "    }\n",
       "\n",
       "    .dataframe tbody tr th {\n",
       "        vertical-align: top;\n",
       "    }\n",
       "\n",
       "    .dataframe thead th {\n",
       "        text-align: right;\n",
       "    }\n",
       "</style>\n",
       "<table border=\"1\" class=\"dataframe\">\n",
       "  <thead>\n",
       "    <tr style=\"text-align: right;\">\n",
       "      <th></th>\n",
       "      <th>cancerType</th>\n",
       "      <th>p@1</th>\n",
       "      <th>p@2</th>\n",
       "      <th>p@3</th>\n",
       "      <th>p@4</th>\n",
       "      <th>p@5</th>\n",
       "    </tr>\n",
       "  </thead>\n",
       "  <tbody>\n",
       "    <tr>\n",
       "      <th>ACH-000305</th>\n",
       "      <td>Esophageal Cancer</td>\n",
       "      <td>0.0</td>\n",
       "      <td>0.0</td>\n",
       "      <td>0.333333</td>\n",
       "      <td>0.25</td>\n",
       "      <td>0.4</td>\n",
       "    </tr>\n",
       "    <tr>\n",
       "      <th>ACH-000663</th>\n",
       "      <td>Ovarian Cancer</td>\n",
       "      <td>0.0</td>\n",
       "      <td>0.0</td>\n",
       "      <td>0.333333</td>\n",
       "      <td>0.25</td>\n",
       "      <td>0.2</td>\n",
       "    </tr>\n",
       "    <tr>\n",
       "      <th>ACH-000164</th>\n",
       "      <td>Pancreatic Cancer</td>\n",
       "      <td>0.0</td>\n",
       "      <td>0.0</td>\n",
       "      <td>0.000000</td>\n",
       "      <td>0.00</td>\n",
       "      <td>0.2</td>\n",
       "    </tr>\n",
       "    <tr>\n",
       "      <th>ACH-000329</th>\n",
       "      <td>Brain Cancer</td>\n",
       "      <td>0.0</td>\n",
       "      <td>0.0</td>\n",
       "      <td>0.000000</td>\n",
       "      <td>0.00</td>\n",
       "      <td>0.2</td>\n",
       "    </tr>\n",
       "    <tr>\n",
       "      <th>ACH-000824</th>\n",
       "      <td>Esophageal Cancer</td>\n",
       "      <td>0.0</td>\n",
       "      <td>0.0</td>\n",
       "      <td>0.000000</td>\n",
       "      <td>0.00</td>\n",
       "      <td>0.0</td>\n",
       "    </tr>\n",
       "  </tbody>\n",
       "</table>\n",
       "</div>"
      ],
      "text/plain": [
       "                   cancerType  p@1  p@2       p@3   p@4  p@5\n",
       "ACH-000305  Esophageal Cancer  0.0  0.0  0.333333  0.25  0.4\n",
       "ACH-000663     Ovarian Cancer  0.0  0.0  0.333333  0.25  0.2\n",
       "ACH-000164  Pancreatic Cancer  0.0  0.0  0.000000  0.00  0.2\n",
       "ACH-000329       Brain Cancer  0.0  0.0  0.000000  0.00  0.2\n",
       "ACH-000824  Esophageal Cancer  0.0  0.0  0.000000  0.00  0.0"
      ]
     },
     "execution_count": 49,
     "metadata": {},
     "output_type": "execute_result"
    }
   ],
   "source": [
    "df.tail(5)"
   ]
  },
  {
   "cell_type": "code",
   "execution_count": 52,
   "id": "29807129",
   "metadata": {},
   "outputs": [
    {
     "data": {
      "text/plain": [
       "p@1    0.807692\n",
       "p@2    0.644231\n",
       "p@3    0.602564\n",
       "p@4    0.567308\n",
       "p@5    0.526923\n",
       "dtype: float64"
      ]
     },
     "execution_count": 52,
     "metadata": {},
     "output_type": "execute_result"
    }
   ],
   "source": [
    "df.mean()"
   ]
  },
  {
   "cell_type": "code",
   "execution_count": 51,
   "id": "f3f3ac04",
   "metadata": {},
   "outputs": [
    {
     "data": {
      "image/png": "[encoded data removed]",
      "text/plain": [
       "<Figure size 640x480 with 6 Axes>"
      ]
     },
     "metadata": {},
     "output_type": "display_data"
    }
   ],
   "source": [
    "df.hist()\n",
    "plt.show()"
   ]
  },
  {
   "cell_type": "code",
   "execution_count": 39,
   "id": "a575c3bf",
   "metadata": {
    "scrolled": false
   },
   "outputs": [
    {
     "name": "stdout",
     "output_type": "stream",
     "text": [
      "Cell line: ACH-000012; Top drug: nemorubicin\n",
      "Cell line: ACH-000062; Top drug: mitoxantrone\n",
      "Cell line: ACH-000086; Top drug: YM-155\n",
      "Cell line: ACH-000161; Top drug: genz-644282\n",
      "\n",
      "No true effective drugs identified in top 5 for ACH-000164\n",
      "Cell line: ACH-000164; Top drug: JNJ-26481585\n",
      "\n",
      "Cell line: ACH-000222; Top drug: genz-644282\n",
      "Cell line: ACH-000280; Top drug: topotecan\n",
      "Cell line: ACH-000305; Top drug: beta-lapachone\n",
      "Cell line: ACH-000316; Top drug: YM-155\n",
      "Cell line: ACH-000320; Top drug: 10-hydroxycamptothecin\n",
      "Cell line: ACH-000329; Top drug: 10-hydroxycamptothecin\n",
      "Cell line: ACH-000347; Top drug: YM-155\n",
      "Cell line: ACH-000368; Top drug: echinomycin\n",
      "Cell line: ACH-000376; Top drug: nemorubicin\n",
      "Cell line: ACH-000421; Top drug: genz-644282\n",
      "Cell line: ACH-000450; Top drug: CID-5458317\n",
      "Cell line: ACH-000467; Top drug: genz-644282\n",
      "Cell line: ACH-000486; Top drug: irinotecan\n",
      "Cell line: ACH-000493; Top drug: topotecan\n",
      "Cell line: ACH-000510; Top drug: beta-lapachone\n",
      "Cell line: ACH-000527; Top drug: YM-155\n",
      "Cell line: ACH-000563; Top drug: genz-644282\n",
      "Cell line: ACH-000570; Top drug: YM-155\n",
      "Cell line: ACH-000573; Top drug: YM-155\n",
      "Cell line: ACH-000650; Top drug: nemorubicin\n",
      "Cell line: ACH-000651; Top drug: genz-644282\n",
      "Cell line: ACH-000663; Top drug: topotecan\n",
      "Cell line: ACH-000665; Top drug: topotecan\n",
      "Cell line: ACH-000704; Top drug: CYT-997\n",
      "Cell line: ACH-000715; Top drug: selinexor\n",
      "Cell line: ACH-000721; Top drug: beta-lapachone\n",
      "Cell line: ACH-000747; Top drug: YM-155\n",
      "Cell line: ACH-000749; Top drug: PF-03758309\n",
      "Cell line: ACH-000750; Top drug: brivaracetam\n",
      "Cell line: ACH-000768; Top drug: nemorubicin\n",
      "Cell line: ACH-000776; Top drug: YM-155\n",
      "Cell line: ACH-000788; Top drug: YM-155\n",
      "Cell line: ACH-000813; Top drug: beta-lapachone\n",
      "Cell line: ACH-000823; Top drug: YM-155\n",
      "\n",
      "No true effective drugs identified in top 5 for ACH-000824\n",
      "Cell line: ACH-000824; Top drug: resminostat\n",
      "\n",
      "Cell line: ACH-000834; Top drug: 10-hydroxycamptothecin\n",
      "Cell line: ACH-000836; Top drug: topotecan\n",
      "Cell line: ACH-000846; Top drug: vanoxerine\n",
      "Cell line: ACH-000853; Top drug: nanchangmycin\n",
      "Cell line: ACH-000860; Top drug: genz-644282\n",
      "Cell line: ACH-000893; Top drug: YM-155\n",
      "Cell line: ACH-000896; Top drug: epothilone-b\n",
      "Cell line: ACH-000899; Top drug: PF-03758309\n",
      "Cell line: ACH-000961; Top drug: cabazitaxel\n",
      "Cell line: ACH-000978; Top drug: beta-lapachone\n",
      "Cell line: ACH-000982; Top drug: topotecan\n",
      "Cell line: ACH-000984; Top drug: beta-lapachone\n"
     ]
    }
   ],
   "source": [
    "drugCount = {}\n",
    "for cell, subdf in predDF.groupby(by='cell_line'):\n",
    "    sortDF = subdf.sort_values(by='pred', ascending=False).reset_index(drop=True)\n",
    "    drug = sortDF.loc[0, 'drug']\n",
    "    if drug in drugCount.keys():\n",
    "        drugCount[drug] += 1\n",
    "    else:\n",
    "        drugCount[drug] = 1\n",
    "        \n",
    "    if sortDF.iloc[:5, :].true.sum() == 0:\n",
    "        print(f\"\\nNo true effective drugs identified in top 5 for {cell}\")\n",
    "        print(f\"Cell line: {sortDF.loc[0, 'cell_line']}; Top drug: {drug}\\n\")\n",
    "    else:\n",
    "        print(f\"Cell line: {sortDF.loc[0, 'cell_line']}; Top drug: {drug}\")\n"
   ]
  },
  {
   "cell_type": "code",
   "execution_count": 36,
   "id": "36f4b312",
   "metadata": {},
   "outputs": [
    {
     "data": {
      "text/plain": [
       "{'epothilone-b': 11,\n",
       " 'echinomycin': 9,\n",
       " 'YM-155': 19,\n",
       " 'genz-644282': 5,\n",
       " 'pardoprunox': 1,\n",
       " '10-hydroxycamptothecin': 2,\n",
       " 'nemorubicin': 2,\n",
       " 'valnemulin': 1,\n",
       " 'topotecan': 1,\n",
       " 'ICG-001': 1}"
      ]
     },
     "execution_count": 36,
     "metadata": {},
     "output_type": "execute_result"
    }
   ],
   "source": [
    "drugCount"
   ]
  },
  {
   "cell_type": "code",
   "execution_count": 80,
   "id": "ad7df714",
   "metadata": {},
   "outputs": [
    {
     "data": {
      "text/html": [
       "<div>\n",
       "<style scoped>\n",
       "    .dataframe tbody tr th:only-of-type {\n",
       "        vertical-align: middle;\n",
       "    }\n",
       "\n",
       "    .dataframe tbody tr th {\n",
       "        vertical-align: top;\n",
       "    }\n",
       "\n",
       "    .dataframe thead th {\n",
       "        text-align: right;\n",
       "    }\n",
       "</style>\n",
       "<table border=\"1\" class=\"dataframe\">\n",
       "  <thead>\n",
       "    <tr style=\"text-align: right;\">\n",
       "      <th></th>\n",
       "      <th>cell_line</th>\n",
       "      <th>cancer_type</th>\n",
       "      <th>drug</th>\n",
       "      <th>true</th>\n",
       "      <th>pred</th>\n",
       "    </tr>\n",
       "  </thead>\n",
       "  <tbody>\n",
       "    <tr>\n",
       "      <th>6593</th>\n",
       "      <td>ACH-000834</td>\n",
       "      <td>Bladder Cancer</td>\n",
       "      <td>TAS-103</td>\n",
       "      <td>0</td>\n",
       "      <td>0.531032</td>\n",
       "    </tr>\n",
       "    <tr>\n",
       "      <th>6573</th>\n",
       "      <td>ACH-000651</td>\n",
       "      <td>Colon/Colorectal Cancer</td>\n",
       "      <td>TAS-103</td>\n",
       "      <td>0</td>\n",
       "      <td>0.470912</td>\n",
       "    </tr>\n",
       "    <tr>\n",
       "      <th>6579</th>\n",
       "      <td>ACH-000788</td>\n",
       "      <td>Skin Cancer</td>\n",
       "      <td>TAS-103</td>\n",
       "      <td>0</td>\n",
       "      <td>0.455642</td>\n",
       "    </tr>\n",
       "    <tr>\n",
       "      <th>6583</th>\n",
       "      <td>ACH-000776</td>\n",
       "      <td>Brain Cancer</td>\n",
       "      <td>TAS-103</td>\n",
       "      <td>0</td>\n",
       "      <td>0.432243</td>\n",
       "    </tr>\n",
       "    <tr>\n",
       "      <th>6591</th>\n",
       "      <td>ACH-000665</td>\n",
       "      <td>Lung Cancer</td>\n",
       "      <td>TAS-103</td>\n",
       "      <td>0</td>\n",
       "      <td>0.406337</td>\n",
       "    </tr>\n",
       "    <tr>\n",
       "      <th>6584</th>\n",
       "      <td>ACH-000486</td>\n",
       "      <td>Bladder Cancer</td>\n",
       "      <td>TAS-103</td>\n",
       "      <td>0</td>\n",
       "      <td>0.401862</td>\n",
       "    </tr>\n",
       "    <tr>\n",
       "      <th>6574</th>\n",
       "      <td>ACH-000570</td>\n",
       "      <td>Brain Cancer</td>\n",
       "      <td>TAS-103</td>\n",
       "      <td>0</td>\n",
       "      <td>0.400453</td>\n",
       "    </tr>\n",
       "    <tr>\n",
       "      <th>6587</th>\n",
       "      <td>ACH-000012</td>\n",
       "      <td>Lung Cancer</td>\n",
       "      <td>TAS-103</td>\n",
       "      <td>0</td>\n",
       "      <td>0.389942</td>\n",
       "    </tr>\n",
       "    <tr>\n",
       "      <th>6590</th>\n",
       "      <td>ACH-000563</td>\n",
       "      <td>Lung Cancer</td>\n",
       "      <td>TAS-103</td>\n",
       "      <td>0</td>\n",
       "      <td>0.389818</td>\n",
       "    </tr>\n",
       "    <tr>\n",
       "      <th>6592</th>\n",
       "      <td>ACH-000467</td>\n",
       "      <td>Colon/Colorectal Cancer</td>\n",
       "      <td>TAS-103</td>\n",
       "      <td>0</td>\n",
       "      <td>0.386398</td>\n",
       "    </tr>\n",
       "    <tr>\n",
       "      <th>6575</th>\n",
       "      <td>ACH-000421</td>\n",
       "      <td>Colon/Colorectal Cancer</td>\n",
       "      <td>TAS-103</td>\n",
       "      <td>0</td>\n",
       "      <td>0.385077</td>\n",
       "    </tr>\n",
       "    <tr>\n",
       "      <th>6576</th>\n",
       "      <td>ACH-000510</td>\n",
       "      <td>Lung Cancer</td>\n",
       "      <td>TAS-103</td>\n",
       "      <td>0</td>\n",
       "      <td>0.381421</td>\n",
       "    </tr>\n",
       "    <tr>\n",
       "      <th>6582</th>\n",
       "      <td>ACH-000750</td>\n",
       "      <td>Skin Cancer</td>\n",
       "      <td>TAS-103</td>\n",
       "      <td>0</td>\n",
       "      <td>0.372962</td>\n",
       "    </tr>\n",
       "    <tr>\n",
       "      <th>6588</th>\n",
       "      <td>ACH-000161</td>\n",
       "      <td>Lung Cancer</td>\n",
       "      <td>TAS-103</td>\n",
       "      <td>0</td>\n",
       "      <td>0.342100</td>\n",
       "    </tr>\n",
       "    <tr>\n",
       "      <th>6577</th>\n",
       "      <td>ACH-000164</td>\n",
       "      <td>Pancreatic Cancer</td>\n",
       "      <td>TAS-103</td>\n",
       "      <td>0</td>\n",
       "      <td>0.341208</td>\n",
       "    </tr>\n",
       "    <tr>\n",
       "      <th>6565</th>\n",
       "      <td>ACH-000305</td>\n",
       "      <td>Esophageal Cancer</td>\n",
       "      <td>TAS-103</td>\n",
       "      <td>0</td>\n",
       "      <td>0.338288</td>\n",
       "    </tr>\n",
       "    <tr>\n",
       "      <th>6571</th>\n",
       "      <td>ACH-000823</td>\n",
       "      <td>Esophageal Cancer</td>\n",
       "      <td>TAS-103</td>\n",
       "      <td>0</td>\n",
       "      <td>0.329366</td>\n",
       "    </tr>\n",
       "    <tr>\n",
       "      <th>6580</th>\n",
       "      <td>ACH-000347</td>\n",
       "      <td>Pancreatic Cancer</td>\n",
       "      <td>TAS-103</td>\n",
       "      <td>0</td>\n",
       "      <td>0.305950</td>\n",
       "    </tr>\n",
       "    <tr>\n",
       "      <th>6586</th>\n",
       "      <td>ACH-000824</td>\n",
       "      <td>Esophageal Cancer</td>\n",
       "      <td>TAS-103</td>\n",
       "      <td>0</td>\n",
       "      <td>0.281976</td>\n",
       "    </tr>\n",
       "    <tr>\n",
       "      <th>6566</th>\n",
       "      <td>ACH-000450</td>\n",
       "      <td>Skin Cancer</td>\n",
       "      <td>TAS-103</td>\n",
       "      <td>0</td>\n",
       "      <td>0.281835</td>\n",
       "    </tr>\n",
       "    <tr>\n",
       "      <th>6567</th>\n",
       "      <td>ACH-000747</td>\n",
       "      <td>Lung Cancer</td>\n",
       "      <td>TAS-103</td>\n",
       "      <td>1</td>\n",
       "      <td>0.281170</td>\n",
       "    </tr>\n",
       "    <tr>\n",
       "      <th>6578</th>\n",
       "      <td>ACH-000650</td>\n",
       "      <td>Skin Cancer</td>\n",
       "      <td>TAS-103</td>\n",
       "      <td>0</td>\n",
       "      <td>0.271422</td>\n",
       "    </tr>\n",
       "    <tr>\n",
       "      <th>6568</th>\n",
       "      <td>ACH-000853</td>\n",
       "      <td>Lung Cancer</td>\n",
       "      <td>TAS-103</td>\n",
       "      <td>0</td>\n",
       "      <td>0.246384</td>\n",
       "    </tr>\n",
       "    <tr>\n",
       "      <th>6585</th>\n",
       "      <td>ACH-000893</td>\n",
       "      <td>Lung Cancer</td>\n",
       "      <td>TAS-103</td>\n",
       "      <td>1</td>\n",
       "      <td>0.242425</td>\n",
       "    </tr>\n",
       "    <tr>\n",
       "      <th>6572</th>\n",
       "      <td>ACH-000704</td>\n",
       "      <td>Ovarian Cancer</td>\n",
       "      <td>TAS-103</td>\n",
       "      <td>0</td>\n",
       "      <td>0.238533</td>\n",
       "    </tr>\n",
       "    <tr>\n",
       "      <th>6589</th>\n",
       "      <td>ACH-000573</td>\n",
       "      <td>Breast Cancer</td>\n",
       "      <td>TAS-103</td>\n",
       "      <td>0</td>\n",
       "      <td>0.228312</td>\n",
       "    </tr>\n",
       "    <tr>\n",
       "      <th>6570</th>\n",
       "      <td>ACH-000982</td>\n",
       "      <td>Colon/Colorectal Cancer</td>\n",
       "      <td>TAS-103</td>\n",
       "      <td>1</td>\n",
       "      <td>0.193582</td>\n",
       "    </tr>\n",
       "    <tr>\n",
       "      <th>6569</th>\n",
       "      <td>ACH-000368</td>\n",
       "      <td>Brain Cancer</td>\n",
       "      <td>TAS-103</td>\n",
       "      <td>0</td>\n",
       "      <td>0.182864</td>\n",
       "    </tr>\n",
       "    <tr>\n",
       "      <th>6581</th>\n",
       "      <td>ACH-000316</td>\n",
       "      <td>Liver Cancer</td>\n",
       "      <td>TAS-103</td>\n",
       "      <td>0</td>\n",
       "      <td>0.076245</td>\n",
       "    </tr>\n",
       "  </tbody>\n",
       "</table>\n",
       "</div>"
      ],
      "text/plain": [
       "       cell_line              cancer_type     drug  true      pred\n",
       "6593  ACH-000834           Bladder Cancer  TAS-103     0  0.531032\n",
       "6573  ACH-000651  Colon/Colorectal Cancer  TAS-103     0  0.470912\n",
       "6579  ACH-000788              Skin Cancer  TAS-103     0  0.455642\n",
       "6583  ACH-000776             Brain Cancer  TAS-103     0  0.432243\n",
       "6591  ACH-000665              Lung Cancer  TAS-103     0  0.406337\n",
       "6584  ACH-000486           Bladder Cancer  TAS-103     0  0.401862\n",
       "6574  ACH-000570             Brain Cancer  TAS-103     0  0.400453\n",
       "6587  ACH-000012              Lung Cancer  TAS-103     0  0.389942\n",
       "6590  ACH-000563              Lung Cancer  TAS-103     0  0.389818\n",
       "6592  ACH-000467  Colon/Colorectal Cancer  TAS-103     0  0.386398\n",
       "6575  ACH-000421  Colon/Colorectal Cancer  TAS-103     0  0.385077\n",
       "6576  ACH-000510              Lung Cancer  TAS-103     0  0.381421\n",
       "6582  ACH-000750              Skin Cancer  TAS-103     0  0.372962\n",
       "6588  ACH-000161              Lung Cancer  TAS-103     0  0.342100\n",
       "6577  ACH-000164        Pancreatic Cancer  TAS-103     0  0.341208\n",
       "6565  ACH-000305        Esophageal Cancer  TAS-103     0  0.338288\n",
       "6571  ACH-000823        Esophageal Cancer  TAS-103     0  0.329366\n",
       "6580  ACH-000347        Pancreatic Cancer  TAS-103     0  0.305950\n",
       "6586  ACH-000824        Esophageal Cancer  TAS-103     0  0.281976\n",
       "6566  ACH-000450              Skin Cancer  TAS-103     0  0.281835\n",
       "6567  ACH-000747              Lung Cancer  TAS-103     1  0.281170\n",
       "6578  ACH-000650              Skin Cancer  TAS-103     0  0.271422\n",
       "6568  ACH-000853              Lung Cancer  TAS-103     0  0.246384\n",
       "6585  ACH-000893              Lung Cancer  TAS-103     1  0.242425\n",
       "6572  ACH-000704           Ovarian Cancer  TAS-103     0  0.238533\n",
       "6589  ACH-000573            Breast Cancer  TAS-103     0  0.228312\n",
       "6570  ACH-000982  Colon/Colorectal Cancer  TAS-103     1  0.193582\n",
       "6569  ACH-000368             Brain Cancer  TAS-103     0  0.182864\n",
       "6581  ACH-000316             Liver Cancer  TAS-103     0  0.076245"
      ]
     },
     "execution_count": 80,
     "metadata": {},
     "output_type": "execute_result"
    }
   ],
   "source": [
    "predDF[predDF.drug == 'TAS-103'].sort_values(by='pred', ascending=False)"
   ]
  },
  {
   "cell_type": "code",
   "execution_count": 91,
   "id": "f310a19a",
   "metadata": {},
   "outputs": [
    {
     "data": {
      "text/plain": [
       "{'epothilone-b': 11,\n",
       " 'echinomycin': 9,\n",
       " 'YM-155': 19,\n",
       " 'genz-644282': 5,\n",
       " 'pardoprunox': 1,\n",
       " '10-hydroxycamptothecin': 2,\n",
       " 'nemorubicin': 2,\n",
       " 'valnemulin': 1,\n",
       " 'topotecan': 1,\n",
       " 'ICG-001': 1}"
      ]
     },
     "execution_count": 91,
     "metadata": {},
     "output_type": "execute_result"
    }
   ],
   "source": [
    "drugCount"
   ]
  },
  {
   "cell_type": "code",
   "execution_count": 58,
   "id": "a082f66e",
   "metadata": {},
   "outputs": [
    {
     "name": "stdout",
     "output_type": "stream",
     "text": [
      "Model: Fused-FewShotCDR_NL64_16_DO0-1_AFsigmoid_LR0-01_DR0-99_DS500_preds.csv\n",
      "\tPrecision@1: 0.7077\n",
      "\tPrecision@2: 0.6308\n",
      "\tPrecision@3: 0.6\n",
      "\tPrecision@4: 0.5846\n",
      "\tPrecision@5: 0.5262\n",
      "\tPrecision@10: 0.4922\n",
      "\n",
      "\n",
      "0.7076923076923077\n"
     ]
    }
   ],
   "source": [
    "df = iteratePrecision(os.path.join(basePath, 'newcancer_preds'), file=bestModel)"
   ]
  },
  {
   "cell_type": "code",
   "execution_count": 89,
   "id": "0e6dc88a",
   "metadata": {
    "scrolled": false
   },
   "outputs": [
    {
     "name": "stdout",
     "output_type": "stream",
     "text": [
      "Model: Fused-FewShotCDR_NL64_16_DO0-1_AFsigmoid_LR0-01_DR0-99_DS500_preds.csv\n",
      "\tPrecision@1: 0.6866\n",
      "\tPrecision@2: 0.6119\n",
      "\tPrecision@3: 0.5821\n",
      "\tPrecision@4: 0.5672\n",
      "\tPrecision@5: 0.5104\n",
      "\tPrecision@10: 0.4922\n",
      "\n",
      "\n",
      "Model: Fused-FewShotCDR_NL64_32_DO0-0_AFrelu_LR0-001_DR0-99_DS500_preds.csv\n",
      "\tPrecision@1: 0.6866\n",
      "\tPrecision@2: 0.6567\n",
      "\tPrecision@3: 0.592\n",
      "\tPrecision@4: 0.5597\n",
      "\tPrecision@5: 0.5343\n",
      "\tPrecision@10: 0.4961\n",
      "\n",
      "\n",
      "Model: Fused-FewShotCDR_NL64_16_DO0-0_AFrelu_LR0-001_DR0-99_DS500_preds.csv\n",
      "\tPrecision@1: 0.7164\n",
      "\tPrecision@2: 0.6269\n",
      "\tPrecision@3: 0.602\n",
      "\tPrecision@4: 0.5672\n",
      "\tPrecision@5: 0.5343\n",
      "\tPrecision@10: 0.4902\n",
      "\n",
      "\n",
      "0.7164179104477612\n"
     ]
    }
   ],
   "source": [
    "# Average of 67 cell lines with cancer types not seen during training\n",
    "iteratePrecision(os.path.join(basePath, 'newcancer_preds'), thresh=0.65)"
   ]
  },
  {
   "cell_type": "code",
   "execution_count": 47,
   "id": "7b29c945",
   "metadata": {},
   "outputs": [
    {
     "data": {
      "text/plain": [
       "'Fused-FewShotCDR_NL64_16_DO0-1_AFsigmoid_LR0-01_DR0-99_DS500_preds.csv'"
      ]
     },
     "execution_count": 47,
     "metadata": {},
     "output_type": "execute_result"
    }
   ],
   "source": [
    "'Fused-FewShotCDR_NL64_16_DO0-1_AFsigmoid_LR0-01_DR0-99_DS500_preds.csv'"
   ]
  },
  {
   "cell_type": "code",
   "execution_count": null,
   "id": "d04f31c2",
   "metadata": {},
   "outputs": [],
   "source": []
  }
 ],
 "metadata": {
  "kernelspec": {
   "display_name": "Python3.8 (tf-2.2)",
   "language": "python",
   "name": "tf-gpu"
  },
  "language_info": {
   "codemirror_mode": {
    "name": "ipython",
    "version": 3
   },
   "file_extension": ".py",
   "mimetype": "text/x-python",
   "name": "python",
   "nbconvert_exporter": "python",
   "pygments_lexer": "ipython3",
   "version": "3.8.12"
  }
 },
 "nbformat": 4,
 "nbformat_minor": 5
}
