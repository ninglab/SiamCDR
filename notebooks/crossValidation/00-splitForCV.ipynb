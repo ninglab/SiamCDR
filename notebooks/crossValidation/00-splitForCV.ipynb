{
 "cells": [
  {
   "cell_type": "code",
   "execution_count": 1,
   "id": "2a9ca8e8",
   "metadata": {},
   "outputs": [],
   "source": [
    "import numpy as np\n",
    "import pandas as pd"
   ]
  },
  {
   "cell_type": "code",
   "execution_count": 2,
   "id": "fa85f51b",
   "metadata": {},
   "outputs": [],
   "source": [
    "trainRNA = pd.read_csv('../../data/processed/RNA_train_cancergenes.csv', index_col=0)\n",
    "valRNA = pd.read_csv('../../data/processed/RNA_val_cancergenes.csv', index_col=0)"
   ]
  },
  {
   "cell_type": "code",
   "execution_count": 3,
   "id": "093da3a3",
   "metadata": {},
   "outputs": [],
   "source": [
    "allCellLines = list(trainRNA.index) + list(valRNA.index)"
   ]
  },
  {
   "cell_type": "code",
   "execution_count": 4,
   "id": "e91fceff",
   "metadata": {},
   "outputs": [
    {
     "name": "stdout",
     "output_type": "stream",
     "text": [
      "(67789, 2)\n",
      "(473, 2)\n",
      "(300, 2)\n"
     ]
    }
   ],
   "source": [
    "cellLineDF = pd.read_csv('../../data/processed/drugCellLinePairsData.csv').loc[:, ['DepMap_ID','cancer_type']]\n",
    "print(cellLineDF.shape)\n",
    "cellLineDF.drop_duplicates(keep='first', inplace=True)\n",
    "print(cellLineDF.shape)\n",
    "cellLineDF = cellLineDF[cellLineDF.DepMap_ID.isin(allCellLines)]\n",
    "print(cellLineDF.shape)"
   ]
  },
  {
   "cell_type": "code",
   "execution_count": 5,
   "id": "5a60d31e",
   "metadata": {},
   "outputs": [],
   "source": [
    "cellLineDF = cellLineDF.sample(frac=1., random_state=12345)"
   ]
  },
  {
   "cell_type": "code",
   "execution_count": 6,
   "id": "301f3d69",
   "metadata": {},
   "outputs": [],
   "source": [
    "folds = {}"
   ]
  },
  {
   "cell_type": "code",
   "execution_count": 7,
   "id": "a0d38eb8",
   "metadata": {},
   "outputs": [],
   "source": [
    "fold0 = cellLineDF.groupby(by='cancer_type').sample(frac=0.2, random_state=12345)"
   ]
  },
  {
   "cell_type": "code",
   "execution_count": 8,
   "id": "356af6ba",
   "metadata": {},
   "outputs": [
    {
     "name": "stdout",
     "output_type": "stream",
     "text": [
      "59\n"
     ]
    },
    {
     "data": {
      "text/plain": [
       "Lung Cancer                   15\n",
       "Skin Cancer                    6\n",
       "Brain Cancer                   5\n",
       "Ovarian Cancer                 5\n",
       "Pancreatic Cancer              5\n",
       "Colon/Colorectal Cancer        4\n",
       "Esophageal Cancer              4\n",
       "Bladder Cancer                 3\n",
       "Breast Cancer                  3\n",
       "Endometrial/Uterine Cancer     3\n",
       "Head and Neck Cancer           3\n",
       "Liver Cancer                   3\n",
       "Name: cancer_type, dtype: int64"
      ]
     },
     "execution_count": 8,
     "metadata": {},
     "output_type": "execute_result"
    }
   ],
   "source": [
    "cancerCounts = fold0.cancer_type.value_counts()\n",
    "print(cancerCounts.sum())\n",
    "cancerCounts"
   ]
  },
  {
   "cell_type": "code",
   "execution_count": 9,
   "id": "cfa3d33c",
   "metadata": {},
   "outputs": [],
   "source": [
    "folds['fold0'] = list(fold0.DepMap_ID)"
   ]
  },
  {
   "cell_type": "code",
   "execution_count": 10,
   "id": "212cc4d3",
   "metadata": {},
   "outputs": [
    {
     "name": "stdout",
     "output_type": "stream",
     "text": [
      "(300, 2)\n",
      "(241, 2)\n"
     ]
    }
   ],
   "source": [
    "print(cellLineDF.shape)\n",
    "cellLineDF = cellLineDF[~cellLineDF.DepMap_ID.isin(folds['fold0'])]\n",
    "print(cellLineDF.shape)"
   ]
  },
  {
   "cell_type": "code",
   "execution_count": 11,
   "id": "2b5dd079",
   "metadata": {},
   "outputs": [],
   "source": [
    "for i in range(1, 4):\n",
    "    fold = []\n",
    "    for ct, subdf in cellLineDF.groupby('cancer_type'):\n",
    "        nSamp = cancerCounts[ct]\n",
    "        fold.extend(list(subdf.sample(n=nSamp, random_state=12345).DepMap_ID))\n",
    "    \n",
    "    folds[f'fold{i}'] = fold\n",
    "    cellLineDF = cellLineDF[~cellLineDF.DepMap_ID.isin(fold)]"
   ]
  },
  {
   "cell_type": "code",
   "execution_count": 12,
   "id": "cb88f931",
   "metadata": {},
   "outputs": [],
   "source": [
    "folds['fold4'] = list(cellLineDF.DepMap_ID)"
   ]
  },
  {
   "cell_type": "code",
   "execution_count": 13,
   "id": "0549868d",
   "metadata": {},
   "outputs": [
    {
     "name": "stdout",
     "output_type": "stream",
     "text": [
      "fold0 59\n",
      "fold1 59\n",
      "fold2 59\n",
      "fold3 59\n",
      "fold4 64\n"
     ]
    }
   ],
   "source": [
    "for f in folds:\n",
    "    print(f, len(folds[f]))"
   ]
  },
  {
   "cell_type": "code",
   "execution_count": 14,
   "id": "c7330cfb",
   "metadata": {},
   "outputs": [
    {
     "data": {
      "text/plain": [
       "64"
      ]
     },
     "execution_count": 14,
     "metadata": {},
     "output_type": "execute_result"
    }
   ],
   "source": [
    "len(folds[f])"
   ]
  },
  {
   "cell_type": "code",
   "execution_count": 17,
   "id": "5fffab2a",
   "metadata": {},
   "outputs": [],
   "source": [
    "longest = max([len(lst) for lst in folds.values()])\n",
    "\n",
    "for f in folds.keys():\n",
    "    lastCL = folds[f][-1]\n",
    "    while len(folds[f]) < longest:\n",
    "        folds[f].append(lastCL)"
   ]
  },
  {
   "cell_type": "code",
   "execution_count": 18,
   "id": "a0d68441",
   "metadata": {},
   "outputs": [
    {
     "data": {
      "text/html": [
       "<div>\n",
       "<style scoped>\n",
       "    .dataframe tbody tr th:only-of-type {\n",
       "        vertical-align: middle;\n",
       "    }\n",
       "\n",
       "    .dataframe tbody tr th {\n",
       "        vertical-align: top;\n",
       "    }\n",
       "\n",
       "    .dataframe thead th {\n",
       "        text-align: right;\n",
       "    }\n",
       "</style>\n",
       "<table border=\"1\" class=\"dataframe\">\n",
       "  <thead>\n",
       "    <tr style=\"text-align: right;\">\n",
       "      <th></th>\n",
       "      <th>fold0</th>\n",
       "      <th>fold1</th>\n",
       "      <th>fold2</th>\n",
       "      <th>fold3</th>\n",
       "      <th>fold4</th>\n",
       "    </tr>\n",
       "  </thead>\n",
       "  <tbody>\n",
       "    <tr>\n",
       "      <th>0</th>\n",
       "      <td>ACH-000741</td>\n",
       "      <td>ACH-000026</td>\n",
       "      <td>ACH-000720</td>\n",
       "      <td>ACH-000566</td>\n",
       "      <td>ACH-000890</td>\n",
       "    </tr>\n",
       "    <tr>\n",
       "      <th>1</th>\n",
       "      <td>ACH-000396</td>\n",
       "      <td>ACH-000753</td>\n",
       "      <td>ACH-000018</td>\n",
       "      <td>ACH-000011</td>\n",
       "      <td>ACH-000845</td>\n",
       "    </tr>\n",
       "    <tr>\n",
       "      <th>2</th>\n",
       "      <td>ACH-000839</td>\n",
       "      <td>ACH-000973</td>\n",
       "      <td>ACH-000905</td>\n",
       "      <td>ACH-000142</td>\n",
       "      <td>ACH-000875</td>\n",
       "    </tr>\n",
       "    <tr>\n",
       "      <th>3</th>\n",
       "      <td>ACH-000273</td>\n",
       "      <td>ACH-000231</td>\n",
       "      <td>ACH-000558</td>\n",
       "      <td>ACH-000756</td>\n",
       "      <td>ACH-000869</td>\n",
       "    </tr>\n",
       "    <tr>\n",
       "      <th>4</th>\n",
       "      <td>ACH-000323</td>\n",
       "      <td>ACH-000137</td>\n",
       "      <td>ACH-000469</td>\n",
       "      <td>ACH-000232</td>\n",
       "      <td>ACH-000572</td>\n",
       "    </tr>\n",
       "    <tr>\n",
       "      <th>...</th>\n",
       "      <td>...</td>\n",
       "      <td>...</td>\n",
       "      <td>...</td>\n",
       "      <td>...</td>\n",
       "      <td>...</td>\n",
       "    </tr>\n",
       "    <tr>\n",
       "      <th>59</th>\n",
       "      <td>ACH-000968</td>\n",
       "      <td>ACH-000458</td>\n",
       "      <td>ACH-000822</td>\n",
       "      <td>ACH-000425</td>\n",
       "      <td>ACH-000296</td>\n",
       "    </tr>\n",
       "    <tr>\n",
       "      <th>60</th>\n",
       "      <td>ACH-000968</td>\n",
       "      <td>ACH-000458</td>\n",
       "      <td>ACH-000822</td>\n",
       "      <td>ACH-000425</td>\n",
       "      <td>ACH-000619</td>\n",
       "    </tr>\n",
       "    <tr>\n",
       "      <th>61</th>\n",
       "      <td>ACH-000968</td>\n",
       "      <td>ACH-000458</td>\n",
       "      <td>ACH-000822</td>\n",
       "      <td>ACH-000425</td>\n",
       "      <td>ACH-000802</td>\n",
       "    </tr>\n",
       "    <tr>\n",
       "      <th>62</th>\n",
       "      <td>ACH-000968</td>\n",
       "      <td>ACH-000458</td>\n",
       "      <td>ACH-000822</td>\n",
       "      <td>ACH-000425</td>\n",
       "      <td>ACH-000862</td>\n",
       "    </tr>\n",
       "    <tr>\n",
       "      <th>63</th>\n",
       "      <td>ACH-000968</td>\n",
       "      <td>ACH-000458</td>\n",
       "      <td>ACH-000822</td>\n",
       "      <td>ACH-000425</td>\n",
       "      <td>ACH-000701</td>\n",
       "    </tr>\n",
       "  </tbody>\n",
       "</table>\n",
       "<p>64 rows × 5 columns</p>\n",
       "</div>"
      ],
      "text/plain": [
       "         fold0       fold1       fold2       fold3       fold4\n",
       "0   ACH-000741  ACH-000026  ACH-000720  ACH-000566  ACH-000890\n",
       "1   ACH-000396  ACH-000753  ACH-000018  ACH-000011  ACH-000845\n",
       "2   ACH-000839  ACH-000973  ACH-000905  ACH-000142  ACH-000875\n",
       "3   ACH-000273  ACH-000231  ACH-000558  ACH-000756  ACH-000869\n",
       "4   ACH-000323  ACH-000137  ACH-000469  ACH-000232  ACH-000572\n",
       "..         ...         ...         ...         ...         ...\n",
       "59  ACH-000968  ACH-000458  ACH-000822  ACH-000425  ACH-000296\n",
       "60  ACH-000968  ACH-000458  ACH-000822  ACH-000425  ACH-000619\n",
       "61  ACH-000968  ACH-000458  ACH-000822  ACH-000425  ACH-000802\n",
       "62  ACH-000968  ACH-000458  ACH-000822  ACH-000425  ACH-000862\n",
       "63  ACH-000968  ACH-000458  ACH-000822  ACH-000425  ACH-000701\n",
       "\n",
       "[64 rows x 5 columns]"
      ]
     },
     "execution_count": 18,
     "metadata": {},
     "output_type": "execute_result"
    }
   ],
   "source": [
    "foldDF = pd.DataFrame(folds)\n",
    "foldDF"
   ]
  },
  {
   "cell_type": "code",
   "execution_count": 19,
   "id": "7fbf8ef8",
   "metadata": {},
   "outputs": [],
   "source": [
    "foldDF.to_csv('../../data/processed/cellLinesForCV.csv', index=False)"
   ]
  },
  {
   "cell_type": "code",
   "execution_count": null,
   "id": "1b26c867",
   "metadata": {},
   "outputs": [],
   "source": []
  }
 ],
 "metadata": {
  "kernelspec": {
   "display_name": "Python3.8 (tf-2.2)",
   "language": "python",
   "name": "tf-gpu"
  },
  "language_info": {
   "codemirror_mode": {
    "name": "ipython",
    "version": 3
   },
   "file_extension": ".py",
   "mimetype": "text/x-python",
   "name": "python",
   "nbconvert_exporter": "python",
   "pygments_lexer": "ipython3",
   "version": "3.8.12"
  }
 },
 "nbformat": 4,
 "nbformat_minor": 5
}
