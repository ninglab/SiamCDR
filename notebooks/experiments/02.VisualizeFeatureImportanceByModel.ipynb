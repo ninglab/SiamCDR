{
 "cells": [
  {
   "cell_type": "markdown",
   "id": "ddc5de9b",
   "metadata": {},
   "source": [
    "# Import"
   ]
  },
  {
   "cell_type": "code",
   "execution_count": 2,
   "id": "f0d7153d",
   "metadata": {},
   "outputs": [],
   "source": [
    "import warnings\n",
    "warnings.filterwarnings('ignore')"
   ]
  },
  {
   "cell_type": "code",
   "execution_count": 3,
   "id": "f654ff7a",
   "metadata": {},
   "outputs": [],
   "source": [
    "import os, joblib, math, shap\n",
    "import numpy as np\n",
    "import pandas as pd\n",
    "\n",
    "from matplotlib import lines\n",
    "import matplotlib.pyplot as plt\n",
    "import matplotlib.patches as mpatches\n",
    "plt.rcParams['font.family'] = 'Helvetica'\n",
    "\n",
    "import seaborn as sns\n",
    "\n",
    "from tensorflow.keras import Sequential\n",
    "from tensorflow.keras.models import load_model, Model\n",
    "from tensorflow.keras.layers import Input, Concatenate"
   ]
  },
  {
   "cell_type": "markdown",
   "id": "ac437032",
   "metadata": {},
   "source": [
    "# Load Data"
   ]
  },
  {
   "cell_type": "markdown",
   "id": "ccf85ac2",
   "metadata": {},
   "source": [
    "## RNA"
   ]
  },
  {
   "cell_type": "code",
   "execution_count": 4,
   "id": "a6cc52e0",
   "metadata": {},
   "outputs": [],
   "source": [
    "rna = pd.read_csv('../../data/processed/RNA_train_cancergenes.csv', index_col=0)"
   ]
  },
  {
   "cell_type": "markdown",
   "id": "8cab53ee",
   "metadata": {},
   "source": [
    "## Drugs"
   ]
  },
  {
   "cell_type": "code",
   "execution_count": 5,
   "id": "9ac3daaa",
   "metadata": {},
   "outputs": [],
   "source": [
    "drugs = pd.read_csv('../../data/processed/drug_fingerprints.csv', index_col=0)"
   ]
  },
  {
   "cell_type": "markdown",
   "id": "ed09723e",
   "metadata": {},
   "source": [
    "## CDR"
   ]
  },
  {
   "cell_type": "code",
   "execution_count": 6,
   "id": "ef1d63a1",
   "metadata": {},
   "outputs": [
    {
     "data": {
      "text/html": [
       "<div>\n",
       "<style scoped>\n",
       "    .dataframe tbody tr th:only-of-type {\n",
       "        vertical-align: middle;\n",
       "    }\n",
       "\n",
       "    .dataframe tbody tr th {\n",
       "        vertical-align: top;\n",
       "    }\n",
       "\n",
       "    .dataframe thead th {\n",
       "        text-align: right;\n",
       "    }\n",
       "</style>\n",
       "<table border=\"1\" class=\"dataframe\">\n",
       "  <thead>\n",
       "    <tr style=\"text-align: right;\">\n",
       "      <th></th>\n",
       "      <th>cell_line</th>\n",
       "      <th>cancer_type</th>\n",
       "      <th>drug</th>\n",
       "      <th>ic50</th>\n",
       "      <th>auc</th>\n",
       "      <th>effectiveCont</th>\n",
       "      <th>true</th>\n",
       "    </tr>\n",
       "  </thead>\n",
       "  <tbody>\n",
       "    <tr>\n",
       "      <th>0</th>\n",
       "      <td>ACH-000320</td>\n",
       "      <td>Pancreatic Cancer</td>\n",
       "      <td>floxuridine</td>\n",
       "      <td>0.007879</td>\n",
       "      <td>0.336463</td>\n",
       "      <td>6.692422</td>\n",
       "      <td>0</td>\n",
       "    </tr>\n",
       "    <tr>\n",
       "      <th>1</th>\n",
       "      <td>ACH-001145</td>\n",
       "      <td>Ovarian Cancer</td>\n",
       "      <td>floxuridine</td>\n",
       "      <td>0.041552</td>\n",
       "      <td>0.485618</td>\n",
       "      <td>5.053845</td>\n",
       "      <td>0</td>\n",
       "    </tr>\n",
       "    <tr>\n",
       "      <th>2</th>\n",
       "      <td>ACH-000873</td>\n",
       "      <td>Esophageal Cancer</td>\n",
       "      <td>floxuridine</td>\n",
       "      <td>0.097745</td>\n",
       "      <td>0.548483</td>\n",
       "      <td>4.697597</td>\n",
       "      <td>0</td>\n",
       "    </tr>\n",
       "    <tr>\n",
       "      <th>3</th>\n",
       "      <td>ACH-000855</td>\n",
       "      <td>Esophageal Cancer</td>\n",
       "      <td>floxuridine</td>\n",
       "      <td>0.037349</td>\n",
       "      <td>0.631609</td>\n",
       "      <td>4.052632</td>\n",
       "      <td>0</td>\n",
       "    </tr>\n",
       "    <tr>\n",
       "      <th>4</th>\n",
       "      <td>ACH-000488</td>\n",
       "      <td>Esophageal Cancer</td>\n",
       "      <td>floxuridine</td>\n",
       "      <td>0.071628</td>\n",
       "      <td>0.598061</td>\n",
       "      <td>3.801377</td>\n",
       "      <td>0</td>\n",
       "    </tr>\n",
       "  </tbody>\n",
       "</table>\n",
       "</div>"
      ],
      "text/plain": [
       "    cell_line        cancer_type         drug      ic50       auc  \\\n",
       "0  ACH-000320  Pancreatic Cancer  floxuridine  0.007879  0.336463   \n",
       "1  ACH-001145     Ovarian Cancer  floxuridine  0.041552  0.485618   \n",
       "2  ACH-000873  Esophageal Cancer  floxuridine  0.097745  0.548483   \n",
       "3  ACH-000855  Esophageal Cancer  floxuridine  0.037349  0.631609   \n",
       "4  ACH-000488  Esophageal Cancer  floxuridine  0.071628  0.598061   \n",
       "\n",
       "   effectiveCont  true  \n",
       "0       6.692422     0  \n",
       "1       5.053845     0  \n",
       "2       4.697597     0  \n",
       "3       4.052632     0  \n",
       "4       3.801377     0  "
      ]
     },
     "execution_count": 6,
     "metadata": {},
     "output_type": "execute_result"
    }
   ],
   "source": [
    "cdr = pd.read_csv('../../data/processed/drugCellLinePairsData.csv')\n",
    "cdrFilt = cdr.loc[:, ['DepMap_ID', 'cancer_type', 'name', 'ic50', 'auc', 'effectiveCont', 'effective']]\n",
    "cdrFilt.rename(columns={'DepMap_ID': 'cell_line', 'name': 'drug', 'effective': 'true'}, inplace=True)\n",
    "cdrFilt.head()"
   ]
  },
  {
   "cell_type": "markdown",
   "id": "4ef46eb6",
   "metadata": {},
   "source": [
    "## Data"
   ]
  },
  {
   "cell_type": "code",
   "execution_count": 7,
   "id": "facdde1f",
   "metadata": {},
   "outputs": [],
   "source": [
    "cdr = cdrFilt[cdrFilt.cell_line.isin(rna.index)]\n",
    "cdr100 = shap.utils.sample(cdr, 100)\n",
    "cdr = shap.utils.sample(cdr, 5000)\n",
    "\n",
    "data = [drugs.loc[list(cdr.drug.values), :].to_numpy(), \n",
    "        rna.loc[list(cdr.cell_line.values), :].to_numpy()]\n",
    "\n",
    "d100 = [drugs.loc[list(cdr100.drug.values), :].to_numpy(), \n",
    "        rna.loc[list(cdr100.cell_line.values), :].to_numpy()]"
   ]
  },
  {
   "cell_type": "markdown",
   "id": "09f581da",
   "metadata": {},
   "source": [
    "# Get feature importances"
   ]
  },
  {
   "cell_type": "code",
   "execution_count": 8,
   "id": "d4efbf59",
   "metadata": {},
   "outputs": [
    {
     "data": {
      "text/plain": [
       "['./ftImportances.joblib']"
      ]
     },
     "execution_count": 8,
     "metadata": {},
     "output_type": "execute_result"
    }
   ],
   "source": [
    "ftImportance = {}\n",
    "joblib.dump(ftImportance, './ftImportances.joblib')"
   ]
  },
  {
   "cell_type": "markdown",
   "id": "05a37f56",
   "metadata": {},
   "source": [
    "## RF"
   ]
  },
  {
   "cell_type": "code",
   "execution_count": 9,
   "id": "73a5988f",
   "metadata": {},
   "outputs": [],
   "source": [
    "rf1 = f'../../models/SiamCDR/RF/EmbedDrug-EmbedCell-RF-CVfold0.joblib'\n",
    "rf2 = f'../../models/SiamCDR/RF/EmbedDrug-EmbedCell-RF-CVfold1.joblib'\n",
    "rf3 = f'../../models/SiamCDR/RF/EmbedDrug-EmbedCell-RF-CVfold2.joblib'\n",
    "rf4 = f'../../models/SiamCDR/RF/EmbedDrug-EmbedCell-RF-CVfold3.joblib'\n",
    "rf5 = f'../../models/SiamCDR/RF/EmbedDrug-EmbedCell-RF-CVfold4.joblib'\n",
    "rfs = [rf1, rf2, rf3, rf4, rf5]\n",
    "\n",
    "cols = [f'drug{i+1}' for i in range(64)]+[f'cell{i+1}' for i in range(64)]\n",
    "rfDF = pd.DataFrame(index=['f1', 'f2', 'f3', 'f4', 'f5'], columns=cols)\n",
    "for i, m in enumerate(rfs):\n",
    "    m = joblib.load(m)\n",
    "    rfDF.loc[f'f{i+1}', :] = np.abs(m.feature_importances_)"
   ]
  },
  {
   "cell_type": "code",
   "execution_count": 10,
   "id": "6630a59d",
   "metadata": {},
   "outputs": [
    {
     "data": {
      "text/html": [
       "<div>\n",
       "<style scoped>\n",
       "    .dataframe tbody tr th:only-of-type {\n",
       "        vertical-align: middle;\n",
       "    }\n",
       "\n",
       "    .dataframe tbody tr th {\n",
       "        vertical-align: top;\n",
       "    }\n",
       "\n",
       "    .dataframe thead th {\n",
       "        text-align: right;\n",
       "    }\n",
       "</style>\n",
       "<table border=\"1\" class=\"dataframe\">\n",
       "  <thead>\n",
       "    <tr style=\"text-align: right;\">\n",
       "      <th></th>\n",
       "      <th>drug1</th>\n",
       "      <th>drug2</th>\n",
       "      <th>drug3</th>\n",
       "      <th>drug4</th>\n",
       "      <th>drug5</th>\n",
       "      <th>drug6</th>\n",
       "      <th>drug7</th>\n",
       "      <th>drug8</th>\n",
       "      <th>drug9</th>\n",
       "      <th>drug10</th>\n",
       "      <th>...</th>\n",
       "      <th>cell55</th>\n",
       "      <th>cell56</th>\n",
       "      <th>cell57</th>\n",
       "      <th>cell58</th>\n",
       "      <th>cell59</th>\n",
       "      <th>cell60</th>\n",
       "      <th>cell61</th>\n",
       "      <th>cell62</th>\n",
       "      <th>cell63</th>\n",
       "      <th>cell64</th>\n",
       "    </tr>\n",
       "  </thead>\n",
       "  <tbody>\n",
       "    <tr>\n",
       "      <th>f1</th>\n",
       "      <td>0.00337</td>\n",
       "      <td>0.009158</td>\n",
       "      <td>0.011919</td>\n",
       "      <td>0.006133</td>\n",
       "      <td>0.005655</td>\n",
       "      <td>0.002692</td>\n",
       "      <td>0.010173</td>\n",
       "      <td>0.030813</td>\n",
       "      <td>0.02316</td>\n",
       "      <td>0.006533</td>\n",
       "      <td>...</td>\n",
       "      <td>0.0</td>\n",
       "      <td>0.0</td>\n",
       "      <td>0.002026</td>\n",
       "      <td>0.0</td>\n",
       "      <td>0.0</td>\n",
       "      <td>0.000312</td>\n",
       "      <td>0.027497</td>\n",
       "      <td>0.0</td>\n",
       "      <td>0.0</td>\n",
       "      <td>0.0</td>\n",
       "    </tr>\n",
       "    <tr>\n",
       "      <th>f2</th>\n",
       "      <td>0.002431</td>\n",
       "      <td>0.007445</td>\n",
       "      <td>0.009678</td>\n",
       "      <td>0.005867</td>\n",
       "      <td>0.004945</td>\n",
       "      <td>0.003138</td>\n",
       "      <td>0.013224</td>\n",
       "      <td>0.028269</td>\n",
       "      <td>0.02333</td>\n",
       "      <td>0.006316</td>\n",
       "      <td>...</td>\n",
       "      <td>0.0</td>\n",
       "      <td>0.0</td>\n",
       "      <td>0.001413</td>\n",
       "      <td>0.0</td>\n",
       "      <td>0.0</td>\n",
       "      <td>0.0</td>\n",
       "      <td>0.02831</td>\n",
       "      <td>0.0</td>\n",
       "      <td>0.0</td>\n",
       "      <td>0.0</td>\n",
       "    </tr>\n",
       "    <tr>\n",
       "      <th>f3</th>\n",
       "      <td>0.003363</td>\n",
       "      <td>0.006573</td>\n",
       "      <td>0.008676</td>\n",
       "      <td>0.005013</td>\n",
       "      <td>0.008046</td>\n",
       "      <td>0.002064</td>\n",
       "      <td>0.011936</td>\n",
       "      <td>0.028657</td>\n",
       "      <td>0.023506</td>\n",
       "      <td>0.007459</td>\n",
       "      <td>...</td>\n",
       "      <td>0.0</td>\n",
       "      <td>0.0</td>\n",
       "      <td>0.00151</td>\n",
       "      <td>0.0</td>\n",
       "      <td>0.0</td>\n",
       "      <td>0.000228</td>\n",
       "      <td>0.02887</td>\n",
       "      <td>0.0</td>\n",
       "      <td>0.0</td>\n",
       "      <td>0.0</td>\n",
       "    </tr>\n",
       "    <tr>\n",
       "      <th>f4</th>\n",
       "      <td>0.004394</td>\n",
       "      <td>0.006391</td>\n",
       "      <td>0.011883</td>\n",
       "      <td>0.005991</td>\n",
       "      <td>0.007498</td>\n",
       "      <td>0.002582</td>\n",
       "      <td>0.009166</td>\n",
       "      <td>0.031732</td>\n",
       "      <td>0.022998</td>\n",
       "      <td>0.008451</td>\n",
       "      <td>...</td>\n",
       "      <td>0.0</td>\n",
       "      <td>0.0</td>\n",
       "      <td>0.002075</td>\n",
       "      <td>0.0</td>\n",
       "      <td>0.0</td>\n",
       "      <td>0.000219</td>\n",
       "      <td>0.028481</td>\n",
       "      <td>0.0</td>\n",
       "      <td>0.0</td>\n",
       "      <td>0.0</td>\n",
       "    </tr>\n",
       "    <tr>\n",
       "      <th>f5</th>\n",
       "      <td>0.002814</td>\n",
       "      <td>0.006725</td>\n",
       "      <td>0.011703</td>\n",
       "      <td>0.007038</td>\n",
       "      <td>0.005902</td>\n",
       "      <td>0.002804</td>\n",
       "      <td>0.011445</td>\n",
       "      <td>0.031999</td>\n",
       "      <td>0.023006</td>\n",
       "      <td>0.006697</td>\n",
       "      <td>...</td>\n",
       "      <td>0.0</td>\n",
       "      <td>0.0</td>\n",
       "      <td>0.001919</td>\n",
       "      <td>0.0</td>\n",
       "      <td>0.0</td>\n",
       "      <td>0.000286</td>\n",
       "      <td>0.02592</td>\n",
       "      <td>0.0</td>\n",
       "      <td>0.0</td>\n",
       "      <td>0.0</td>\n",
       "    </tr>\n",
       "  </tbody>\n",
       "</table>\n",
       "<p>5 rows × 128 columns</p>\n",
       "</div>"
      ],
      "text/plain": [
       "       drug1     drug2     drug3     drug4     drug5     drug6     drug7  \\\n",
       "f1   0.00337  0.009158  0.011919  0.006133  0.005655  0.002692  0.010173   \n",
       "f2  0.002431  0.007445  0.009678  0.005867  0.004945  0.003138  0.013224   \n",
       "f3  0.003363  0.006573  0.008676  0.005013  0.008046  0.002064  0.011936   \n",
       "f4  0.004394  0.006391  0.011883  0.005991  0.007498  0.002582  0.009166   \n",
       "f5  0.002814  0.006725  0.011703  0.007038  0.005902  0.002804  0.011445   \n",
       "\n",
       "       drug8     drug9    drug10  ... cell55 cell56    cell57 cell58 cell59  \\\n",
       "f1  0.030813   0.02316  0.006533  ...    0.0    0.0  0.002026    0.0    0.0   \n",
       "f2  0.028269   0.02333  0.006316  ...    0.0    0.0  0.001413    0.0    0.0   \n",
       "f3  0.028657  0.023506  0.007459  ...    0.0    0.0   0.00151    0.0    0.0   \n",
       "f4  0.031732  0.022998  0.008451  ...    0.0    0.0  0.002075    0.0    0.0   \n",
       "f5  0.031999  0.023006  0.006697  ...    0.0    0.0  0.001919    0.0    0.0   \n",
       "\n",
       "      cell60    cell61 cell62 cell63 cell64  \n",
       "f1  0.000312  0.027497    0.0    0.0    0.0  \n",
       "f2       0.0   0.02831    0.0    0.0    0.0  \n",
       "f3  0.000228   0.02887    0.0    0.0    0.0  \n",
       "f4  0.000219  0.028481    0.0    0.0    0.0  \n",
       "f5  0.000286   0.02592    0.0    0.0    0.0  \n",
       "\n",
       "[5 rows x 128 columns]"
      ]
     },
     "execution_count": 10,
     "metadata": {},
     "output_type": "execute_result"
    }
   ],
   "source": [
    "rfDF"
   ]
  },
  {
   "cell_type": "code",
   "execution_count": 11,
   "id": "98683984",
   "metadata": {},
   "outputs": [
    {
     "data": {
      "text/plain": [
       "1.4390809643160715e-05"
      ]
     },
     "execution_count": 11,
     "metadata": {},
     "output_type": "execute_result"
    }
   ],
   "source": [
    "# Shows stability of importances across folds\n",
    "rfDF.var().max()"
   ]
  },
  {
   "cell_type": "code",
   "execution_count": 12,
   "id": "73c5af5b",
   "metadata": {},
   "outputs": [],
   "source": [
    "rfSeries = rfDF.mean()"
   ]
  },
  {
   "cell_type": "code",
   "execution_count": 13,
   "id": "58bb5069",
   "metadata": {},
   "outputs": [],
   "source": [
    "ftImportance['rf'] = rfSeries[rfSeries> 0.].sort_values(ascending=False)"
   ]
  },
  {
   "cell_type": "code",
   "execution_count": 14,
   "id": "c0cb0ffe",
   "metadata": {},
   "outputs": [
    {
     "data": {
      "text/plain": [
       "['./ftImportances.joblib']"
      ]
     },
     "execution_count": 14,
     "metadata": {},
     "output_type": "execute_result"
    }
   ],
   "source": [
    "joblib.dump(ftImportance, './ftImportances.joblib')"
   ]
  },
  {
   "cell_type": "code",
   "execution_count": 15,
   "id": "c5c8d87f",
   "metadata": {},
   "outputs": [],
   "source": [
    "ftImportance = joblib.load('./ftImportances.joblib')"
   ]
  },
  {
   "cell_type": "markdown",
   "id": "303bb716",
   "metadata": {},
   "source": [
    "## LR"
   ]
  },
  {
   "cell_type": "code",
   "execution_count": 16,
   "id": "d05fc625",
   "metadata": {},
   "outputs": [],
   "source": [
    "m2 = f'../../models/SiamCDR/LR/RawDrug-EmbedCell-LR-CVfold1.joblib'\n",
    "m1 = f'../../models/SiamCDR/LR/RawDrug-EmbedCell-LR-CVfold0.joblib'\n",
    "m3 = f'../../models/SiamCDR/LR/RawDrug-EmbedCell-LR-CVfold2.joblib'\n",
    "m4 = f'../../models/SiamCDR/LR/RawDrug-EmbedCell-LR-CVfold3.joblib'\n",
    "m5 = f'../../models/SiamCDR/LR/RawDrug-EmbedCell-LR-CVfold4.joblib'\n",
    "ms = [m1, m2, m3, m4, m5]\n",
    "\n",
    "cols = [f'drug{i+1}' for i in range(256)]+[f'cell{i+1}' for i in range(64)]\n",
    "mDF = pd.DataFrame(index=['f1', 'f2', 'f3', 'f4', 'f5'], columns=cols)\n",
    "for i, m in enumerate(ms):\n",
    "    m = joblib.load(m)\n",
    "    mDF.loc[f'f{i+1}', :] = m.coef_"
   ]
  },
  {
   "cell_type": "code",
   "execution_count": 17,
   "id": "94c282fd",
   "metadata": {},
   "outputs": [
    {
     "name": "stdout",
     "output_type": "stream",
     "text": [
      "1.5032193762876798\n",
      "0.38565925721023875\n",
      "0.051283679256261046\n",
      "0.007994646629072824\n"
     ]
    }
   ],
   "source": [
    "print(mDF.apply(np.abs).mean().max())\n",
    "print(mDF.apply(np.abs).mean().mean())\n",
    "print(mDF.var().max())\n",
    "print(mDF.var().mean())"
   ]
  },
  {
   "cell_type": "code",
   "execution_count": 18,
   "id": "e5661b25",
   "metadata": {},
   "outputs": [],
   "source": [
    "mDF = mDF.apply(np.abs)"
   ]
  },
  {
   "cell_type": "code",
   "execution_count": 19,
   "id": "3e47fe1a",
   "metadata": {},
   "outputs": [
    {
     "data": {
      "text/plain": [
       "drug229    1.503219\n",
       "drug98     1.476053\n",
       "drug101    1.453606\n",
       "drug1      1.435434\n",
       "drug197    1.434560\n",
       "             ...   \n",
       "cell5      0.000072\n",
       "cell10     0.000069\n",
       "cell42     0.000062\n",
       "cell43     0.000061\n",
       "cell17     0.000061\n",
       "Length: 320, dtype: float64"
      ]
     },
     "execution_count": 19,
     "metadata": {},
     "output_type": "execute_result"
    }
   ],
   "source": [
    "mSeries = mDF.mean().sort_values(ascending=False)\n",
    "mSeries"
   ]
  },
  {
   "cell_type": "code",
   "execution_count": 20,
   "id": "5deaec88",
   "metadata": {},
   "outputs": [
    {
     "data": {
      "text/plain": [
       "['./ftImportances.joblib']"
      ]
     },
     "execution_count": 20,
     "metadata": {},
     "output_type": "execute_result"
    }
   ],
   "source": [
    "ftImportance['lr'] = mSeries\n",
    "joblib.dump(ftImportance, './ftImportances.joblib')"
   ]
  },
  {
   "cell_type": "markdown",
   "id": "ae326509",
   "metadata": {},
   "source": [
    "## DNN"
   ]
  },
  {
   "cell_type": "markdown",
   "id": "66f63580",
   "metadata": {},
   "source": [
    "### Load model"
   ]
  },
  {
   "cell_type": "code",
   "execution_count": 21,
   "id": "5e42ed9d",
   "metadata": {},
   "outputs": [],
   "source": [
    "dnnBasePath = '../../models/SiamCDR/DNN/'\n",
    "dnnName = f'RawDrug-EmbedCell-DNN_NL64_64_DO0-1_AFrelu_LR0-01_DR0-99_DS500_CVfold1'\n",
    "dnnModelPath = os.path.join(dnnBasePath, dnnName)\n",
    "dnn = load_model(dnnModelPath)"
   ]
  },
  {
   "cell_type": "code",
   "execution_count": 22,
   "id": "bf038208",
   "metadata": {},
   "outputs": [
    {
     "name": "stdout",
     "output_type": "stream",
     "text": [
      "Model: \"FS-CDR\"\n",
      "__________________________________________________________________________________________________\n",
      " Layer (type)                   Output Shape         Param #     Connected to                     \n",
      "==================================================================================================\n",
      " input_9 (InputLayer)           [(None, 256)]        0           []                               \n",
      "                                                                                                  \n",
      " input_10 (InputLayer)          [(None, 463)]        0           []                               \n",
      "                                                                                                  \n",
      " pairEncoder (Functional)       (None, 320)          38016       ['input_9[0][0]',                \n",
      "                                                                  'input_10[0][0]']               \n",
      "                                                                                                  \n",
      " dense_12 (Dense)               (None, 64)           20544       ['pairEncoder[0][0]']            \n",
      "                                                                                                  \n",
      " dropout_8 (Dropout)            (None, 64)           0           ['dense_12[0][0]']               \n",
      "                                                                                                  \n",
      " dense_13 (Dense)               (None, 64)           4160        ['dropout_8[0][0]']              \n",
      "                                                                                                  \n",
      " dropout_9 (Dropout)            (None, 64)           0           ['dense_13[0][0]']               \n",
      "                                                                                                  \n",
      " dense_14 (Dense)               (None, 1)            65          ['dropout_9[0][0]']              \n",
      "                                                                                                  \n",
      "==================================================================================================\n",
      "Total params: 62,785\n",
      "Trainable params: 24,769\n",
      "Non-trainable params: 38,016\n",
      "__________________________________________________________________________________________________\n"
     ]
    }
   ],
   "source": [
    "dnn.summary()"
   ]
  },
  {
   "cell_type": "code",
   "execution_count": 23,
   "id": "8dfbd735",
   "metadata": {},
   "outputs": [],
   "source": [
    "embedDNN = dnn.get_layer('pairEncoder')"
   ]
  },
  {
   "cell_type": "code",
   "execution_count": 24,
   "id": "0dafaa12",
   "metadata": {},
   "outputs": [],
   "source": [
    "subDNN = Sequential()\n",
    "subDNN.add(Input(shape=embedDNN.outputs[0].shape[1]))\n",
    "for layer in dnn.layers[3:]:\n",
    "    subDNN.add(layer)"
   ]
  },
  {
   "cell_type": "markdown",
   "id": "28294eef",
   "metadata": {},
   "source": [
    "### SHAP feature importance"
   ]
  },
  {
   "cell_type": "code",
   "execution_count": 25,
   "id": "f77fa404",
   "metadata": {},
   "outputs": [],
   "source": [
    "cols = [f'drug{i+1}' for i in range(256)]+[f'cell{i+1}' for i in range(64)]\n",
    "\n",
    "d = embedDNN(data).numpy()\n",
    "dataDF = pd.DataFrame(d, columns=cols)\n",
    "\n",
    "d100_ = embedDNN(d100).numpy()\n",
    "d100DF = pd.DataFrame(d100_, columns=cols)"
   ]
  },
  {
   "cell_type": "code",
   "execution_count": null,
   "id": "2e19629b",
   "metadata": {},
   "outputs": [],
   "source": [
    "explainer = shap.Explainer(subDNN.predict, d100DF)\n",
    "vals = explainer(dataDF, max_evals=650).values\n",
    "valDF = pd.DataFrame(vals, columns=cols)"
   ]
  },
  {
   "cell_type": "code",
   "execution_count": 19,
   "id": "2bf664f9",
   "metadata": {},
   "outputs": [],
   "source": [
    "ftImportance = joblib.load('./ftImportances.joblib')"
   ]
  },
  {
   "cell_type": "code",
   "execution_count": 21,
   "id": "26a668fd",
   "metadata": {},
   "outputs": [],
   "source": [
    "ftImportance['dnn'] = valDF.apply(np.abs).max().sort_values(ascending=False)"
   ]
  },
  {
   "cell_type": "code",
   "execution_count": 22,
   "id": "c1b92715",
   "metadata": {},
   "outputs": [
    {
     "data": {
      "text/plain": [
       "['./ftImportances.joblib']"
      ]
     },
     "execution_count": 22,
     "metadata": {},
     "output_type": "execute_result"
    }
   ],
   "source": [
    "joblib.dump(ftImportance, './ftImportances.joblib')"
   ]
  },
  {
   "cell_type": "markdown",
   "id": "45c32012",
   "metadata": {},
   "source": [
    "## DeepDSC"
   ]
  },
  {
   "cell_type": "markdown",
   "id": "fc9f062d",
   "metadata": {},
   "source": [
    "### Load model"
   ]
  },
  {
   "cell_type": "code",
   "execution_count": 31,
   "id": "7e50ce5a",
   "metadata": {},
   "outputs": [
    {
     "name": "stdout",
     "output_type": "stream",
     "text": [
      "WARNING:tensorflow:No training configuration found in save file, so the model was *not* compiled. Compile it manually.\n"
     ]
    }
   ],
   "source": [
    "dsc = load_model('../../models/DeepDSC/DeepDSC_best')"
   ]
  },
  {
   "cell_type": "code",
   "execution_count": 36,
   "id": "c6099bf0",
   "metadata": {},
   "outputs": [],
   "source": [
    "drugInput = Input(shape=256, name='drugFPs')\n",
    "rnaInput = Input(shape=463, name='rna')\n",
    "AE = dsc.get_layer('encoder')\n",
    "comb = Concatenate()([AE(rnaInput), drugInput])\n",
    "embedDSC = Model(inputs=[drugInput, rnaInput], outputs=comb)"
   ]
  },
  {
   "cell_type": "code",
   "execution_count": 34,
   "id": "fd1623fe",
   "metadata": {},
   "outputs": [
    {
     "name": "stdout",
     "output_type": "stream",
     "text": [
      "Model: \"dnn\"\n",
      "__________________________________________________________________________________________________\n",
      " Layer (type)                   Output Shape         Param #     Connected to                     \n",
      "==================================================================================================\n",
      " RnaEncoded (InputLayer)        [(None, 32)]         0           []                               \n",
      "                                                                                                  \n",
      " DrugFingerprintInput (InputLay  [(None, 256)]       0           []                               \n",
      " er)                                                                                              \n",
      "                                                                                                  \n",
      " concatenate_14 (Concatenate)   (None, 288)          0           ['RnaEncoded[0][0]',             \n",
      "                                                                  'DrugFingerprintInput[0][0]']   \n",
      "                                                                                                  \n",
      " Hidden1 (Dense)                (None, 128)          36992       ['concatenate_14[0][0]']         \n",
      "                                                                                                  \n",
      " dropout_28 (Dropout)           (None, 128)          0           ['Hidden1[0][0]']                \n",
      "                                                                                                  \n",
      " Hidden2 (Dense)                (None, 16)           2064        ['dropout_28[0][0]']             \n",
      "                                                                                                  \n",
      " dropout_29 (Dropout)           (None, 16)           0           ['Hidden2[0][0]']                \n",
      "                                                                                                  \n",
      " Output (Dense)                 (None, 1)            17          ['dropout_29[0][0]']             \n",
      "                                                                                                  \n",
      "==================================================================================================\n",
      "Total params: 39,073\n",
      "Trainable params: 39,073\n",
      "Non-trainable params: 0\n",
      "__________________________________________________________________________________________________\n"
     ]
    }
   ],
   "source": [
    "dnn = dsc.get_layer('dnn')\n",
    "dnn.summary()"
   ]
  },
  {
   "cell_type": "code",
   "execution_count": 37,
   "id": "2f308a59",
   "metadata": {},
   "outputs": [
    {
     "name": "stdout",
     "output_type": "stream",
     "text": [
      "WARNING:tensorflow:Model was constructed with shape (None, 32) for input KerasTensor(type_spec=TensorSpec(shape=(None, 32), dtype=tf.float32, name='RnaEncoded'), name='RnaEncoded', description=\"created by layer 'RnaEncoded'\"), but it was called on an input with incompatible shape (None, 288).\n"
     ]
    },
    {
     "ename": "AssertionError",
     "evalue": "Exception encountered when calling layer \"dnn\" (type Functional).\n\nCould not compute output KerasTensor(type_spec=TensorSpec(shape=(None, 1), dtype=tf.float32, name=None), name='Output/Sigmoid:0', description=\"created by layer 'Output'\")\n\nCall arguments received:\n  • inputs=tf.Tensor(shape=(None, 288), dtype=float32)\n  • training=False\n  • mask=None",
     "output_type": "error",
     "traceback": [
      "\u001b[0;31m---------------------------------------------------------------------------\u001b[0m",
      "\u001b[0;31mAssertionError\u001b[0m                            Traceback (most recent call last)",
      "\u001b[1;32m/Users/patrick/Documents/NingLab/projects/cancer_drug_response/SiamCDR/notebooks/experiments/02.VisualizeFeatureImportanceByModel.ipynb Cell 46\u001b[0m line \u001b[0;36m4\n\u001b[1;32m      <a href='vscode-notebook-cell:/Users/patrick/Documents/NingLab/projects/cancer_drug_response/SiamCDR/notebooks/experiments/02.VisualizeFeatureImportanceByModel.ipynb#X63sZmlsZQ%3D%3D?line=1'>2</a>\u001b[0m subDSC\u001b[39m.\u001b[39madd(Input(shape\u001b[39m=\u001b[39membedDSC\u001b[39m.\u001b[39moutputs[\u001b[39m0\u001b[39m]\u001b[39m.\u001b[39mshape[\u001b[39m1\u001b[39m]))\n\u001b[1;32m      <a href='vscode-notebook-cell:/Users/patrick/Documents/NingLab/projects/cancer_drug_response/SiamCDR/notebooks/experiments/02.VisualizeFeatureImportanceByModel.ipynb#X63sZmlsZQ%3D%3D?line=2'>3</a>\u001b[0m \u001b[39mfor\u001b[39;00m layer \u001b[39min\u001b[39;00m dsc\u001b[39m.\u001b[39mlayers[\u001b[39m3\u001b[39m:]:\n\u001b[0;32m----> <a href='vscode-notebook-cell:/Users/patrick/Documents/NingLab/projects/cancer_drug_response/SiamCDR/notebooks/experiments/02.VisualizeFeatureImportanceByModel.ipynb#X63sZmlsZQ%3D%3D?line=3'>4</a>\u001b[0m     subDSC\u001b[39m.\u001b[39;49madd(layer)\n",
      "File \u001b[0;32m/usr/local/anaconda3/envs/SiamCDR/lib/python3.8/site-packages/tensorflow/python/training/tracking/base.py:629\u001b[0m, in \u001b[0;36mno_automatic_dependency_tracking.<locals>._method_wrapper\u001b[0;34m(self, *args, **kwargs)\u001b[0m\n\u001b[1;32m    627\u001b[0m \u001b[39mself\u001b[39m\u001b[39m.\u001b[39m_self_setattr_tracking \u001b[39m=\u001b[39m \u001b[39mFalse\u001b[39;00m  \u001b[39m# pylint: disable=protected-access\u001b[39;00m\n\u001b[1;32m    628\u001b[0m \u001b[39mtry\u001b[39;00m:\n\u001b[0;32m--> 629\u001b[0m   result \u001b[39m=\u001b[39m method(\u001b[39mself\u001b[39;49m, \u001b[39m*\u001b[39;49margs, \u001b[39m*\u001b[39;49m\u001b[39m*\u001b[39;49mkwargs)\n\u001b[1;32m    630\u001b[0m \u001b[39mfinally\u001b[39;00m:\n\u001b[1;32m    631\u001b[0m   \u001b[39mself\u001b[39m\u001b[39m.\u001b[39m_self_setattr_tracking \u001b[39m=\u001b[39m previous_value  \u001b[39m# pylint: disable=protected-access\u001b[39;00m\n",
      "File \u001b[0;32m/usr/local/anaconda3/envs/SiamCDR/lib/python3.8/site-packages/keras/utils/traceback_utils.py:67\u001b[0m, in \u001b[0;36mfilter_traceback.<locals>.error_handler\u001b[0;34m(*args, **kwargs)\u001b[0m\n\u001b[1;32m     65\u001b[0m \u001b[39mexcept\u001b[39;00m \u001b[39mException\u001b[39;00m \u001b[39mas\u001b[39;00m e:  \u001b[39m# pylint: disable=broad-except\u001b[39;00m\n\u001b[1;32m     66\u001b[0m   filtered_tb \u001b[39m=\u001b[39m _process_traceback_frames(e\u001b[39m.\u001b[39m__traceback__)\n\u001b[0;32m---> 67\u001b[0m   \u001b[39mraise\u001b[39;00m e\u001b[39m.\u001b[39mwith_traceback(filtered_tb) \u001b[39mfrom\u001b[39;00m \u001b[39mNone\u001b[39;00m\n\u001b[1;32m     68\u001b[0m \u001b[39mfinally\u001b[39;00m:\n\u001b[1;32m     69\u001b[0m   \u001b[39mdel\u001b[39;00m filtered_tb\n",
      "File \u001b[0;32m/usr/local/anaconda3/envs/SiamCDR/lib/python3.8/site-packages/keras/engine/functional.py:598\u001b[0m, in \u001b[0;36mFunctional._run_internal_graph\u001b[0;34m(self, inputs, training, mask)\u001b[0m\n\u001b[1;32m    596\u001b[0m \u001b[39mfor\u001b[39;00m x \u001b[39min\u001b[39;00m \u001b[39mself\u001b[39m\u001b[39m.\u001b[39moutputs:\n\u001b[1;32m    597\u001b[0m   x_id \u001b[39m=\u001b[39m \u001b[39mstr\u001b[39m(\u001b[39mid\u001b[39m(x))\n\u001b[0;32m--> 598\u001b[0m   \u001b[39massert\u001b[39;00m x_id \u001b[39min\u001b[39;00m tensor_dict, \u001b[39m'\u001b[39m\u001b[39mCould not compute output \u001b[39m\u001b[39m'\u001b[39m \u001b[39m+\u001b[39m \u001b[39mstr\u001b[39m(x)\n\u001b[1;32m    599\u001b[0m   output_tensors\u001b[39m.\u001b[39mappend(tensor_dict[x_id]\u001b[39m.\u001b[39mpop())\n\u001b[1;32m    601\u001b[0m \u001b[39mreturn\u001b[39;00m tf\u001b[39m.\u001b[39mnest\u001b[39m.\u001b[39mpack_sequence_as(\u001b[39mself\u001b[39m\u001b[39m.\u001b[39m_nested_outputs, output_tensors)\n",
      "\u001b[0;31mAssertionError\u001b[0m: Exception encountered when calling layer \"dnn\" (type Functional).\n\nCould not compute output KerasTensor(type_spec=TensorSpec(shape=(None, 1), dtype=tf.float32, name=None), name='Output/Sigmoid:0', description=\"created by layer 'Output'\")\n\nCall arguments received:\n  • inputs=tf.Tensor(shape=(None, 288), dtype=float32)\n  • training=False\n  • mask=None"
     ]
    }
   ],
   "source": [
    "subDSC = Sequential()\n",
    "subDSC.add(Input(shape=embedDSC.outputs[0].shape[1]))\n",
    "for layer in dsc.layers[3:]:\n",
    "    subDSC.add(layer)"
   ]
  },
  {
   "cell_type": "markdown",
   "id": "0ba6bb8a",
   "metadata": {},
   "source": [
    "### SHAP feature importance"
   ]
  },
  {
   "cell_type": "code",
   "execution_count": 14,
   "id": "bd05fa8e",
   "metadata": {},
   "outputs": [],
   "source": [
    "cols = [f'cell{i+1}' for i in range(32)] + [f'drug{i+1}' for i in range(256)]\n",
    "\n",
    "d = embedDSC(data).numpy()\n",
    "dataDF = pd.DataFrame(d, columns=cols)\n",
    "\n",
    "d100_ = embedDSC(d100).numpy()\n",
    "d100DF = pd.DataFrame(d100_, columns=cols)"
   ]
  },
  {
   "cell_type": "code",
   "execution_count": 15,
   "id": "4eb78ad8",
   "metadata": {},
   "outputs": [
    {
     "name": "stderr",
     "output_type": "stream",
     "text": [
      "Permutation explainer: 5001it [1:43:09,  1.24s/it]                          \n"
     ]
    }
   ],
   "source": [
    "explainer = shap.Explainer(subDSC.predict, d100DF)\n",
    "vals = explainer(dataDF, max_evals=650).values\n",
    "valDF = pd.DataFrame(vals, columns=cols)"
   ]
  },
  {
   "cell_type": "code",
   "execution_count": 16,
   "id": "79185771",
   "metadata": {},
   "outputs": [],
   "source": [
    "ftImportance = joblib.load('./ftImportances.joblib')"
   ]
  },
  {
   "cell_type": "code",
   "execution_count": 18,
   "id": "beaa92c7",
   "metadata": {},
   "outputs": [],
   "source": [
    "ftImportance['dsc'] = valDF.apply(np.abs).max().sort_values(ascending=False)"
   ]
  },
  {
   "cell_type": "code",
   "execution_count": 19,
   "id": "29579e84",
   "metadata": {},
   "outputs": [
    {
     "data": {
      "text/plain": [
       "['./ftImportances.joblib']"
      ]
     },
     "execution_count": 19,
     "metadata": {},
     "output_type": "execute_result"
    }
   ],
   "source": [
    "joblib.dump(ftImportance, './ftImportances.joblib')"
   ]
  },
  {
   "cell_type": "markdown",
   "id": "eed226f3",
   "metadata": {},
   "source": [
    "# Visualize pred correlation to effective score with respect to each drug"
   ]
  },
  {
   "cell_type": "code",
   "execution_count": 9,
   "id": "e4168d32",
   "metadata": {},
   "outputs": [],
   "source": [
    "ftImportance = joblib.load('./ftImportances.joblib')"
   ]
  },
  {
   "cell_type": "code",
   "execution_count": 10,
   "id": "35f1f041",
   "metadata": {},
   "outputs": [],
   "source": [
    "def minMaxNorm(series):\n",
    "    return (series - series.min()) / (series.max() - series.min())\n",
    "\n",
    "def plotBiColorLine(subplot, x, c, w):\n",
    "    # plot line\n",
    "    subplot.axhline(x, linestyle='-', linewidth=w+1, color='black')\n",
    "    subplot.axhline(x, linestyle='-', linewidth=w, color=c)\n",
    "    \n",
    "    # get patch for legend\n",
    "    dl1 = lines.Line2D([], [], linestyle=\"-\", linewidth=w+1,  color='black')\n",
    "    dl2 = lines.Line2D([], [], linestyle=\"-\", linewidth=w, color=c)\n",
    "    return (dl1, dl2)\n",
    "\n",
    "def vizImportance(subplt, series, txt, xloc, drugColor='#377eb8', cellColor='#e41a1c', addLegend=False):\n",
    "    # Scale importances and sort\n",
    "    series = minMaxNorm(series)\n",
    "    avgDrugImportance = series[series.index.str.startswith('drug')].mean()\n",
    "    avgCellImportance = series[series.index.str.startswith('cell')].mean()\n",
    "    series = series[series > 0.01].sort_values(ascending=False)\n",
    "    if series.shape[0] > 100:\n",
    "        series = series.iloc[:100]\n",
    "    \n",
    "    \n",
    "    # define bar colors\n",
    "    colors = []\n",
    "    for idx in series.index:\n",
    "        if idx.startswith('drug'):\n",
    "            colors.append(drugColor)\n",
    "        else:\n",
    "            colors.append(cellColor)\n",
    "    \n",
    "    # plot feature importance\n",
    "    subplt.bar(series.index, series.values, color=colors, edgecolor='black', linewidth=0.5)\n",
    "    \n",
    "    # plot avg importance by feature type\n",
    "    cellLinePatch = plotBiColorLine(subplt, avgCellImportance, cellColor, 3)\n",
    "    drugLinePatch = plotBiColorLine(subplt, avgDrugImportance, drugColor, 3)\n",
    "    \n",
    "    subplt.text(xloc, 0.95, txt,\n",
    "                color='black', weight='bold')\n",
    "    \n",
    "    # create legend\n",
    "    if addLegend:\n",
    "        drugFtPatch = mpatches.Patch(color=drugColor)\n",
    "        drugFtLabel= 'Drug features'\n",
    "        cellFtPatch = mpatches.Patch(color=cellColor)\n",
    "        cellFtLabel = 'Cell line features'\n",
    "        \n",
    "        handles = [drugFtPatch, cellFtPatch, \n",
    "                   drugLinePatch, cellLinePatch]\n",
    "        labels = [drugFtLabel, \n",
    "                  cellFtLabel, \n",
    "                 'Avg relative drug feature importance', \n",
    "                 'Avg relative cell line feature importance']\n",
    "        \n",
    "        subplt.legend(handles, labels, loc=1, fontsize=20)\n",
    "    \n",
    "    # format plot\n",
    "    subplt.set_xlim([0-0.5,len(series)-0.5])\n",
    "    subplt.set_xticks([])\n",
    "    subplt.set_ylim([0.0,1.0])\n",
    "    subplt.set_yticks([0,1], labels=['0', '1'], fontsize=15)"
   ]
  },
  {
   "cell_type": "code",
   "execution_count": 12,
   "id": "23bcd953",
   "metadata": {},
   "outputs": [
    {
     "data": {
      "image/png": "[encoded data removed]",
      "text/plain": [
       "<Figure size 1700x1500 with 4 Axes>"
      ]
     },
     "metadata": {},
     "output_type": "display_data"
    }
   ],
   "source": [
    "sns.set_theme()\n",
    "sns.set_context(\"paper\")\n",
    "sns.set(font_scale = 2.25)\n",
    "rc = {'axes.facecolor': 'white',\n",
    "      'axes.grid': True,\n",
    "      'grid.color': '0.8',\n",
    "      'font.family': 'sans-serif',\n",
    "      'font.sans-serif': 'Helvetica'}\n",
    "plt.rcParams.update(rc)\n",
    "\n",
    "\n",
    "fig, ax = plt.subplots(4, figsize=(17,15))\n",
    "for name, vals in ftImportance.items():\n",
    "    if 'dsc' in name.lower():\n",
    "        m = 'DeepDSC'; r = 0; c = 0; leg=True; txt = 'a'; xloc = -5\n",
    "    elif 'rf' in name.lower():\n",
    "        m = \"SiamCDR$_{\\mathrm{RF}}$\"; r = 1; c = 1; leg=False; txt = 'b'; xloc = -4.2\n",
    "    elif 'lm' in name.lower():\n",
    "        m = \"SiamCDR$_{\\mathrm{LR}}$\"; r = 2; c = 0; leg=False; txt = 'c'; xloc = -5\n",
    "    elif 'dnn' in name.lower():\n",
    "        m = \"SiamCDR$_{\\mathrm{DNN}}$\";  r = 3; c = 1; leg=False; txt = 'd'; xloc = -5\n",
    "        \n",
    "    subplt = ax[r]#[c]\n",
    "    vizImportance(subplt, vals, txt, xloc, drugColor='#377eb8', cellColor='#e41a1c', addLegend=leg)\n",
    "    subplt.set_xlabel(m, fontsize=20)\n",
    "    for border in ['top', 'bottom', 'left', 'right']:\n",
    "        subplt.spines[border].set_visible(True)\n",
    "        subplt.spines[border].set_color(\"0.4\")\n",
    "        subplt.spines[border].set_linewidth(1)\n",
    "\n",
    "plt.savefig(\"./figure3.pdf\", dpi=1200, bbox_inches=\"tight\")\n",
    "plt.show()"
   ]
  },
  {
   "cell_type": "code",
   "execution_count": null,
   "id": "3ff13570",
   "metadata": {},
   "outputs": [],
   "source": []
  }
 ],
 "metadata": {
  "kernelspec": {
   "display_name": "SiamCDR",
   "language": "python",
   "name": "python3"
  },
  "language_info": {
   "codemirror_mode": {
    "name": "ipython",
    "version": 3
   },
   "file_extension": ".py",
   "mimetype": "text/x-python",
   "name": "python",
   "nbconvert_exporter": "python",
   "pygments_lexer": "ipython3",
   "version": "3.8.15"
  }
 },
 "nbformat": 4,
 "nbformat_minor": 5
}
